{
 "cells": [
  {
   "cell_type": "markdown",
   "id": "c5a92586-05eb-4c3a-8a65-81a38b3ff3e8",
   "metadata": {},
   "source": [
    "# House Prices - Advanced Regression Techniques\n",
    "Predict sales prices and practice feature engineering, RFs, and gradient boosting\n",
    "\n",
    "File descriptions:\n",
    "- **train.csv** - the training set\n",
    "- **test.csv** - the test set\n",
    "- **data_description.txt** - full description of each column, originally prepared by Dean De Cock but lightly edited to match the column names used here\n",
    "- **sample_submission.csv** - a benchmark submission from a linear regression on year and month of sale, lot square footage, and number of bedrooms"
   ]
  },
  {
   "cell_type": "markdown",
   "id": "b2386719-52e6-4fd9-beb1-2b1c86b28f20",
   "metadata": {},
   "source": [
    "## Import Libraries"
   ]
  },
  {
   "cell_type": "code",
   "execution_count": 1,
   "id": "dfeedf9d-eeb5-4b8b-95e1-00b355ae117d",
   "metadata": {},
   "outputs": [],
   "source": [
    "# Data manupluation libraeis\n",
    "import pandas as pd\n",
    "import numpy as np\n",
    "import seaborn as sns\n",
    "import matplotlib.pyplot as plt\n",
    "%matplotlib inline\n",
    "import pyarrow.parquet"
   ]
  },
  {
   "cell_type": "code",
   "execution_count": 49,
   "id": "e3af6849-8432-47fe-b9f9-a42ec785812c",
   "metadata": {},
   "outputs": [
    {
     "name": "stdout",
     "output_type": "stream",
     "text": [
      "CPU times: total: 31.2 ms\n",
      "Wall time: 33.9 ms\n"
     ]
    },
    {
     "data": {
      "text/html": [
       "<div>\n",
       "<style scoped>\n",
       "    .dataframe tbody tr th:only-of-type {\n",
       "        vertical-align: middle;\n",
       "    }\n",
       "\n",
       "    .dataframe tbody tr th {\n",
       "        vertical-align: top;\n",
       "    }\n",
       "\n",
       "    .dataframe thead th {\n",
       "        text-align: right;\n",
       "    }\n",
       "</style>\n",
       "<table border=\"1\" class=\"dataframe\">\n",
       "  <thead>\n",
       "    <tr style=\"text-align: right;\">\n",
       "      <th></th>\n",
       "      <th>Id</th>\n",
       "      <th>MSSubClass</th>\n",
       "      <th>MSZoning</th>\n",
       "      <th>LotFrontage</th>\n",
       "      <th>LotArea</th>\n",
       "      <th>Street</th>\n",
       "      <th>Alley</th>\n",
       "      <th>LotShape</th>\n",
       "      <th>LandContour</th>\n",
       "      <th>Utilities</th>\n",
       "      <th>...</th>\n",
       "      <th>PoolArea</th>\n",
       "      <th>PoolQC</th>\n",
       "      <th>Fence</th>\n",
       "      <th>MiscFeature</th>\n",
       "      <th>MiscVal</th>\n",
       "      <th>MoSold</th>\n",
       "      <th>YrSold</th>\n",
       "      <th>SaleType</th>\n",
       "      <th>SaleCondition</th>\n",
       "      <th>SalePrice</th>\n",
       "    </tr>\n",
       "  </thead>\n",
       "  <tbody>\n",
       "    <tr>\n",
       "      <th>0</th>\n",
       "      <td>1</td>\n",
       "      <td>60</td>\n",
       "      <td>RL</td>\n",
       "      <td>65.0</td>\n",
       "      <td>8450</td>\n",
       "      <td>Pave</td>\n",
       "      <td>NaN</td>\n",
       "      <td>Reg</td>\n",
       "      <td>Lvl</td>\n",
       "      <td>AllPub</td>\n",
       "      <td>...</td>\n",
       "      <td>0</td>\n",
       "      <td>NaN</td>\n",
       "      <td>NaN</td>\n",
       "      <td>NaN</td>\n",
       "      <td>0</td>\n",
       "      <td>2</td>\n",
       "      <td>2008</td>\n",
       "      <td>WD</td>\n",
       "      <td>Normal</td>\n",
       "      <td>208500</td>\n",
       "    </tr>\n",
       "    <tr>\n",
       "      <th>1</th>\n",
       "      <td>2</td>\n",
       "      <td>20</td>\n",
       "      <td>RL</td>\n",
       "      <td>80.0</td>\n",
       "      <td>9600</td>\n",
       "      <td>Pave</td>\n",
       "      <td>NaN</td>\n",
       "      <td>Reg</td>\n",
       "      <td>Lvl</td>\n",
       "      <td>AllPub</td>\n",
       "      <td>...</td>\n",
       "      <td>0</td>\n",
       "      <td>NaN</td>\n",
       "      <td>NaN</td>\n",
       "      <td>NaN</td>\n",
       "      <td>0</td>\n",
       "      <td>5</td>\n",
       "      <td>2007</td>\n",
       "      <td>WD</td>\n",
       "      <td>Normal</td>\n",
       "      <td>181500</td>\n",
       "    </tr>\n",
       "    <tr>\n",
       "      <th>2</th>\n",
       "      <td>3</td>\n",
       "      <td>60</td>\n",
       "      <td>RL</td>\n",
       "      <td>68.0</td>\n",
       "      <td>11250</td>\n",
       "      <td>Pave</td>\n",
       "      <td>NaN</td>\n",
       "      <td>IR1</td>\n",
       "      <td>Lvl</td>\n",
       "      <td>AllPub</td>\n",
       "      <td>...</td>\n",
       "      <td>0</td>\n",
       "      <td>NaN</td>\n",
       "      <td>NaN</td>\n",
       "      <td>NaN</td>\n",
       "      <td>0</td>\n",
       "      <td>9</td>\n",
       "      <td>2008</td>\n",
       "      <td>WD</td>\n",
       "      <td>Normal</td>\n",
       "      <td>223500</td>\n",
       "    </tr>\n",
       "    <tr>\n",
       "      <th>3</th>\n",
       "      <td>4</td>\n",
       "      <td>70</td>\n",
       "      <td>RL</td>\n",
       "      <td>60.0</td>\n",
       "      <td>9550</td>\n",
       "      <td>Pave</td>\n",
       "      <td>NaN</td>\n",
       "      <td>IR1</td>\n",
       "      <td>Lvl</td>\n",
       "      <td>AllPub</td>\n",
       "      <td>...</td>\n",
       "      <td>0</td>\n",
       "      <td>NaN</td>\n",
       "      <td>NaN</td>\n",
       "      <td>NaN</td>\n",
       "      <td>0</td>\n",
       "      <td>2</td>\n",
       "      <td>2006</td>\n",
       "      <td>WD</td>\n",
       "      <td>Abnorml</td>\n",
       "      <td>140000</td>\n",
       "    </tr>\n",
       "    <tr>\n",
       "      <th>4</th>\n",
       "      <td>5</td>\n",
       "      <td>60</td>\n",
       "      <td>RL</td>\n",
       "      <td>84.0</td>\n",
       "      <td>14260</td>\n",
       "      <td>Pave</td>\n",
       "      <td>NaN</td>\n",
       "      <td>IR1</td>\n",
       "      <td>Lvl</td>\n",
       "      <td>AllPub</td>\n",
       "      <td>...</td>\n",
       "      <td>0</td>\n",
       "      <td>NaN</td>\n",
       "      <td>NaN</td>\n",
       "      <td>NaN</td>\n",
       "      <td>0</td>\n",
       "      <td>12</td>\n",
       "      <td>2008</td>\n",
       "      <td>WD</td>\n",
       "      <td>Normal</td>\n",
       "      <td>250000</td>\n",
       "    </tr>\n",
       "  </tbody>\n",
       "</table>\n",
       "<p>5 rows × 81 columns</p>\n",
       "</div>"
      ],
      "text/plain": [
       "   Id  MSSubClass MSZoning  LotFrontage  LotArea Street Alley LotShape  \\\n",
       "0   1          60       RL         65.0     8450   Pave   NaN      Reg   \n",
       "1   2          20       RL         80.0     9600   Pave   NaN      Reg   \n",
       "2   3          60       RL         68.0    11250   Pave   NaN      IR1   \n",
       "3   4          70       RL         60.0     9550   Pave   NaN      IR1   \n",
       "4   5          60       RL         84.0    14260   Pave   NaN      IR1   \n",
       "\n",
       "  LandContour Utilities  ... PoolArea PoolQC Fence MiscFeature MiscVal MoSold  \\\n",
       "0         Lvl    AllPub  ...        0    NaN   NaN         NaN       0      2   \n",
       "1         Lvl    AllPub  ...        0    NaN   NaN         NaN       0      5   \n",
       "2         Lvl    AllPub  ...        0    NaN   NaN         NaN       0      9   \n",
       "3         Lvl    AllPub  ...        0    NaN   NaN         NaN       0      2   \n",
       "4         Lvl    AllPub  ...        0    NaN   NaN         NaN       0     12   \n",
       "\n",
       "  YrSold  SaleType  SaleCondition  SalePrice  \n",
       "0   2008        WD         Normal     208500  \n",
       "1   2007        WD         Normal     181500  \n",
       "2   2008        WD         Normal     223500  \n",
       "3   2006        WD        Abnorml     140000  \n",
       "4   2008        WD         Normal     250000  \n",
       "\n",
       "[5 rows x 81 columns]"
      ]
     },
     "execution_count": 49,
     "metadata": {},
     "output_type": "execute_result"
    }
   ],
   "source": [
    "%%time\n",
    "train_df_raw = pd.read_csv('train.csv')\n",
    "test_df_raw = pd.read_csv('test.csv')\n",
    "train_df_raw.head()"
   ]
  },
  {
   "cell_type": "code",
   "execution_count": 50,
   "id": "9b91212c-7ea6-48a8-af03-b7e94af97e7c",
   "metadata": {},
   "outputs": [
    {
     "data": {
      "text/html": [
       "<div>\n",
       "<style scoped>\n",
       "    .dataframe tbody tr th:only-of-type {\n",
       "        vertical-align: middle;\n",
       "    }\n",
       "\n",
       "    .dataframe tbody tr th {\n",
       "        vertical-align: top;\n",
       "    }\n",
       "\n",
       "    .dataframe thead th {\n",
       "        text-align: right;\n",
       "    }\n",
       "</style>\n",
       "<table border=\"1\" class=\"dataframe\">\n",
       "  <thead>\n",
       "    <tr style=\"text-align: right;\">\n",
       "      <th></th>\n",
       "      <th>Id</th>\n",
       "      <th>MSSubClass</th>\n",
       "      <th>MSZoning</th>\n",
       "      <th>LotFrontage</th>\n",
       "      <th>LotArea</th>\n",
       "      <th>Street</th>\n",
       "      <th>Alley</th>\n",
       "      <th>LotShape</th>\n",
       "      <th>LandContour</th>\n",
       "      <th>Utilities</th>\n",
       "      <th>...</th>\n",
       "      <th>ScreenPorch</th>\n",
       "      <th>PoolArea</th>\n",
       "      <th>PoolQC</th>\n",
       "      <th>Fence</th>\n",
       "      <th>MiscFeature</th>\n",
       "      <th>MiscVal</th>\n",
       "      <th>MoSold</th>\n",
       "      <th>YrSold</th>\n",
       "      <th>SaleType</th>\n",
       "      <th>SaleCondition</th>\n",
       "    </tr>\n",
       "  </thead>\n",
       "  <tbody>\n",
       "    <tr>\n",
       "      <th>0</th>\n",
       "      <td>1461</td>\n",
       "      <td>20</td>\n",
       "      <td>RH</td>\n",
       "      <td>80.0</td>\n",
       "      <td>11622</td>\n",
       "      <td>Pave</td>\n",
       "      <td>NaN</td>\n",
       "      <td>Reg</td>\n",
       "      <td>Lvl</td>\n",
       "      <td>AllPub</td>\n",
       "      <td>...</td>\n",
       "      <td>120</td>\n",
       "      <td>0</td>\n",
       "      <td>NaN</td>\n",
       "      <td>MnPrv</td>\n",
       "      <td>NaN</td>\n",
       "      <td>0</td>\n",
       "      <td>6</td>\n",
       "      <td>2010</td>\n",
       "      <td>WD</td>\n",
       "      <td>Normal</td>\n",
       "    </tr>\n",
       "    <tr>\n",
       "      <th>1</th>\n",
       "      <td>1462</td>\n",
       "      <td>20</td>\n",
       "      <td>RL</td>\n",
       "      <td>81.0</td>\n",
       "      <td>14267</td>\n",
       "      <td>Pave</td>\n",
       "      <td>NaN</td>\n",
       "      <td>IR1</td>\n",
       "      <td>Lvl</td>\n",
       "      <td>AllPub</td>\n",
       "      <td>...</td>\n",
       "      <td>0</td>\n",
       "      <td>0</td>\n",
       "      <td>NaN</td>\n",
       "      <td>NaN</td>\n",
       "      <td>Gar2</td>\n",
       "      <td>12500</td>\n",
       "      <td>6</td>\n",
       "      <td>2010</td>\n",
       "      <td>WD</td>\n",
       "      <td>Normal</td>\n",
       "    </tr>\n",
       "    <tr>\n",
       "      <th>2</th>\n",
       "      <td>1463</td>\n",
       "      <td>60</td>\n",
       "      <td>RL</td>\n",
       "      <td>74.0</td>\n",
       "      <td>13830</td>\n",
       "      <td>Pave</td>\n",
       "      <td>NaN</td>\n",
       "      <td>IR1</td>\n",
       "      <td>Lvl</td>\n",
       "      <td>AllPub</td>\n",
       "      <td>...</td>\n",
       "      <td>0</td>\n",
       "      <td>0</td>\n",
       "      <td>NaN</td>\n",
       "      <td>MnPrv</td>\n",
       "      <td>NaN</td>\n",
       "      <td>0</td>\n",
       "      <td>3</td>\n",
       "      <td>2010</td>\n",
       "      <td>WD</td>\n",
       "      <td>Normal</td>\n",
       "    </tr>\n",
       "    <tr>\n",
       "      <th>3</th>\n",
       "      <td>1464</td>\n",
       "      <td>60</td>\n",
       "      <td>RL</td>\n",
       "      <td>78.0</td>\n",
       "      <td>9978</td>\n",
       "      <td>Pave</td>\n",
       "      <td>NaN</td>\n",
       "      <td>IR1</td>\n",
       "      <td>Lvl</td>\n",
       "      <td>AllPub</td>\n",
       "      <td>...</td>\n",
       "      <td>0</td>\n",
       "      <td>0</td>\n",
       "      <td>NaN</td>\n",
       "      <td>NaN</td>\n",
       "      <td>NaN</td>\n",
       "      <td>0</td>\n",
       "      <td>6</td>\n",
       "      <td>2010</td>\n",
       "      <td>WD</td>\n",
       "      <td>Normal</td>\n",
       "    </tr>\n",
       "    <tr>\n",
       "      <th>4</th>\n",
       "      <td>1465</td>\n",
       "      <td>120</td>\n",
       "      <td>RL</td>\n",
       "      <td>43.0</td>\n",
       "      <td>5005</td>\n",
       "      <td>Pave</td>\n",
       "      <td>NaN</td>\n",
       "      <td>IR1</td>\n",
       "      <td>HLS</td>\n",
       "      <td>AllPub</td>\n",
       "      <td>...</td>\n",
       "      <td>144</td>\n",
       "      <td>0</td>\n",
       "      <td>NaN</td>\n",
       "      <td>NaN</td>\n",
       "      <td>NaN</td>\n",
       "      <td>0</td>\n",
       "      <td>1</td>\n",
       "      <td>2010</td>\n",
       "      <td>WD</td>\n",
       "      <td>Normal</td>\n",
       "    </tr>\n",
       "  </tbody>\n",
       "</table>\n",
       "<p>5 rows × 80 columns</p>\n",
       "</div>"
      ],
      "text/plain": [
       "     Id  MSSubClass MSZoning  LotFrontage  LotArea Street Alley LotShape  \\\n",
       "0  1461          20       RH         80.0    11622   Pave   NaN      Reg   \n",
       "1  1462          20       RL         81.0    14267   Pave   NaN      IR1   \n",
       "2  1463          60       RL         74.0    13830   Pave   NaN      IR1   \n",
       "3  1464          60       RL         78.0     9978   Pave   NaN      IR1   \n",
       "4  1465         120       RL         43.0     5005   Pave   NaN      IR1   \n",
       "\n",
       "  LandContour Utilities  ... ScreenPorch PoolArea PoolQC  Fence MiscFeature  \\\n",
       "0         Lvl    AllPub  ...         120        0    NaN  MnPrv         NaN   \n",
       "1         Lvl    AllPub  ...           0        0    NaN    NaN        Gar2   \n",
       "2         Lvl    AllPub  ...           0        0    NaN  MnPrv         NaN   \n",
       "3         Lvl    AllPub  ...           0        0    NaN    NaN         NaN   \n",
       "4         HLS    AllPub  ...         144        0    NaN    NaN         NaN   \n",
       "\n",
       "  MiscVal MoSold  YrSold  SaleType  SaleCondition  \n",
       "0       0      6    2010        WD         Normal  \n",
       "1   12500      6    2010        WD         Normal  \n",
       "2       0      3    2010        WD         Normal  \n",
       "3       0      6    2010        WD         Normal  \n",
       "4       0      1    2010        WD         Normal  \n",
       "\n",
       "[5 rows x 80 columns]"
      ]
     },
     "execution_count": 50,
     "metadata": {},
     "output_type": "execute_result"
    }
   ],
   "source": [
    "test_df_raw.head()"
   ]
  },
  {
   "cell_type": "markdown",
   "id": "b45a1615-fdeb-4203-b13a-671f5d1d2629",
   "metadata": {},
   "source": [
    "## Convert CSV to Parquet for better performance"
   ]
  },
  {
   "cell_type": "code",
   "execution_count": 4,
   "id": "db983de8-1248-48d0-8f14-71e5b261332d",
   "metadata": {},
   "outputs": [],
   "source": [
    "#train_df_raw.to_parquet('train.parquet')"
   ]
  },
  {
   "cell_type": "markdown",
   "id": "2a043f93-6b5d-477f-9fed-e17e23c9343b",
   "metadata": {},
   "source": [
    "## Import Parquet Data"
   ]
  },
  {
   "cell_type": "code",
   "execution_count": 5,
   "id": "c279c2dc-f152-4d91-a5c6-0cdf3da17ffa",
   "metadata": {},
   "outputs": [],
   "source": [
    "# %%time\n",
    "# df = pd.read_parquet('train.parquet')\n",
    "# df.head()"
   ]
  },
  {
   "cell_type": "markdown",
   "id": "e6689948-87fc-4c34-81e1-1e5bd193783d",
   "metadata": {},
   "source": [
    "## Basic Data exploration using Pandas"
   ]
  },
  {
   "cell_type": "code",
   "execution_count": 6,
   "id": "49fff10e-31b9-443f-8772-cfe5682fdbb1",
   "metadata": {},
   "outputs": [
    {
     "name": "stdout",
     "output_type": "stream",
     "text": [
      "<class 'pandas.core.frame.DataFrame'>\n",
      "RangeIndex: 1460 entries, 0 to 1459\n",
      "Data columns (total 81 columns):\n",
      " #   Column         Non-Null Count  Dtype  \n",
      "---  ------         --------------  -----  \n",
      " 0   Id             1460 non-null   int64  \n",
      " 1   MSSubClass     1460 non-null   int64  \n",
      " 2   MSZoning       1460 non-null   object \n",
      " 3   LotFrontage    1201 non-null   float64\n",
      " 4   LotArea        1460 non-null   int64  \n",
      " 5   Street         1460 non-null   object \n",
      " 6   Alley          91 non-null     object \n",
      " 7   LotShape       1460 non-null   object \n",
      " 8   LandContour    1460 non-null   object \n",
      " 9   Utilities      1460 non-null   object \n",
      " 10  LotConfig      1460 non-null   object \n",
      " 11  LandSlope      1460 non-null   object \n",
      " 12  Neighborhood   1460 non-null   object \n",
      " 13  Condition1     1460 non-null   object \n",
      " 14  Condition2     1460 non-null   object \n",
      " 15  BldgType       1460 non-null   object \n",
      " 16  HouseStyle     1460 non-null   object \n",
      " 17  OverallQual    1460 non-null   int64  \n",
      " 18  OverallCond    1460 non-null   int64  \n",
      " 19  YearBuilt      1460 non-null   int64  \n",
      " 20  YearRemodAdd   1460 non-null   int64  \n",
      " 21  RoofStyle      1460 non-null   object \n",
      " 22  RoofMatl       1460 non-null   object \n",
      " 23  Exterior1st    1460 non-null   object \n",
      " 24  Exterior2nd    1460 non-null   object \n",
      " 25  MasVnrType     1452 non-null   object \n",
      " 26  MasVnrArea     1452 non-null   float64\n",
      " 27  ExterQual      1460 non-null   object \n",
      " 28  ExterCond      1460 non-null   object \n",
      " 29  Foundation     1460 non-null   object \n",
      " 30  BsmtQual       1423 non-null   object \n",
      " 31  BsmtCond       1423 non-null   object \n",
      " 32  BsmtExposure   1422 non-null   object \n",
      " 33  BsmtFinType1   1423 non-null   object \n",
      " 34  BsmtFinSF1     1460 non-null   int64  \n",
      " 35  BsmtFinType2   1422 non-null   object \n",
      " 36  BsmtFinSF2     1460 non-null   int64  \n",
      " 37  BsmtUnfSF      1460 non-null   int64  \n",
      " 38  TotalBsmtSF    1460 non-null   int64  \n",
      " 39  Heating        1460 non-null   object \n",
      " 40  HeatingQC      1460 non-null   object \n",
      " 41  CentralAir     1460 non-null   object \n",
      " 42  Electrical     1459 non-null   object \n",
      " 43  1stFlrSF       1460 non-null   int64  \n",
      " 44  2ndFlrSF       1460 non-null   int64  \n",
      " 45  LowQualFinSF   1460 non-null   int64  \n",
      " 46  GrLivArea      1460 non-null   int64  \n",
      " 47  BsmtFullBath   1460 non-null   int64  \n",
      " 48  BsmtHalfBath   1460 non-null   int64  \n",
      " 49  FullBath       1460 non-null   int64  \n",
      " 50  HalfBath       1460 non-null   int64  \n",
      " 51  BedroomAbvGr   1460 non-null   int64  \n",
      " 52  KitchenAbvGr   1460 non-null   int64  \n",
      " 53  KitchenQual    1460 non-null   object \n",
      " 54  TotRmsAbvGrd   1460 non-null   int64  \n",
      " 55  Functional     1460 non-null   object \n",
      " 56  Fireplaces     1460 non-null   int64  \n",
      " 57  FireplaceQu    770 non-null    object \n",
      " 58  GarageType     1379 non-null   object \n",
      " 59  GarageYrBlt    1379 non-null   float64\n",
      " 60  GarageFinish   1379 non-null   object \n",
      " 61  GarageCars     1460 non-null   int64  \n",
      " 62  GarageArea     1460 non-null   int64  \n",
      " 63  GarageQual     1379 non-null   object \n",
      " 64  GarageCond     1379 non-null   object \n",
      " 65  PavedDrive     1460 non-null   object \n",
      " 66  WoodDeckSF     1460 non-null   int64  \n",
      " 67  OpenPorchSF    1460 non-null   int64  \n",
      " 68  EnclosedPorch  1460 non-null   int64  \n",
      " 69  3SsnPorch      1460 non-null   int64  \n",
      " 70  ScreenPorch    1460 non-null   int64  \n",
      " 71  PoolArea       1460 non-null   int64  \n",
      " 72  PoolQC         7 non-null      object \n",
      " 73  Fence          281 non-null    object \n",
      " 74  MiscFeature    54 non-null     object \n",
      " 75  MiscVal        1460 non-null   int64  \n",
      " 76  MoSold         1460 non-null   int64  \n",
      " 77  YrSold         1460 non-null   int64  \n",
      " 78  SaleType       1460 non-null   object \n",
      " 79  SaleCondition  1460 non-null   object \n",
      " 80  SalePrice      1460 non-null   int64  \n",
      "dtypes: float64(3), int64(35), object(43)\n",
      "memory usage: 924.0+ KB\n"
     ]
    }
   ],
   "source": [
    "train_df_raw.info()"
   ]
  },
  {
   "cell_type": "code",
   "execution_count": 7,
   "id": "346c56d2-ad20-4191-8910-ce3829aae050",
   "metadata": {},
   "outputs": [
    {
     "data": {
      "text/plain": [
       "<AxesSubplot:>"
      ]
     },
     "execution_count": 7,
     "metadata": {},
     "output_type": "execute_result"
    },
    {
     "data": {
      "image/png": "[encoded data removed]",
      "text/plain": [
       "<Figure size 640x480 with 1 Axes>"
      ]
     },
     "metadata": {},
     "output_type": "display_data"
    }
   ],
   "source": [
    "## check how mancy columns have huge missing data\n",
    "missing = train_df_raw.isnull().sum()\n",
    "missing = missing[missing > 0]\n",
    "missing.sort_values(inplace=True)\n",
    "missing.plot.bar()"
   ]
  },
  {
   "cell_type": "code",
   "execution_count": 8,
   "id": "4774ca6d-ae16-46a1-9689-11b0a2c3f157",
   "metadata": {},
   "outputs": [
    {
     "data": {
      "text/plain": [
       "PoolQC           0.995205\n",
       "MiscFeature      0.963014\n",
       "Alley            0.937671\n",
       "Fence            0.807534\n",
       "FireplaceQu      0.472603\n",
       "LotFrontage      0.177397\n",
       "GarageYrBlt      0.055479\n",
       "GarageCond       0.055479\n",
       "GarageType       0.055479\n",
       "GarageFinish     0.055479\n",
       "GarageQual       0.055479\n",
       "BsmtFinType2     0.026027\n",
       "BsmtExposure     0.026027\n",
       "BsmtQual         0.025342\n",
       "BsmtCond         0.025342\n",
       "BsmtFinType1     0.025342\n",
       "MasVnrArea       0.005479\n",
       "MasVnrType       0.005479\n",
       "Electrical       0.000685\n",
       "Id               0.000000\n",
       "Functional       0.000000\n",
       "Fireplaces       0.000000\n",
       "KitchenQual      0.000000\n",
       "KitchenAbvGr     0.000000\n",
       "BedroomAbvGr     0.000000\n",
       "HalfBath         0.000000\n",
       "FullBath         0.000000\n",
       "BsmtHalfBath     0.000000\n",
       "TotRmsAbvGrd     0.000000\n",
       "GarageCars       0.000000\n",
       "GrLivArea        0.000000\n",
       "GarageArea       0.000000\n",
       "PavedDrive       0.000000\n",
       "WoodDeckSF       0.000000\n",
       "OpenPorchSF      0.000000\n",
       "EnclosedPorch    0.000000\n",
       "3SsnPorch        0.000000\n",
       "ScreenPorch      0.000000\n",
       "PoolArea         0.000000\n",
       "MiscVal          0.000000\n",
       "MoSold           0.000000\n",
       "YrSold           0.000000\n",
       "SaleType         0.000000\n",
       "SaleCondition    0.000000\n",
       "BsmtFullBath     0.000000\n",
       "HeatingQC        0.000000\n",
       "LowQualFinSF     0.000000\n",
       "LandSlope        0.000000\n",
       "OverallQual      0.000000\n",
       "HouseStyle       0.000000\n",
       "BldgType         0.000000\n",
       "Condition2       0.000000\n",
       "Condition1       0.000000\n",
       "Neighborhood     0.000000\n",
       "LotConfig        0.000000\n",
       "YearBuilt        0.000000\n",
       "Utilities        0.000000\n",
       "LandContour      0.000000\n",
       "LotShape         0.000000\n",
       "Street           0.000000\n",
       "LotArea          0.000000\n",
       "MSZoning         0.000000\n",
       "OverallCond      0.000000\n",
       "YearRemodAdd     0.000000\n",
       "2ndFlrSF         0.000000\n",
       "BsmtFinSF2       0.000000\n",
       "1stFlrSF         0.000000\n",
       "CentralAir       0.000000\n",
       "MSSubClass       0.000000\n",
       "Heating          0.000000\n",
       "TotalBsmtSF      0.000000\n",
       "BsmtUnfSF        0.000000\n",
       "BsmtFinSF1       0.000000\n",
       "RoofStyle        0.000000\n",
       "Foundation       0.000000\n",
       "ExterCond        0.000000\n",
       "ExterQual        0.000000\n",
       "Exterior2nd      0.000000\n",
       "Exterior1st      0.000000\n",
       "RoofMatl         0.000000\n",
       "SalePrice        0.000000\n",
       "dtype: float64"
      ]
     },
     "execution_count": 8,
     "metadata": {},
     "output_type": "execute_result"
    }
   ],
   "source": [
    "## check the %percentage of missing data\n",
    "pd.set_option('display.max_rows', 500)\n",
    "train_df_raw.isna().mean().sort_values(ascending=False)"
   ]
  },
  {
   "cell_type": "code",
   "execution_count": 9,
   "id": "bc81e424-1561-41c3-919b-9542cb26366f",
   "metadata": {},
   "outputs": [],
   "source": [
    "## drop columns with large missing data(more than 40%)\n",
    "train_df_raw.drop(['Alley','Fence','PoolQC','MiscFeature','FireplaceQu'], inplace=True,axis=1)"
   ]
  },
  {
   "cell_type": "code",
   "execution_count": 10,
   "id": "79c338ea-c14c-454a-9f86-cf308390e551",
   "metadata": {},
   "outputs": [
    {
     "data": {
      "text/html": [
       "<div>\n",
       "<style scoped>\n",
       "    .dataframe tbody tr th:only-of-type {\n",
       "        vertical-align: middle;\n",
       "    }\n",
       "\n",
       "    .dataframe tbody tr th {\n",
       "        vertical-align: top;\n",
       "    }\n",
       "\n",
       "    .dataframe thead th {\n",
       "        text-align: right;\n",
       "    }\n",
       "</style>\n",
       "<table border=\"1\" class=\"dataframe\">\n",
       "  <thead>\n",
       "    <tr style=\"text-align: right;\">\n",
       "      <th></th>\n",
       "      <th>Id</th>\n",
       "      <th>MSSubClass</th>\n",
       "      <th>MSZoning</th>\n",
       "      <th>LotFrontage</th>\n",
       "      <th>LotArea</th>\n",
       "      <th>Street</th>\n",
       "      <th>LotShape</th>\n",
       "      <th>LandContour</th>\n",
       "      <th>Utilities</th>\n",
       "      <th>LotConfig</th>\n",
       "      <th>...</th>\n",
       "      <th>EnclosedPorch</th>\n",
       "      <th>3SsnPorch</th>\n",
       "      <th>ScreenPorch</th>\n",
       "      <th>PoolArea</th>\n",
       "      <th>MiscVal</th>\n",
       "      <th>MoSold</th>\n",
       "      <th>YrSold</th>\n",
       "      <th>SaleType</th>\n",
       "      <th>SaleCondition</th>\n",
       "      <th>SalePrice</th>\n",
       "    </tr>\n",
       "  </thead>\n",
       "  <tbody>\n",
       "    <tr>\n",
       "      <th>0</th>\n",
       "      <td>1</td>\n",
       "      <td>60</td>\n",
       "      <td>RL</td>\n",
       "      <td>65.0</td>\n",
       "      <td>8450</td>\n",
       "      <td>Pave</td>\n",
       "      <td>Reg</td>\n",
       "      <td>Lvl</td>\n",
       "      <td>AllPub</td>\n",
       "      <td>Inside</td>\n",
       "      <td>...</td>\n",
       "      <td>0</td>\n",
       "      <td>0</td>\n",
       "      <td>0</td>\n",
       "      <td>0</td>\n",
       "      <td>0</td>\n",
       "      <td>2</td>\n",
       "      <td>2008</td>\n",
       "      <td>WD</td>\n",
       "      <td>Normal</td>\n",
       "      <td>208500</td>\n",
       "    </tr>\n",
       "    <tr>\n",
       "      <th>1</th>\n",
       "      <td>2</td>\n",
       "      <td>20</td>\n",
       "      <td>RL</td>\n",
       "      <td>80.0</td>\n",
       "      <td>9600</td>\n",
       "      <td>Pave</td>\n",
       "      <td>Reg</td>\n",
       "      <td>Lvl</td>\n",
       "      <td>AllPub</td>\n",
       "      <td>FR2</td>\n",
       "      <td>...</td>\n",
       "      <td>0</td>\n",
       "      <td>0</td>\n",
       "      <td>0</td>\n",
       "      <td>0</td>\n",
       "      <td>0</td>\n",
       "      <td>5</td>\n",
       "      <td>2007</td>\n",
       "      <td>WD</td>\n",
       "      <td>Normal</td>\n",
       "      <td>181500</td>\n",
       "    </tr>\n",
       "    <tr>\n",
       "      <th>2</th>\n",
       "      <td>3</td>\n",
       "      <td>60</td>\n",
       "      <td>RL</td>\n",
       "      <td>68.0</td>\n",
       "      <td>11250</td>\n",
       "      <td>Pave</td>\n",
       "      <td>IR1</td>\n",
       "      <td>Lvl</td>\n",
       "      <td>AllPub</td>\n",
       "      <td>Inside</td>\n",
       "      <td>...</td>\n",
       "      <td>0</td>\n",
       "      <td>0</td>\n",
       "      <td>0</td>\n",
       "      <td>0</td>\n",
       "      <td>0</td>\n",
       "      <td>9</td>\n",
       "      <td>2008</td>\n",
       "      <td>WD</td>\n",
       "      <td>Normal</td>\n",
       "      <td>223500</td>\n",
       "    </tr>\n",
       "    <tr>\n",
       "      <th>3</th>\n",
       "      <td>4</td>\n",
       "      <td>70</td>\n",
       "      <td>RL</td>\n",
       "      <td>60.0</td>\n",
       "      <td>9550</td>\n",
       "      <td>Pave</td>\n",
       "      <td>IR1</td>\n",
       "      <td>Lvl</td>\n",
       "      <td>AllPub</td>\n",
       "      <td>Corner</td>\n",
       "      <td>...</td>\n",
       "      <td>272</td>\n",
       "      <td>0</td>\n",
       "      <td>0</td>\n",
       "      <td>0</td>\n",
       "      <td>0</td>\n",
       "      <td>2</td>\n",
       "      <td>2006</td>\n",
       "      <td>WD</td>\n",
       "      <td>Abnorml</td>\n",
       "      <td>140000</td>\n",
       "    </tr>\n",
       "    <tr>\n",
       "      <th>4</th>\n",
       "      <td>5</td>\n",
       "      <td>60</td>\n",
       "      <td>RL</td>\n",
       "      <td>84.0</td>\n",
       "      <td>14260</td>\n",
       "      <td>Pave</td>\n",
       "      <td>IR1</td>\n",
       "      <td>Lvl</td>\n",
       "      <td>AllPub</td>\n",
       "      <td>FR2</td>\n",
       "      <td>...</td>\n",
       "      <td>0</td>\n",
       "      <td>0</td>\n",
       "      <td>0</td>\n",
       "      <td>0</td>\n",
       "      <td>0</td>\n",
       "      <td>12</td>\n",
       "      <td>2008</td>\n",
       "      <td>WD</td>\n",
       "      <td>Normal</td>\n",
       "      <td>250000</td>\n",
       "    </tr>\n",
       "  </tbody>\n",
       "</table>\n",
       "<p>5 rows × 76 columns</p>\n",
       "</div>"
      ],
      "text/plain": [
       "   Id  MSSubClass MSZoning  LotFrontage  LotArea Street LotShape LandContour  \\\n",
       "0   1          60       RL         65.0     8450   Pave      Reg         Lvl   \n",
       "1   2          20       RL         80.0     9600   Pave      Reg         Lvl   \n",
       "2   3          60       RL         68.0    11250   Pave      IR1         Lvl   \n",
       "3   4          70       RL         60.0     9550   Pave      IR1         Lvl   \n",
       "4   5          60       RL         84.0    14260   Pave      IR1         Lvl   \n",
       "\n",
       "  Utilities LotConfig  ... EnclosedPorch 3SsnPorch ScreenPorch PoolArea  \\\n",
       "0    AllPub    Inside  ...             0         0           0        0   \n",
       "1    AllPub       FR2  ...             0         0           0        0   \n",
       "2    AllPub    Inside  ...             0         0           0        0   \n",
       "3    AllPub    Corner  ...           272         0           0        0   \n",
       "4    AllPub       FR2  ...             0         0           0        0   \n",
       "\n",
       "  MiscVal MoSold  YrSold  SaleType  SaleCondition  SalePrice  \n",
       "0       0      2    2008        WD         Normal     208500  \n",
       "1       0      5    2007        WD         Normal     181500  \n",
       "2       0      9    2008        WD         Normal     223500  \n",
       "3       0      2    2006        WD        Abnorml     140000  \n",
       "4       0     12    2008        WD         Normal     250000  \n",
       "\n",
       "[5 rows x 76 columns]"
      ]
     },
     "execution_count": 10,
     "metadata": {},
     "output_type": "execute_result"
    }
   ],
   "source": [
    "train_df_raw.head()"
   ]
  },
  {
   "cell_type": "code",
   "execution_count": 11,
   "id": "3e1a41fb-cdcd-4da6-8e28-783b06a9e2bf",
   "metadata": {},
   "outputs": [
    {
     "data": {
      "text/plain": [
       "Index(['Id', 'MSSubClass', 'MSZoning', 'LotFrontage', 'LotArea', 'Street',\n",
       "       'LotShape', 'LandContour', 'Utilities', 'LotConfig', 'LandSlope',\n",
       "       'Neighborhood', 'Condition1', 'Condition2', 'BldgType', 'HouseStyle',\n",
       "       'OverallQual', 'OverallCond', 'YearBuilt', 'YearRemodAdd', 'RoofStyle',\n",
       "       'RoofMatl', 'Exterior1st', 'Exterior2nd', 'MasVnrType', 'MasVnrArea',\n",
       "       'ExterQual', 'ExterCond', 'Foundation', 'BsmtQual', 'BsmtCond',\n",
       "       'BsmtExposure', 'BsmtFinType1', 'BsmtFinSF1', 'BsmtFinType2',\n",
       "       'BsmtFinSF2', 'BsmtUnfSF', 'TotalBsmtSF', 'Heating', 'HeatingQC',\n",
       "       'CentralAir', 'Electrical', '1stFlrSF', '2ndFlrSF', 'LowQualFinSF',\n",
       "       'GrLivArea', 'BsmtFullBath', 'BsmtHalfBath', 'FullBath', 'HalfBath',\n",
       "       'BedroomAbvGr', 'KitchenAbvGr', 'KitchenQual', 'TotRmsAbvGrd',\n",
       "       'Functional', 'Fireplaces', 'GarageType', 'GarageYrBlt', 'GarageFinish',\n",
       "       'GarageCars', 'GarageArea', 'GarageQual', 'GarageCond', 'PavedDrive',\n",
       "       'WoodDeckSF', 'OpenPorchSF', 'EnclosedPorch', '3SsnPorch',\n",
       "       'ScreenPorch', 'PoolArea', 'MiscVal', 'MoSold', 'YrSold', 'SaleType',\n",
       "       'SaleCondition', 'SalePrice'],\n",
       "      dtype='object')"
      ]
     },
     "execution_count": 11,
     "metadata": {},
     "output_type": "execute_result"
    }
   ],
   "source": [
    "train_df_raw.columns"
   ]
  },
  {
   "cell_type": "code",
   "execution_count": 64,
   "id": "2baf4742-db4c-4dfd-8b0e-36c101d3b25a",
   "metadata": {},
   "outputs": [
    {
     "data": {
      "text/plain": [
       "TA    735\n",
       "Gd    586\n",
       "Ex    100\n",
       "Fa     39\n",
       "Name: KitchenQual, dtype: int64"
      ]
     },
     "execution_count": 64,
     "metadata": {},
     "output_type": "execute_result"
    }
   ],
   "source": [
    "train_df_raw.KitchenQual.value_counts()"
   ]
  },
  {
   "cell_type": "markdown",
   "id": "ea500b74-0060-4f23-b81c-3c5335e0a188",
   "metadata": {},
   "source": [
    "## Baisc EDA using PyCaret and Setup data"
   ]
  },
  {
   "cell_type": "code",
   "execution_count": 12,
   "id": "1ea5bddb-454e-4812-8976-9af2d72d1015",
   "metadata": {},
   "outputs": [],
   "source": [
    "from pycaret.regression import *"
   ]
  },
  {
   "cell_type": "code",
   "execution_count": 20,
   "id": "9d2f4418-b6c3-4189-93bf-9fecba24f94e",
   "metadata": {},
   "outputs": [
    {
     "data": {
      "text/html": [
       "<style type=\"text/css\">\n",
       "#T_6826a_row11_col1, #T_6826a_row17_col1, #T_6826a_row19_col1, #T_6826a_row24_col1 {\n",
       "  background-color: lightgreen;\n",
       "}\n",
       "</style>\n",
       "<table id=\"T_6826a\">\n",
       "  <thead>\n",
       "    <tr>\n",
       "      <th class=\"blank level0\" >&nbsp;</th>\n",
       "      <th id=\"T_6826a_level0_col0\" class=\"col_heading level0 col0\" >Description</th>\n",
       "      <th id=\"T_6826a_level0_col1\" class=\"col_heading level0 col1\" >Value</th>\n",
       "    </tr>\n",
       "  </thead>\n",
       "  <tbody>\n",
       "    <tr>\n",
       "      <th id=\"T_6826a_level0_row0\" class=\"row_heading level0 row0\" >0</th>\n",
       "      <td id=\"T_6826a_row0_col0\" class=\"data row0 col0\" >Session id</td>\n",
       "      <td id=\"T_6826a_row0_col1\" class=\"data row0 col1\" >42</td>\n",
       "    </tr>\n",
       "    <tr>\n",
       "      <th id=\"T_6826a_level0_row1\" class=\"row_heading level0 row1\" >1</th>\n",
       "      <td id=\"T_6826a_row1_col0\" class=\"data row1 col0\" >Target</td>\n",
       "      <td id=\"T_6826a_row1_col1\" class=\"data row1 col1\" >SalePrice</td>\n",
       "    </tr>\n",
       "    <tr>\n",
       "      <th id=\"T_6826a_level0_row2\" class=\"row_heading level0 row2\" >2</th>\n",
       "      <td id=\"T_6826a_row2_col0\" class=\"data row2 col0\" >Target type</td>\n",
       "      <td id=\"T_6826a_row2_col1\" class=\"data row2 col1\" >Regression</td>\n",
       "    </tr>\n",
       "    <tr>\n",
       "      <th id=\"T_6826a_level0_row3\" class=\"row_heading level0 row3\" >3</th>\n",
       "      <td id=\"T_6826a_row3_col0\" class=\"data row3 col0\" >Data shape</td>\n",
       "      <td id=\"T_6826a_row3_col1\" class=\"data row3 col1\" >(1460, 95)</td>\n",
       "    </tr>\n",
       "    <tr>\n",
       "      <th id=\"T_6826a_level0_row4\" class=\"row_heading level0 row4\" >4</th>\n",
       "      <td id=\"T_6826a_row4_col0\" class=\"data row4 col0\" >Train data shape</td>\n",
       "      <td id=\"T_6826a_row4_col1\" class=\"data row4 col1\" >(1021, 95)</td>\n",
       "    </tr>\n",
       "    <tr>\n",
       "      <th id=\"T_6826a_level0_row5\" class=\"row_heading level0 row5\" >5</th>\n",
       "      <td id=\"T_6826a_row5_col0\" class=\"data row5 col0\" >Test data shape</td>\n",
       "      <td id=\"T_6826a_row5_col1\" class=\"data row5 col1\" >(439, 95)</td>\n",
       "    </tr>\n",
       "    <tr>\n",
       "      <th id=\"T_6826a_level0_row6\" class=\"row_heading level0 row6\" >6</th>\n",
       "      <td id=\"T_6826a_row6_col0\" class=\"data row6 col0\" >Ignore features</td>\n",
       "      <td id=\"T_6826a_row6_col1\" class=\"data row6 col1\" >8</td>\n",
       "    </tr>\n",
       "    <tr>\n",
       "      <th id=\"T_6826a_level0_row7\" class=\"row_heading level0 row7\" >7</th>\n",
       "      <td id=\"T_6826a_row7_col0\" class=\"data row7 col0\" >Ordinal features</td>\n",
       "      <td id=\"T_6826a_row7_col1\" class=\"data row7 col1\" >12</td>\n",
       "    </tr>\n",
       "    <tr>\n",
       "      <th id=\"T_6826a_level0_row8\" class=\"row_heading level0 row8\" >8</th>\n",
       "      <td id=\"T_6826a_row8_col0\" class=\"data row8 col0\" >Numeric features</td>\n",
       "      <td id=\"T_6826a_row8_col1\" class=\"data row8 col1\" >36</td>\n",
       "    </tr>\n",
       "    <tr>\n",
       "      <th id=\"T_6826a_level0_row9\" class=\"row_heading level0 row9\" >9</th>\n",
       "      <td id=\"T_6826a_row9_col0\" class=\"data row9 col0\" >Categorical features</td>\n",
       "      <td id=\"T_6826a_row9_col1\" class=\"data row9 col1\" >32</td>\n",
       "    </tr>\n",
       "    <tr>\n",
       "      <th id=\"T_6826a_level0_row10\" class=\"row_heading level0 row10\" >10</th>\n",
       "      <td id=\"T_6826a_row10_col0\" class=\"data row10 col0\" >Rows with missing values</td>\n",
       "      <td id=\"T_6826a_row10_col1\" class=\"data row10 col1\" >25.1%</td>\n",
       "    </tr>\n",
       "    <tr>\n",
       "      <th id=\"T_6826a_level0_row11\" class=\"row_heading level0 row11\" >11</th>\n",
       "      <td id=\"T_6826a_row11_col0\" class=\"data row11 col0\" >Preprocess</td>\n",
       "      <td id=\"T_6826a_row11_col1\" class=\"data row11 col1\" >True</td>\n",
       "    </tr>\n",
       "    <tr>\n",
       "      <th id=\"T_6826a_level0_row12\" class=\"row_heading level0 row12\" >12</th>\n",
       "      <td id=\"T_6826a_row12_col0\" class=\"data row12 col0\" >Imputation type</td>\n",
       "      <td id=\"T_6826a_row12_col1\" class=\"data row12 col1\" >simple</td>\n",
       "    </tr>\n",
       "    <tr>\n",
       "      <th id=\"T_6826a_level0_row13\" class=\"row_heading level0 row13\" >13</th>\n",
       "      <td id=\"T_6826a_row13_col0\" class=\"data row13 col0\" >Numeric imputation</td>\n",
       "      <td id=\"T_6826a_row13_col1\" class=\"data row13 col1\" >mean</td>\n",
       "    </tr>\n",
       "    <tr>\n",
       "      <th id=\"T_6826a_level0_row14\" class=\"row_heading level0 row14\" >14</th>\n",
       "      <td id=\"T_6826a_row14_col0\" class=\"data row14 col0\" >Categorical imputation</td>\n",
       "      <td id=\"T_6826a_row14_col1\" class=\"data row14 col1\" >mode</td>\n",
       "    </tr>\n",
       "    <tr>\n",
       "      <th id=\"T_6826a_level0_row15\" class=\"row_heading level0 row15\" >15</th>\n",
       "      <td id=\"T_6826a_row15_col0\" class=\"data row15 col0\" >Maximum one-hot encoding</td>\n",
       "      <td id=\"T_6826a_row15_col1\" class=\"data row15 col1\" >5</td>\n",
       "    </tr>\n",
       "    <tr>\n",
       "      <th id=\"T_6826a_level0_row16\" class=\"row_heading level0 row16\" >16</th>\n",
       "      <td id=\"T_6826a_row16_col0\" class=\"data row16 col0\" >Encoding method</td>\n",
       "      <td id=\"T_6826a_row16_col1\" class=\"data row16 col1\" >None</td>\n",
       "    </tr>\n",
       "    <tr>\n",
       "      <th id=\"T_6826a_level0_row17\" class=\"row_heading level0 row17\" >17</th>\n",
       "      <td id=\"T_6826a_row17_col0\" class=\"data row17 col0\" >Remove multicollinearity</td>\n",
       "      <td id=\"T_6826a_row17_col1\" class=\"data row17 col1\" >True</td>\n",
       "    </tr>\n",
       "    <tr>\n",
       "      <th id=\"T_6826a_level0_row18\" class=\"row_heading level0 row18\" >18</th>\n",
       "      <td id=\"T_6826a_row18_col0\" class=\"data row18 col0\" >Multicollinearity threshold</td>\n",
       "      <td id=\"T_6826a_row18_col1\" class=\"data row18 col1\" >0.900000</td>\n",
       "    </tr>\n",
       "    <tr>\n",
       "      <th id=\"T_6826a_level0_row19\" class=\"row_heading level0 row19\" >19</th>\n",
       "      <td id=\"T_6826a_row19_col0\" class=\"data row19 col0\" >Normalize</td>\n",
       "      <td id=\"T_6826a_row19_col1\" class=\"data row19 col1\" >True</td>\n",
       "    </tr>\n",
       "    <tr>\n",
       "      <th id=\"T_6826a_level0_row20\" class=\"row_heading level0 row20\" >20</th>\n",
       "      <td id=\"T_6826a_row20_col0\" class=\"data row20 col0\" >Normalize method</td>\n",
       "      <td id=\"T_6826a_row20_col1\" class=\"data row20 col1\" >zscore</td>\n",
       "    </tr>\n",
       "    <tr>\n",
       "      <th id=\"T_6826a_level0_row21\" class=\"row_heading level0 row21\" >21</th>\n",
       "      <td id=\"T_6826a_row21_col0\" class=\"data row21 col0\" >Fold Generator</td>\n",
       "      <td id=\"T_6826a_row21_col1\" class=\"data row21 col1\" >KFold</td>\n",
       "    </tr>\n",
       "    <tr>\n",
       "      <th id=\"T_6826a_level0_row22\" class=\"row_heading level0 row22\" >22</th>\n",
       "      <td id=\"T_6826a_row22_col0\" class=\"data row22 col0\" >Fold Number</td>\n",
       "      <td id=\"T_6826a_row22_col1\" class=\"data row22 col1\" >10</td>\n",
       "    </tr>\n",
       "    <tr>\n",
       "      <th id=\"T_6826a_level0_row23\" class=\"row_heading level0 row23\" >23</th>\n",
       "      <td id=\"T_6826a_row23_col0\" class=\"data row23 col0\" >CPU Jobs</td>\n",
       "      <td id=\"T_6826a_row23_col1\" class=\"data row23 col1\" >-1</td>\n",
       "    </tr>\n",
       "    <tr>\n",
       "      <th id=\"T_6826a_level0_row24\" class=\"row_heading level0 row24\" >24</th>\n",
       "      <td id=\"T_6826a_row24_col0\" class=\"data row24 col0\" >Use GPU</td>\n",
       "      <td id=\"T_6826a_row24_col1\" class=\"data row24 col1\" >True</td>\n",
       "    </tr>\n",
       "    <tr>\n",
       "      <th id=\"T_6826a_level0_row25\" class=\"row_heading level0 row25\" >25</th>\n",
       "      <td id=\"T_6826a_row25_col0\" class=\"data row25 col0\" >Log Experiment</td>\n",
       "      <td id=\"T_6826a_row25_col1\" class=\"data row25 col1\" >False</td>\n",
       "    </tr>\n",
       "    <tr>\n",
       "      <th id=\"T_6826a_level0_row26\" class=\"row_heading level0 row26\" >26</th>\n",
       "      <td id=\"T_6826a_row26_col0\" class=\"data row26 col0\" >Experiment Name</td>\n",
       "      <td id=\"T_6826a_row26_col1\" class=\"data row26 col1\" >reg-default-name</td>\n",
       "    </tr>\n",
       "    <tr>\n",
       "      <th id=\"T_6826a_level0_row27\" class=\"row_heading level0 row27\" >27</th>\n",
       "      <td id=\"T_6826a_row27_col0\" class=\"data row27 col0\" >USI</td>\n",
       "      <td id=\"T_6826a_row27_col1\" class=\"data row27 col1\" >8b2d</td>\n",
       "    </tr>\n",
       "  </tbody>\n",
       "</table>\n"
      ],
      "text/plain": [
       "<pandas.io.formats.style.Styler at 0x1cf1ec54430>"
      ]
     },
     "metadata": {},
     "output_type": "display_data"
    }
   ],
   "source": [
    "# Prepare Setup for preprocessing the data\n",
    "s= setup(data = train_df_raw, target='SalePrice', session_id=42,\n",
    "         ignore_features=['id','Condition1','Exterior2nd','ExterQual','BsmtExposure','MiscVal','SaleType','SaleCondition'],\n",
    "         imputation_type='simple',numeric_imputation='mean',\n",
    "        categorical_imputation='mode',\n",
    "        ordinal_features={'ExterCond':['Po','Fa','TA','Gd','Ex'],'BsmtQual':['NA','Po','Fa','TA','Gd','Ex'],'BsmtCond':['NA','Po','Fa','TA','Gd','Ex'],'HeatingQC':['Po','Fa','TA','Gd','Ex'],\n",
    "         'KitchenQual':['Po','Fa','TA','Gd','Ex'],'GarageFinish':['NA','Unf','RFn','Fin'],'GarageQual':['NA','Po','Fa','TA','Gd','Ex'],'GarageCond':['NA','Po','Fa','TA','Gd','Ex'],\n",
    "        'PavedDrive':['N','P','Y']},\n",
    "        normalize=True,\n",
    "         remove_multicollinearity=True,\n",
    "         data_split_shuffle=True,#data_split_stratify=True,\n",
    "         use_gpu=True,n_jobs=-1)"
   ]
  },
  {
   "cell_type": "code",
   "execution_count": null,
   "id": "858e0624-5e8a-4008-8baf-e109a70cafbc",
   "metadata": {},
   "outputs": [],
   "source": [
    "# from pandas_profiling import ProfileReport\n",
    "# profile = ProfileReport(train_df_raw, title=\"Pandas Profiling Report\")\n",
    "# profile.to_notebook_iframe()"
   ]
  },
  {
   "cell_type": "markdown",
   "id": "627f6bca-d87a-4e21-8fd4-ca8decd50ddc",
   "metadata": {},
   "source": [
    "## Let's Find out the best models for this transformed Data pipeline"
   ]
  },
  {
   "cell_type": "code",
   "execution_count": 30,
   "id": "5e33b327-b270-49e5-a2ea-93404a617901",
   "metadata": {},
   "outputs": [
    {
     "data": {
      "text/html": [],
      "text/plain": [
       "<IPython.core.display.HTML object>"
      ]
     },
     "metadata": {},
     "output_type": "display_data"
    },
    {
     "data": {
      "text/html": [
       "<style type=\"text/css\">\n",
       "#T_50fef th {\n",
       "  text-align: left;\n",
       "}\n",
       "#T_50fef_row0_col0, #T_50fef_row0_col5, #T_50fef_row1_col0, #T_50fef_row1_col1, #T_50fef_row1_col2, #T_50fef_row1_col3, #T_50fef_row1_col4, #T_50fef_row1_col6, #T_50fef_row2_col0, #T_50fef_row2_col1, #T_50fef_row2_col2, #T_50fef_row2_col3, #T_50fef_row2_col4, #T_50fef_row2_col5, #T_50fef_row2_col6, #T_50fef_row3_col0, #T_50fef_row3_col1, #T_50fef_row3_col2, #T_50fef_row3_col3, #T_50fef_row3_col4, #T_50fef_row3_col5, #T_50fef_row3_col6, #T_50fef_row4_col0, #T_50fef_row4_col1, #T_50fef_row4_col2, #T_50fef_row4_col3, #T_50fef_row4_col4, #T_50fef_row4_col5, #T_50fef_row4_col6, #T_50fef_row5_col0, #T_50fef_row5_col1, #T_50fef_row5_col2, #T_50fef_row5_col3, #T_50fef_row5_col4, #T_50fef_row5_col5, #T_50fef_row5_col6, #T_50fef_row6_col0, #T_50fef_row6_col1, #T_50fef_row6_col2, #T_50fef_row6_col3, #T_50fef_row6_col4, #T_50fef_row6_col5, #T_50fef_row6_col6, #T_50fef_row7_col0, #T_50fef_row7_col1, #T_50fef_row7_col2, #T_50fef_row7_col3, #T_50fef_row7_col4, #T_50fef_row7_col5, #T_50fef_row7_col6, #T_50fef_row8_col0, #T_50fef_row8_col1, #T_50fef_row8_col2, #T_50fef_row8_col3, #T_50fef_row8_col4, #T_50fef_row8_col5, #T_50fef_row8_col6, #T_50fef_row9_col0, #T_50fef_row9_col1, #T_50fef_row9_col2, #T_50fef_row9_col3, #T_50fef_row9_col4, #T_50fef_row9_col5, #T_50fef_row9_col6, #T_50fef_row10_col0, #T_50fef_row10_col1, #T_50fef_row10_col2, #T_50fef_row10_col3, #T_50fef_row10_col4, #T_50fef_row10_col5, #T_50fef_row10_col6, #T_50fef_row11_col0, #T_50fef_row11_col1, #T_50fef_row11_col2, #T_50fef_row11_col3, #T_50fef_row11_col4, #T_50fef_row11_col5, #T_50fef_row11_col6, #T_50fef_row12_col0, #T_50fef_row12_col1, #T_50fef_row12_col2, #T_50fef_row12_col3, #T_50fef_row12_col4, #T_50fef_row12_col5, #T_50fef_row12_col6, #T_50fef_row13_col0, #T_50fef_row13_col1, #T_50fef_row13_col2, #T_50fef_row13_col3, #T_50fef_row13_col4, #T_50fef_row13_col5, #T_50fef_row13_col6, #T_50fef_row14_col0, #T_50fef_row14_col1, #T_50fef_row14_col2, #T_50fef_row14_col3, #T_50fef_row14_col4, #T_50fef_row14_col5, #T_50fef_row14_col6, #T_50fef_row15_col0, #T_50fef_row15_col1, #T_50fef_row15_col2, #T_50fef_row15_col3, #T_50fef_row15_col4, #T_50fef_row15_col5, #T_50fef_row15_col6, #T_50fef_row16_col0, #T_50fef_row16_col1, #T_50fef_row16_col2, #T_50fef_row16_col3, #T_50fef_row16_col4, #T_50fef_row16_col5, #T_50fef_row16_col6, #T_50fef_row17_col0, #T_50fef_row17_col1, #T_50fef_row17_col2, #T_50fef_row17_col3, #T_50fef_row17_col4, #T_50fef_row17_col5, #T_50fef_row17_col6, #T_50fef_row18_col0, #T_50fef_row18_col1, #T_50fef_row18_col2, #T_50fef_row18_col3, #T_50fef_row18_col4, #T_50fef_row18_col5, #T_50fef_row18_col6 {\n",
       "  text-align: left;\n",
       "}\n",
       "#T_50fef_row0_col1, #T_50fef_row0_col2, #T_50fef_row0_col3, #T_50fef_row0_col4, #T_50fef_row0_col6, #T_50fef_row1_col5 {\n",
       "  text-align: left;\n",
       "  background-color: yellow;\n",
       "}\n",
       "#T_50fef_row0_col7, #T_50fef_row1_col7, #T_50fef_row2_col7, #T_50fef_row3_col7, #T_50fef_row5_col7, #T_50fef_row6_col7, #T_50fef_row7_col7, #T_50fef_row8_col7, #T_50fef_row9_col7, #T_50fef_row10_col7, #T_50fef_row11_col7, #T_50fef_row12_col7, #T_50fef_row13_col7, #T_50fef_row14_col7, #T_50fef_row15_col7, #T_50fef_row16_col7, #T_50fef_row17_col7, #T_50fef_row18_col7 {\n",
       "  text-align: left;\n",
       "  background-color: lightgrey;\n",
       "}\n",
       "#T_50fef_row4_col7 {\n",
       "  text-align: left;\n",
       "  background-color: yellow;\n",
       "  background-color: lightgrey;\n",
       "}\n",
       "</style>\n",
       "<table id=\"T_50fef\">\n",
       "  <thead>\n",
       "    <tr>\n",
       "      <th class=\"blank level0\" >&nbsp;</th>\n",
       "      <th id=\"T_50fef_level0_col0\" class=\"col_heading level0 col0\" >Model</th>\n",
       "      <th id=\"T_50fef_level0_col1\" class=\"col_heading level0 col1\" >MAE</th>\n",
       "      <th id=\"T_50fef_level0_col2\" class=\"col_heading level0 col2\" >MSE</th>\n",
       "      <th id=\"T_50fef_level0_col3\" class=\"col_heading level0 col3\" >RMSE</th>\n",
       "      <th id=\"T_50fef_level0_col4\" class=\"col_heading level0 col4\" >R2</th>\n",
       "      <th id=\"T_50fef_level0_col5\" class=\"col_heading level0 col5\" >RMSLE</th>\n",
       "      <th id=\"T_50fef_level0_col6\" class=\"col_heading level0 col6\" >MAPE</th>\n",
       "      <th id=\"T_50fef_level0_col7\" class=\"col_heading level0 col7\" >TT (Sec)</th>\n",
       "    </tr>\n",
       "  </thead>\n",
       "  <tbody>\n",
       "    <tr>\n",
       "      <th id=\"T_50fef_level0_row0\" class=\"row_heading level0 row0\" >par</th>\n",
       "      <td id=\"T_50fef_row0_col0\" class=\"data row0 col0\" >Passive Aggressive Regressor</td>\n",
       "      <td id=\"T_50fef_row0_col1\" class=\"data row0 col1\" >19260.0288</td>\n",
       "      <td id=\"T_50fef_row0_col2\" class=\"data row0 col2\" >1265273632.8312</td>\n",
       "      <td id=\"T_50fef_row0_col3\" class=\"data row0 col3\" >33627.7385</td>\n",
       "      <td id=\"T_50fef_row0_col4\" class=\"data row0 col4\" >0.7992</td>\n",
       "      <td id=\"T_50fef_row0_col5\" class=\"data row0 col5\" >0.1787</td>\n",
       "      <td id=\"T_50fef_row0_col6\" class=\"data row0 col6\" >0.1105</td>\n",
       "      <td id=\"T_50fef_row0_col7\" class=\"data row0 col7\" >0.5780</td>\n",
       "    </tr>\n",
       "    <tr>\n",
       "      <th id=\"T_50fef_level0_row1\" class=\"row_heading level0 row1\" >en</th>\n",
       "      <td id=\"T_50fef_row1_col0\" class=\"data row1 col0\" >Elastic Net</td>\n",
       "      <td id=\"T_50fef_row1_col1\" class=\"data row1 col1\" >19951.5457</td>\n",
       "      <td id=\"T_50fef_row1_col2\" class=\"data row1 col2\" >1291379535.5414</td>\n",
       "      <td id=\"T_50fef_row1_col3\" class=\"data row1 col3\" >34000.8313</td>\n",
       "      <td id=\"T_50fef_row1_col4\" class=\"data row1 col4\" >0.7981</td>\n",
       "      <td id=\"T_50fef_row1_col5\" class=\"data row1 col5\" >0.1534</td>\n",
       "      <td id=\"T_50fef_row1_col6\" class=\"data row1 col6\" >0.1122</td>\n",
       "      <td id=\"T_50fef_row1_col7\" class=\"data row1 col7\" >0.5150</td>\n",
       "    </tr>\n",
       "    <tr>\n",
       "      <th id=\"T_50fef_level0_row2\" class=\"row_heading level0 row2\" >br</th>\n",
       "      <td id=\"T_50fef_row2_col0\" class=\"data row2 col0\" >Bayesian Ridge</td>\n",
       "      <td id=\"T_50fef_row2_col1\" class=\"data row2 col1\" >20688.2002</td>\n",
       "      <td id=\"T_50fef_row2_col2\" class=\"data row2 col2\" >1378960197.8971</td>\n",
       "      <td id=\"T_50fef_row2_col3\" class=\"data row2 col3\" >34694.3703</td>\n",
       "      <td id=\"T_50fef_row2_col4\" class=\"data row2 col4\" >0.7846</td>\n",
       "      <td id=\"T_50fef_row2_col5\" class=\"data row2 col5\" >0.1816</td>\n",
       "      <td id=\"T_50fef_row2_col6\" class=\"data row2 col6\" >0.1220</td>\n",
       "      <td id=\"T_50fef_row2_col7\" class=\"data row2 col7\" >0.5470</td>\n",
       "    </tr>\n",
       "    <tr>\n",
       "      <th id=\"T_50fef_level0_row3\" class=\"row_heading level0 row3\" >llar</th>\n",
       "      <td id=\"T_50fef_row3_col0\" class=\"data row3 col0\" >Lasso Least Angle Regression</td>\n",
       "      <td id=\"T_50fef_row3_col1\" class=\"data row3 col1\" >21195.0477</td>\n",
       "      <td id=\"T_50fef_row3_col2\" class=\"data row3 col2\" >1425652043.9900</td>\n",
       "      <td id=\"T_50fef_row3_col3\" class=\"data row3 col3\" >35249.4552</td>\n",
       "      <td id=\"T_50fef_row3_col4\" class=\"data row3 col4\" >0.7769</td>\n",
       "      <td id=\"T_50fef_row3_col5\" class=\"data row3 col5\" >0.2032</td>\n",
       "      <td id=\"T_50fef_row3_col6\" class=\"data row3 col6\" >0.1271</td>\n",
       "      <td id=\"T_50fef_row3_col7\" class=\"data row3 col7\" >0.4810</td>\n",
       "    </tr>\n",
       "    <tr>\n",
       "      <th id=\"T_50fef_level0_row4\" class=\"row_heading level0 row4\" >ridge</th>\n",
       "      <td id=\"T_50fef_row4_col0\" class=\"data row4 col0\" >Ridge Regression</td>\n",
       "      <td id=\"T_50fef_row4_col1\" class=\"data row4 col1\" >21271.8298</td>\n",
       "      <td id=\"T_50fef_row4_col2\" class=\"data row4 col2\" >1432086846.9784</td>\n",
       "      <td id=\"T_50fef_row4_col3\" class=\"data row4 col3\" >35339.7211</td>\n",
       "      <td id=\"T_50fef_row4_col4\" class=\"data row4 col4\" >0.7758</td>\n",
       "      <td id=\"T_50fef_row4_col5\" class=\"data row4 col5\" >0.2127</td>\n",
       "      <td id=\"T_50fef_row4_col6\" class=\"data row4 col6\" >0.1277</td>\n",
       "      <td id=\"T_50fef_row4_col7\" class=\"data row4 col7\" >0.4780</td>\n",
       "    </tr>\n",
       "    <tr>\n",
       "      <th id=\"T_50fef_level0_row5\" class=\"row_heading level0 row5\" >lasso</th>\n",
       "      <td id=\"T_50fef_row5_col0\" class=\"data row5 col0\" >Lasso Regression</td>\n",
       "      <td id=\"T_50fef_row5_col1\" class=\"data row5 col1\" >21284.7191</td>\n",
       "      <td id=\"T_50fef_row5_col2\" class=\"data row5 col2\" >1433442082.1657</td>\n",
       "      <td id=\"T_50fef_row5_col3\" class=\"data row5 col3\" >35355.8324</td>\n",
       "      <td id=\"T_50fef_row5_col4\" class=\"data row5 col4\" >0.7756</td>\n",
       "      <td id=\"T_50fef_row5_col5\" class=\"data row5 col5\" >0.2139</td>\n",
       "      <td id=\"T_50fef_row5_col6\" class=\"data row5 col6\" >0.1278</td>\n",
       "      <td id=\"T_50fef_row5_col7\" class=\"data row5 col7\" >0.5700</td>\n",
       "    </tr>\n",
       "    <tr>\n",
       "      <th id=\"T_50fef_level0_row6\" class=\"row_heading level0 row6\" >omp</th>\n",
       "      <td id=\"T_50fef_row6_col0\" class=\"data row6 col0\" >Orthogonal Matching Pursuit</td>\n",
       "      <td id=\"T_50fef_row6_col1\" class=\"data row6 col1\" >22729.8914</td>\n",
       "      <td id=\"T_50fef_row6_col2\" class=\"data row6 col2\" >1410581276.7182</td>\n",
       "      <td id=\"T_50fef_row6_col3\" class=\"data row6 col3\" >36024.9159</td>\n",
       "      <td id=\"T_50fef_row6_col4\" class=\"data row6 col4\" >0.7731</td>\n",
       "      <td id=\"T_50fef_row6_col5\" class=\"data row6 col5\" >0.1917</td>\n",
       "      <td id=\"T_50fef_row6_col6\" class=\"data row6 col6\" >0.1362</td>\n",
       "      <td id=\"T_50fef_row6_col7\" class=\"data row6 col7\" >0.5100</td>\n",
       "    </tr>\n",
       "    <tr>\n",
       "      <th id=\"T_50fef_level0_row7\" class=\"row_heading level0 row7\" >huber</th>\n",
       "      <td id=\"T_50fef_row7_col0\" class=\"data row7 col0\" >Huber Regressor</td>\n",
       "      <td id=\"T_50fef_row7_col1\" class=\"data row7 col1\" >19853.8780</td>\n",
       "      <td id=\"T_50fef_row7_col2\" class=\"data row7 col2\" >1518021185.6983</td>\n",
       "      <td id=\"T_50fef_row7_col3\" class=\"data row7 col3\" >36379.7574</td>\n",
       "      <td id=\"T_50fef_row7_col4\" class=\"data row7 col4\" >0.7416</td>\n",
       "      <td id=\"T_50fef_row7_col5\" class=\"data row7 col5\" >0.1824</td>\n",
       "      <td id=\"T_50fef_row7_col6\" class=\"data row7 col6\" >0.1143</td>\n",
       "      <td id=\"T_50fef_row7_col7\" class=\"data row7 col7\" >0.5800</td>\n",
       "    </tr>\n",
       "    <tr>\n",
       "      <th id=\"T_50fef_level0_row8\" class=\"row_heading level0 row8\" >knn</th>\n",
       "      <td id=\"T_50fef_row8_col0\" class=\"data row8 col0\" >K Neighbors Regressor</td>\n",
       "      <td id=\"T_50fef_row8_col1\" class=\"data row8 col1\" >25376.5877</td>\n",
       "      <td id=\"T_50fef_row8_col2\" class=\"data row8 col2\" >1789860015.2768</td>\n",
       "      <td id=\"T_50fef_row8_col3\" class=\"data row8 col3\" >41448.1921</td>\n",
       "      <td id=\"T_50fef_row8_col4\" class=\"data row8 col4\" >0.7110</td>\n",
       "      <td id=\"T_50fef_row8_col5\" class=\"data row8 col5\" >0.1980</td>\n",
       "      <td id=\"T_50fef_row8_col6\" class=\"data row8 col6\" >0.1433</td>\n",
       "      <td id=\"T_50fef_row8_col7\" class=\"data row8 col7\" >0.6350</td>\n",
       "    </tr>\n",
       "    <tr>\n",
       "      <th id=\"T_50fef_level0_row9\" class=\"row_heading level0 row9\" >et</th>\n",
       "      <td id=\"T_50fef_row9_col0\" class=\"data row9 col0\" >Extra Trees Regressor</td>\n",
       "      <td id=\"T_50fef_row9_col1\" class=\"data row9 col1\" >49073.6097</td>\n",
       "      <td id=\"T_50fef_row9_col2\" class=\"data row9 col2\" >4660998378.4656</td>\n",
       "      <td id=\"T_50fef_row9_col3\" class=\"data row9 col3\" >67840.1227</td>\n",
       "      <td id=\"T_50fef_row9_col4\" class=\"data row9 col4\" >0.2255</td>\n",
       "      <td id=\"T_50fef_row9_col5\" class=\"data row9 col5\" >0.3393</td>\n",
       "      <td id=\"T_50fef_row9_col6\" class=\"data row9 col6\" >0.2954</td>\n",
       "      <td id=\"T_50fef_row9_col7\" class=\"data row9 col7\" >0.8240</td>\n",
       "    </tr>\n",
       "    <tr>\n",
       "      <th id=\"T_50fef_level0_row10\" class=\"row_heading level0 row10\" >ada</th>\n",
       "      <td id=\"T_50fef_row10_col0\" class=\"data row10 col0\" >AdaBoost Regressor</td>\n",
       "      <td id=\"T_50fef_row10_col1\" class=\"data row10 col1\" >49882.9338</td>\n",
       "      <td id=\"T_50fef_row10_col2\" class=\"data row10 col2\" >5154762366.8788</td>\n",
       "      <td id=\"T_50fef_row10_col3\" class=\"data row10 col3\" >71228.2933</td>\n",
       "      <td id=\"T_50fef_row10_col4\" class=\"data row10 col4\" >0.1493</td>\n",
       "      <td id=\"T_50fef_row10_col5\" class=\"data row10 col5\" >0.3565</td>\n",
       "      <td id=\"T_50fef_row10_col6\" class=\"data row10 col6\" >0.2987</td>\n",
       "      <td id=\"T_50fef_row10_col7\" class=\"data row10 col7\" >0.8130</td>\n",
       "    </tr>\n",
       "    <tr>\n",
       "      <th id=\"T_50fef_level0_row11\" class=\"row_heading level0 row11\" >catboost</th>\n",
       "      <td id=\"T_50fef_row11_col0\" class=\"data row11 col0\" >CatBoost Regressor</td>\n",
       "      <td id=\"T_50fef_row11_col1\" class=\"data row11 col1\" >53639.1564</td>\n",
       "      <td id=\"T_50fef_row11_col2\" class=\"data row11 col2\" >5489410814.4002</td>\n",
       "      <td id=\"T_50fef_row11_col3\" class=\"data row11 col3\" >73692.5429</td>\n",
       "      <td id=\"T_50fef_row11_col4\" class=\"data row11 col4\" >0.0863</td>\n",
       "      <td id=\"T_50fef_row11_col5\" class=\"data row11 col5\" >0.3798</td>\n",
       "      <td id=\"T_50fef_row11_col6\" class=\"data row11 col6\" >0.3357</td>\n",
       "      <td id=\"T_50fef_row11_col7\" class=\"data row11 col7\" >5.7050</td>\n",
       "    </tr>\n",
       "    <tr>\n",
       "      <th id=\"T_50fef_level0_row12\" class=\"row_heading level0 row12\" >gbr</th>\n",
       "      <td id=\"T_50fef_row12_col0\" class=\"data row12 col0\" >Gradient Boosting Regressor</td>\n",
       "      <td id=\"T_50fef_row12_col1\" class=\"data row12 col1\" >56091.1895</td>\n",
       "      <td id=\"T_50fef_row12_col2\" class=\"data row12 col2\" >5703957392.8367</td>\n",
       "      <td id=\"T_50fef_row12_col3\" class=\"data row12 col3\" >75153.5589</td>\n",
       "      <td id=\"T_50fef_row12_col4\" class=\"data row12 col4\" >0.0483</td>\n",
       "      <td id=\"T_50fef_row12_col5\" class=\"data row12 col5\" >0.3947</td>\n",
       "      <td id=\"T_50fef_row12_col6\" class=\"data row12 col6\" >0.3595</td>\n",
       "      <td id=\"T_50fef_row12_col7\" class=\"data row12 col7\" >1.1340</td>\n",
       "    </tr>\n",
       "    <tr>\n",
       "      <th id=\"T_50fef_level0_row13\" class=\"row_heading level0 row13\" >rf</th>\n",
       "      <td id=\"T_50fef_row13_col0\" class=\"data row13 col0\" >Random Forest Regressor</td>\n",
       "      <td id=\"T_50fef_row13_col1\" class=\"data row13 col1\" >56854.4851</td>\n",
       "      <td id=\"T_50fef_row13_col2\" class=\"data row13 col2\" >5966234609.8225</td>\n",
       "      <td id=\"T_50fef_row13_col3\" class=\"data row13 col3\" >76884.5012</td>\n",
       "      <td id=\"T_50fef_row13_col4\" class=\"data row13 col4\" >0.0039</td>\n",
       "      <td id=\"T_50fef_row13_col5\" class=\"data row13 col5\" >0.4009</td>\n",
       "      <td id=\"T_50fef_row13_col6\" class=\"data row13 col6\" >0.3622</td>\n",
       "      <td id=\"T_50fef_row13_col7\" class=\"data row13 col7\" >2.3170</td>\n",
       "    </tr>\n",
       "    <tr>\n",
       "      <th id=\"T_50fef_level0_row14\" class=\"row_heading level0 row14\" >dt</th>\n",
       "      <td id=\"T_50fef_row14_col0\" class=\"data row14 col0\" >Decision Tree Regressor</td>\n",
       "      <td id=\"T_50fef_row14_col1\" class=\"data row14 col1\" >56786.4380</td>\n",
       "      <td id=\"T_50fef_row14_col2\" class=\"data row14 col2\" >6012910380.3322</td>\n",
       "      <td id=\"T_50fef_row14_col3\" class=\"data row14 col3\" >77176.5467</td>\n",
       "      <td id=\"T_50fef_row14_col4\" class=\"data row14 col4\" >-0.0034</td>\n",
       "      <td id=\"T_50fef_row14_col5\" class=\"data row14 col5\" >0.4004</td>\n",
       "      <td id=\"T_50fef_row14_col6\" class=\"data row14 col6\" >0.3587</td>\n",
       "      <td id=\"T_50fef_row14_col7\" class=\"data row14 col7\" >0.5000</td>\n",
       "    </tr>\n",
       "    <tr>\n",
       "      <th id=\"T_50fef_level0_row15\" class=\"row_heading level0 row15\" >dummy</th>\n",
       "      <td id=\"T_50fef_row15_col0\" class=\"data row15 col0\" >Dummy Regressor</td>\n",
       "      <td id=\"T_50fef_row15_col1\" class=\"data row15 col1\" >56741.8932</td>\n",
       "      <td id=\"T_50fef_row15_col2\" class=\"data row15 col2\" >6027751514.4837</td>\n",
       "      <td id=\"T_50fef_row15_col3\" class=\"data row15 col3\" >77259.5882</td>\n",
       "      <td id=\"T_50fef_row15_col4\" class=\"data row15 col4\" >-0.0052</td>\n",
       "      <td id=\"T_50fef_row15_col5\" class=\"data row15 col5\" >0.4006</td>\n",
       "      <td id=\"T_50fef_row15_col6\" class=\"data row15 col6\" >0.3581</td>\n",
       "      <td id=\"T_50fef_row15_col7\" class=\"data row15 col7\" >0.5070</td>\n",
       "    </tr>\n",
       "    <tr>\n",
       "      <th id=\"T_50fef_level0_row16\" class=\"row_heading level0 row16\" >lar</th>\n",
       "      <td id=\"T_50fef_row16_col0\" class=\"data row16 col0\" >Least Angle Regression</td>\n",
       "      <td id=\"T_50fef_row16_col1\" class=\"data row16 col1\" >360865.6569</td>\n",
       "      <td id=\"T_50fef_row16_col2\" class=\"data row16 col2\" >1920501197973.8933</td>\n",
       "      <td id=\"T_50fef_row16_col3\" class=\"data row16 col3\" >661822.3298</td>\n",
       "      <td id=\"T_50fef_row16_col4\" class=\"data row16 col4\" >-436.6170</td>\n",
       "      <td id=\"T_50fef_row16_col5\" class=\"data row16 col5\" >0.8057</td>\n",
       "      <td id=\"T_50fef_row16_col6\" class=\"data row16 col6\" >2.1835</td>\n",
       "      <td id=\"T_50fef_row16_col7\" class=\"data row16 col7\" >0.5190</td>\n",
       "    </tr>\n",
       "    <tr>\n",
       "      <th id=\"T_50fef_level0_row17\" class=\"row_heading level0 row17\" >lightgbm</th>\n",
       "      <td id=\"T_50fef_row17_col0\" class=\"data row17 col0\" >Light Gradient Boosting Machine</td>\n",
       "      <td id=\"T_50fef_row17_col1\" class=\"data row17 col1\" >24436204.4242</td>\n",
       "      <td id=\"T_50fef_row17_col2\" class=\"data row17 col2\" >10226845960131516.0000</td>\n",
       "      <td id=\"T_50fef_row17_col3\" class=\"data row17 col3\" >32046089.6375</td>\n",
       "      <td id=\"T_50fef_row17_col4\" class=\"data row17 col4\" >-1404515.9347</td>\n",
       "      <td id=\"T_50fef_row17_col5\" class=\"data row17 col5\" >1.0399</td>\n",
       "      <td id=\"T_50fef_row17_col6\" class=\"data row17 col6\" >154.5206</td>\n",
       "      <td id=\"T_50fef_row17_col7\" class=\"data row17 col7\" >2.9370</td>\n",
       "    </tr>\n",
       "    <tr>\n",
       "      <th id=\"T_50fef_level0_row18\" class=\"row_heading level0 row18\" >lr</th>\n",
       "      <td id=\"T_50fef_row18_col0\" class=\"data row18 col0\" >Linear Regression</td>\n",
       "      <td id=\"T_50fef_row18_col1\" class=\"data row18 col1\" >6683026386.6980</td>\n",
       "      <td id=\"T_50fef_row18_col2\" class=\"data row18 col2\" >45555809095832905449472.0000</td>\n",
       "      <td id=\"T_50fef_row18_col3\" class=\"data row18 col3\" >67495071944.4731</td>\n",
       "      <td id=\"T_50fef_row18_col4\" class=\"data row18 col4\" >-6032319407297.8838</td>\n",
       "      <td id=\"T_50fef_row18_col5\" class=\"data row18 col5\" >0.3769</td>\n",
       "      <td id=\"T_50fef_row18_col6\" class=\"data row18 col6\" >48603.8013</td>\n",
       "      <td id=\"T_50fef_row18_col7\" class=\"data row18 col7\" >0.4810</td>\n",
       "    </tr>\n",
       "  </tbody>\n",
       "</table>\n"
      ],
      "text/plain": [
       "<pandas.io.formats.style.Styler at 0x1cf21def310>"
      ]
     },
     "metadata": {},
     "output_type": "display_data"
    },
    {
     "data": {
      "application/vnd.jupyter.widget-view+json": {
       "model_id": "",
       "version_major": 2,
       "version_minor": 0
      },
      "text/plain": [
       "Processing:   0%|          | 0/85 [00:00<?, ?it/s]"
      ]
     },
     "metadata": {},
     "output_type": "display_data"
    }
   ],
   "source": [
    "init_models = compare_models(sort='RMSE')"
   ]
  },
  {
   "cell_type": "code",
   "execution_count": 31,
   "id": "e98e31cf-962a-48eb-a778-12f0475e7bc7",
   "metadata": {},
   "outputs": [
    {
     "data": {
      "text/plain": [
       "PassiveAggressiveRegressor(random_state=42)"
      ]
     },
     "execution_count": 31,
     "metadata": {},
     "output_type": "execute_result"
    }
   ],
   "source": [
    "init_models"
   ]
  },
  {
   "cell_type": "markdown",
   "id": "6e4e3eb9-0829-49dd-8167-cd5a5e0652f2",
   "metadata": {},
   "source": [
    "## Evaluate Models"
   ]
  },
  {
   "cell_type": "code",
   "execution_count": 32,
   "id": "340aa38b-c588-413a-85c5-0156e80a8f70",
   "metadata": {},
   "outputs": [
    {
     "data": {
      "application/vnd.jupyter.widget-view+json": {
       "model_id": "840b0c7cda0449078f05e849d5446f0b",
       "version_major": 2,
       "version_minor": 0
      },
      "text/plain": [
       "interactive(children=(ToggleButtons(description='Plot Type:', icons=('',), options=(('Pipeline Plot', 'pipelin…"
      ]
     },
     "metadata": {},
     "output_type": "display_data"
    }
   ],
   "source": [
    "evaluate_model(init_models,use_train_data=True)"
   ]
  },
  {
   "cell_type": "code",
   "execution_count": null,
   "id": "37fb0489-e91a-4e5b-8c6b-d2ccb29fdd91",
   "metadata": {},
   "outputs": [],
   "source": [
    "['GrLivArea','OverallQual','Neighborhood','1stFlrSF','BsmtFinSF1','2nd']"
   ]
  },
  {
   "cell_type": "code",
   "execution_count": 33,
   "id": "23f831fe-f19e-487f-a8ba-9ec3fd92f443",
   "metadata": {},
   "outputs": [
    {
     "data": {
      "text/html": [],
      "text/plain": [
       "<IPython.core.display.HTML object>"
      ]
     },
     "metadata": {},
     "output_type": "display_data"
    },
    {
     "data": {
      "image/png": "[encoded data removed]",
      "text/plain": [
       "<Figure size 800x500 with 1 Axes>"
      ]
     },
     "metadata": {},
     "output_type": "display_data"
    }
   ],
   "source": [
    "plot_model(init_models, plot = 'feature')"
   ]
  },
  {
   "cell_type": "markdown",
   "id": "138636c8-c6ab-4bb6-801d-f36b9d01577d",
   "metadata": {},
   "source": [
    "## Create the Best estimator"
   ]
  },
  {
   "cell_type": "code",
   "execution_count": 34,
   "id": "be43552b-c643-4102-b426-93245a133077",
   "metadata": {},
   "outputs": [
    {
     "data": {
      "text/html": [],
      "text/plain": [
       "<IPython.core.display.HTML object>"
      ]
     },
     "metadata": {},
     "output_type": "display_data"
    },
    {
     "data": {
      "text/html": [
       "<style type=\"text/css\">\n",
       "#T_09d2b_row10_col0, #T_09d2b_row10_col1, #T_09d2b_row10_col2, #T_09d2b_row10_col3, #T_09d2b_row10_col4, #T_09d2b_row10_col5 {\n",
       "  background: yellow;\n",
       "}\n",
       "</style>\n",
       "<table id=\"T_09d2b\">\n",
       "  <thead>\n",
       "    <tr>\n",
       "      <th class=\"blank level0\" >&nbsp;</th>\n",
       "      <th id=\"T_09d2b_level0_col0\" class=\"col_heading level0 col0\" >MAE</th>\n",
       "      <th id=\"T_09d2b_level0_col1\" class=\"col_heading level0 col1\" >MSE</th>\n",
       "      <th id=\"T_09d2b_level0_col2\" class=\"col_heading level0 col2\" >RMSE</th>\n",
       "      <th id=\"T_09d2b_level0_col3\" class=\"col_heading level0 col3\" >R2</th>\n",
       "      <th id=\"T_09d2b_level0_col4\" class=\"col_heading level0 col4\" >RMSLE</th>\n",
       "      <th id=\"T_09d2b_level0_col5\" class=\"col_heading level0 col5\" >MAPE</th>\n",
       "    </tr>\n",
       "    <tr>\n",
       "      <th class=\"index_name level0\" >Fold</th>\n",
       "      <th class=\"blank col0\" >&nbsp;</th>\n",
       "      <th class=\"blank col1\" >&nbsp;</th>\n",
       "      <th class=\"blank col2\" >&nbsp;</th>\n",
       "      <th class=\"blank col3\" >&nbsp;</th>\n",
       "      <th class=\"blank col4\" >&nbsp;</th>\n",
       "      <th class=\"blank col5\" >&nbsp;</th>\n",
       "    </tr>\n",
       "  </thead>\n",
       "  <tbody>\n",
       "    <tr>\n",
       "      <th id=\"T_09d2b_level0_row0\" class=\"row_heading level0 row0\" >0</th>\n",
       "      <td id=\"T_09d2b_row0_col0\" class=\"data row0 col0\" >20717.2527</td>\n",
       "      <td id=\"T_09d2b_row0_col1\" class=\"data row0 col1\" >1742626298.3204</td>\n",
       "      <td id=\"T_09d2b_row0_col2\" class=\"data row0 col2\" >41744.7757</td>\n",
       "      <td id=\"T_09d2b_row0_col3\" class=\"data row0 col3\" >0.7872</td>\n",
       "      <td id=\"T_09d2b_row0_col4\" class=\"data row0 col4\" >0.1809</td>\n",
       "      <td id=\"T_09d2b_row0_col5\" class=\"data row0 col5\" >0.1123</td>\n",
       "    </tr>\n",
       "    <tr>\n",
       "      <th id=\"T_09d2b_level0_row1\" class=\"row_heading level0 row1\" >1</th>\n",
       "      <td id=\"T_09d2b_row1_col0\" class=\"data row1 col0\" >19111.5385</td>\n",
       "      <td id=\"T_09d2b_row1_col1\" class=\"data row1 col1\" >644742898.4481</td>\n",
       "      <td id=\"T_09d2b_row1_col2\" class=\"data row1 col2\" >25391.7880</td>\n",
       "      <td id=\"T_09d2b_row1_col3\" class=\"data row1 col3\" >0.8821</td>\n",
       "      <td id=\"T_09d2b_row1_col4\" class=\"data row1 col4\" >0.1578</td>\n",
       "      <td id=\"T_09d2b_row1_col5\" class=\"data row1 col5\" >0.1106</td>\n",
       "    </tr>\n",
       "    <tr>\n",
       "      <th id=\"T_09d2b_level0_row2\" class=\"row_heading level0 row2\" >2</th>\n",
       "      <td id=\"T_09d2b_row2_col0\" class=\"data row2 col0\" >21881.7615</td>\n",
       "      <td id=\"T_09d2b_row2_col1\" class=\"data row2 col1\" >1812178897.7641</td>\n",
       "      <td id=\"T_09d2b_row2_col2\" class=\"data row2 col2\" >42569.6946</td>\n",
       "      <td id=\"T_09d2b_row2_col3\" class=\"data row2 col3\" >0.6552</td>\n",
       "      <td id=\"T_09d2b_row2_col4\" class=\"data row2 col4\" >0.2153</td>\n",
       "      <td id=\"T_09d2b_row2_col5\" class=\"data row2 col5\" >0.1324</td>\n",
       "    </tr>\n",
       "    <tr>\n",
       "      <th id=\"T_09d2b_level0_row3\" class=\"row_heading level0 row3\" >3</th>\n",
       "      <td id=\"T_09d2b_row3_col0\" class=\"data row3 col0\" >25058.7211</td>\n",
       "      <td id=\"T_09d2b_row3_col1\" class=\"data row3 col1\" >3851634334.2964</td>\n",
       "      <td id=\"T_09d2b_row3_col2\" class=\"data row3 col2\" >62061.5367</td>\n",
       "      <td id=\"T_09d2b_row3_col3\" class=\"data row3 col3\" >0.4900</td>\n",
       "      <td id=\"T_09d2b_row3_col4\" class=\"data row3 col4\" >0.2083</td>\n",
       "      <td id=\"T_09d2b_row3_col5\" class=\"data row3 col5\" >0.1388</td>\n",
       "    </tr>\n",
       "    <tr>\n",
       "      <th id=\"T_09d2b_level0_row4\" class=\"row_heading level0 row4\" >4</th>\n",
       "      <td id=\"T_09d2b_row4_col0\" class=\"data row4 col0\" >19830.6438</td>\n",
       "      <td id=\"T_09d2b_row4_col1\" class=\"data row4 col1\" >1273732484.4643</td>\n",
       "      <td id=\"T_09d2b_row4_col2\" class=\"data row4 col2\" >35689.3890</td>\n",
       "      <td id=\"T_09d2b_row4_col3\" class=\"data row4 col3\" >0.8251</td>\n",
       "      <td id=\"T_09d2b_row4_col4\" class=\"data row4 col4\" >0.1729</td>\n",
       "      <td id=\"T_09d2b_row4_col5\" class=\"data row4 col5\" >0.1160</td>\n",
       "    </tr>\n",
       "    <tr>\n",
       "      <th id=\"T_09d2b_level0_row5\" class=\"row_heading level0 row5\" >5</th>\n",
       "      <td id=\"T_09d2b_row5_col0\" class=\"data row5 col0\" >18537.4527</td>\n",
       "      <td id=\"T_09d2b_row5_col1\" class=\"data row5 col1\" >756682432.8143</td>\n",
       "      <td id=\"T_09d2b_row5_col2\" class=\"data row5 col2\" >27507.8613</td>\n",
       "      <td id=\"T_09d2b_row5_col3\" class=\"data row5 col3\" >0.8614</td>\n",
       "      <td id=\"T_09d2b_row5_col4\" class=\"data row5 col4\" >0.3235</td>\n",
       "      <td id=\"T_09d2b_row5_col5\" class=\"data row5 col5\" >0.1168</td>\n",
       "    </tr>\n",
       "    <tr>\n",
       "      <th id=\"T_09d2b_level0_row6\" class=\"row_heading level0 row6\" >6</th>\n",
       "      <td id=\"T_09d2b_row6_col0\" class=\"data row6 col0\" >17037.0941</td>\n",
       "      <td id=\"T_09d2b_row6_col1\" class=\"data row6 col1\" >617902792.7716</td>\n",
       "      <td id=\"T_09d2b_row6_col2\" class=\"data row6 col2\" >24857.6506</td>\n",
       "      <td id=\"T_09d2b_row6_col3\" class=\"data row6 col3\" >0.8709</td>\n",
       "      <td id=\"T_09d2b_row6_col4\" class=\"data row6 col4\" >0.1265</td>\n",
       "      <td id=\"T_09d2b_row6_col5\" class=\"data row6 col5\" >0.0954</td>\n",
       "    </tr>\n",
       "    <tr>\n",
       "      <th id=\"T_09d2b_level0_row7\" class=\"row_heading level0 row7\" >7</th>\n",
       "      <td id=\"T_09d2b_row7_col0\" class=\"data row7 col0\" >16987.8141</td>\n",
       "      <td id=\"T_09d2b_row7_col1\" class=\"data row7 col1\" >567380561.6022</td>\n",
       "      <td id=\"T_09d2b_row7_col2\" class=\"data row7 col2\" >23819.7515</td>\n",
       "      <td id=\"T_09d2b_row7_col3\" class=\"data row7 col3\" >0.9031</td>\n",
       "      <td id=\"T_09d2b_row7_col4\" class=\"data row7 col4\" >0.1265</td>\n",
       "      <td id=\"T_09d2b_row7_col5\" class=\"data row7 col5\" >0.0962</td>\n",
       "    </tr>\n",
       "    <tr>\n",
       "      <th id=\"T_09d2b_level0_row8\" class=\"row_heading level0 row8\" >8</th>\n",
       "      <td id=\"T_09d2b_row8_col0\" class=\"data row8 col0\" >17006.6197</td>\n",
       "      <td id=\"T_09d2b_row8_col1\" class=\"data row8 col1\" >722639156.3891</td>\n",
       "      <td id=\"T_09d2b_row8_col2\" class=\"data row8 col2\" >26881.9485</td>\n",
       "      <td id=\"T_09d2b_row8_col3\" class=\"data row8 col3\" >0.8285</td>\n",
       "      <td id=\"T_09d2b_row8_col4\" class=\"data row8 col4\" >0.1603</td>\n",
       "      <td id=\"T_09d2b_row8_col5\" class=\"data row8 col5\" >0.1025</td>\n",
       "    </tr>\n",
       "    <tr>\n",
       "      <th id=\"T_09d2b_level0_row9\" class=\"row_heading level0 row9\" >9</th>\n",
       "      <td id=\"T_09d2b_row9_col0\" class=\"data row9 col0\" >16431.3894</td>\n",
       "      <td id=\"T_09d2b_row9_col1\" class=\"data row9 col1\" >663216471.4415</td>\n",
       "      <td id=\"T_09d2b_row9_col2\" class=\"data row9 col2\" >25752.9896</td>\n",
       "      <td id=\"T_09d2b_row9_col3\" class=\"data row9 col3\" >0.8881</td>\n",
       "      <td id=\"T_09d2b_row9_col4\" class=\"data row9 col4\" >0.1153</td>\n",
       "      <td id=\"T_09d2b_row9_col5\" class=\"data row9 col5\" >0.0846</td>\n",
       "    </tr>\n",
       "    <tr>\n",
       "      <th id=\"T_09d2b_level0_row10\" class=\"row_heading level0 row10\" >Mean</th>\n",
       "      <td id=\"T_09d2b_row10_col0\" class=\"data row10 col0\" >19260.0288</td>\n",
       "      <td id=\"T_09d2b_row10_col1\" class=\"data row10 col1\" >1265273632.8312</td>\n",
       "      <td id=\"T_09d2b_row10_col2\" class=\"data row10 col2\" >33627.7385</td>\n",
       "      <td id=\"T_09d2b_row10_col3\" class=\"data row10 col3\" >0.7992</td>\n",
       "      <td id=\"T_09d2b_row10_col4\" class=\"data row10 col4\" >0.1787</td>\n",
       "      <td id=\"T_09d2b_row10_col5\" class=\"data row10 col5\" >0.1105</td>\n",
       "    </tr>\n",
       "    <tr>\n",
       "      <th id=\"T_09d2b_level0_row11\" class=\"row_heading level0 row11\" >Std</th>\n",
       "      <td id=\"T_09d2b_row11_col0\" class=\"data row11 col0\" >2582.1509</td>\n",
       "      <td id=\"T_09d2b_row11_col1\" class=\"data row11 col1\" >970726342.0448</td>\n",
       "      <td id=\"T_09d2b_row11_col2\" class=\"data row11 col2\" >11595.2073</td>\n",
       "      <td id=\"T_09d2b_row11_col3\" class=\"data row11 col3\" >0.1235</td>\n",
       "      <td id=\"T_09d2b_row11_col4\" class=\"data row11 col4\" >0.0579</td>\n",
       "      <td id=\"T_09d2b_row11_col5\" class=\"data row11 col5\" >0.0159</td>\n",
       "    </tr>\n",
       "  </tbody>\n",
       "</table>\n"
      ],
      "text/plain": [
       "<pandas.io.formats.style.Styler at 0x1cf1f3966a0>"
      ]
     },
     "metadata": {},
     "output_type": "display_data"
    },
    {
     "data": {
      "application/vnd.jupyter.widget-view+json": {
       "model_id": "",
       "version_major": 2,
       "version_minor": 0
      },
      "text/plain": [
       "Processing:   0%|          | 0/4 [00:00<?, ?it/s]"
      ]
     },
     "metadata": {},
     "output_type": "display_data"
    }
   ],
   "source": [
    "## Create Passive Aggressive Regressor estimator\n",
    "PAR = create_model('par')"
   ]
  },
  {
   "cell_type": "code",
   "execution_count": 35,
   "id": "a8ecc916-ce5e-40f2-b5d4-1cbd130630a1",
   "metadata": {},
   "outputs": [
    {
     "data": {
      "text/html": [],
      "text/plain": [
       "<IPython.core.display.HTML object>"
      ]
     },
     "metadata": {},
     "output_type": "display_data"
    },
    {
     "data": {
      "text/html": [
       "<style type=\"text/css\">\n",
       "#T_4a5f6_row10_col0, #T_4a5f6_row10_col1, #T_4a5f6_row10_col2, #T_4a5f6_row10_col3, #T_4a5f6_row10_col4, #T_4a5f6_row10_col5 {\n",
       "  background: yellow;\n",
       "}\n",
       "</style>\n",
       "<table id=\"T_4a5f6\">\n",
       "  <thead>\n",
       "    <tr>\n",
       "      <th class=\"blank level0\" >&nbsp;</th>\n",
       "      <th id=\"T_4a5f6_level0_col0\" class=\"col_heading level0 col0\" >MAE</th>\n",
       "      <th id=\"T_4a5f6_level0_col1\" class=\"col_heading level0 col1\" >MSE</th>\n",
       "      <th id=\"T_4a5f6_level0_col2\" class=\"col_heading level0 col2\" >RMSE</th>\n",
       "      <th id=\"T_4a5f6_level0_col3\" class=\"col_heading level0 col3\" >R2</th>\n",
       "      <th id=\"T_4a5f6_level0_col4\" class=\"col_heading level0 col4\" >RMSLE</th>\n",
       "      <th id=\"T_4a5f6_level0_col5\" class=\"col_heading level0 col5\" >MAPE</th>\n",
       "    </tr>\n",
       "    <tr>\n",
       "      <th class=\"index_name level0\" >Fold</th>\n",
       "      <th class=\"blank col0\" >&nbsp;</th>\n",
       "      <th class=\"blank col1\" >&nbsp;</th>\n",
       "      <th class=\"blank col2\" >&nbsp;</th>\n",
       "      <th class=\"blank col3\" >&nbsp;</th>\n",
       "      <th class=\"blank col4\" >&nbsp;</th>\n",
       "      <th class=\"blank col5\" >&nbsp;</th>\n",
       "    </tr>\n",
       "  </thead>\n",
       "  <tbody>\n",
       "    <tr>\n",
       "      <th id=\"T_4a5f6_level0_row0\" class=\"row_heading level0 row0\" >0</th>\n",
       "      <td id=\"T_4a5f6_row0_col0\" class=\"data row0 col0\" >20363.7488</td>\n",
       "      <td id=\"T_4a5f6_row0_col1\" class=\"data row0 col1\" >1700729069.9472</td>\n",
       "      <td id=\"T_4a5f6_row0_col2\" class=\"data row0 col2\" >41239.8966</td>\n",
       "      <td id=\"T_4a5f6_row0_col3\" class=\"data row0 col3\" >0.7923</td>\n",
       "      <td id=\"T_4a5f6_row0_col4\" class=\"data row0 col4\" >0.1741</td>\n",
       "      <td id=\"T_4a5f6_row0_col5\" class=\"data row0 col5\" >0.1100</td>\n",
       "    </tr>\n",
       "    <tr>\n",
       "      <th id=\"T_4a5f6_level0_row1\" class=\"row_heading level0 row1\" >1</th>\n",
       "      <td id=\"T_4a5f6_row1_col0\" class=\"data row1 col0\" >19137.9659</td>\n",
       "      <td id=\"T_4a5f6_row1_col1\" class=\"data row1 col1\" >676583277.4017</td>\n",
       "      <td id=\"T_4a5f6_row1_col2\" class=\"data row1 col2\" >26011.2145</td>\n",
       "      <td id=\"T_4a5f6_row1_col3\" class=\"data row1 col3\" >0.8763</td>\n",
       "      <td id=\"T_4a5f6_row1_col4\" class=\"data row1 col4\" >0.1581</td>\n",
       "      <td id=\"T_4a5f6_row1_col5\" class=\"data row1 col5\" >0.1140</td>\n",
       "    </tr>\n",
       "    <tr>\n",
       "      <th id=\"T_4a5f6_level0_row2\" class=\"row_heading level0 row2\" >2</th>\n",
       "      <td id=\"T_4a5f6_row2_col0\" class=\"data row2 col0\" >22220.8976</td>\n",
       "      <td id=\"T_4a5f6_row2_col1\" class=\"data row2 col1\" >1928102620.5778</td>\n",
       "      <td id=\"T_4a5f6_row2_col2\" class=\"data row2 col2\" >43910.1653</td>\n",
       "      <td id=\"T_4a5f6_row2_col3\" class=\"data row2 col3\" >0.6331</td>\n",
       "      <td id=\"T_4a5f6_row2_col4\" class=\"data row2 col4\" >0.2078</td>\n",
       "      <td id=\"T_4a5f6_row2_col5\" class=\"data row2 col5\" >0.1336</td>\n",
       "    </tr>\n",
       "    <tr>\n",
       "      <th id=\"T_4a5f6_level0_row3\" class=\"row_heading level0 row3\" >3</th>\n",
       "      <td id=\"T_4a5f6_row3_col0\" class=\"data row3 col0\" >25722.7257</td>\n",
       "      <td id=\"T_4a5f6_row3_col1\" class=\"data row3 col1\" >4508689980.9549</td>\n",
       "      <td id=\"T_4a5f6_row3_col2\" class=\"data row3 col2\" >67146.7794</td>\n",
       "      <td id=\"T_4a5f6_row3_col3\" class=\"data row3 col3\" >0.4030</td>\n",
       "      <td id=\"T_4a5f6_row3_col4\" class=\"data row3 col4\" >0.2194</td>\n",
       "      <td id=\"T_4a5f6_row3_col5\" class=\"data row3 col5\" >0.1470</td>\n",
       "    </tr>\n",
       "    <tr>\n",
       "      <th id=\"T_4a5f6_level0_row4\" class=\"row_heading level0 row4\" >4</th>\n",
       "      <td id=\"T_4a5f6_row4_col0\" class=\"data row4 col0\" >19895.1488</td>\n",
       "      <td id=\"T_4a5f6_row4_col1\" class=\"data row4 col1\" >1280864575.9104</td>\n",
       "      <td id=\"T_4a5f6_row4_col2\" class=\"data row4 col2\" >35789.1684</td>\n",
       "      <td id=\"T_4a5f6_row4_col3\" class=\"data row4 col3\" >0.8241</td>\n",
       "      <td id=\"T_4a5f6_row4_col4\" class=\"data row4 col4\" >0.1695</td>\n",
       "      <td id=\"T_4a5f6_row4_col5\" class=\"data row4 col5\" >0.1178</td>\n",
       "    </tr>\n",
       "    <tr>\n",
       "      <th id=\"T_4a5f6_level0_row5\" class=\"row_heading level0 row5\" >5</th>\n",
       "      <td id=\"T_4a5f6_row5_col0\" class=\"data row5 col0\" >19205.0764</td>\n",
       "      <td id=\"T_4a5f6_row5_col1\" class=\"data row5 col1\" >798587514.4908</td>\n",
       "      <td id=\"T_4a5f6_row5_col2\" class=\"data row5 col2\" >28259.2908</td>\n",
       "      <td id=\"T_4a5f6_row5_col3\" class=\"data row5 col3\" >0.8537</td>\n",
       "      <td id=\"T_4a5f6_row5_col4\" class=\"data row5 col4\" >0.2431</td>\n",
       "      <td id=\"T_4a5f6_row5_col5\" class=\"data row5 col5\" >0.1211</td>\n",
       "    </tr>\n",
       "    <tr>\n",
       "      <th id=\"T_4a5f6_level0_row6\" class=\"row_heading level0 row6\" >6</th>\n",
       "      <td id=\"T_4a5f6_row6_col0\" class=\"data row6 col0\" >17142.3879</td>\n",
       "      <td id=\"T_4a5f6_row6_col1\" class=\"data row6 col1\" >616854695.6699</td>\n",
       "      <td id=\"T_4a5f6_row6_col2\" class=\"data row6 col2\" >24836.5597</td>\n",
       "      <td id=\"T_4a5f6_row6_col3\" class=\"data row6 col3\" >0.8712</td>\n",
       "      <td id=\"T_4a5f6_row6_col4\" class=\"data row6 col4\" >0.1274</td>\n",
       "      <td id=\"T_4a5f6_row6_col5\" class=\"data row6 col5\" >0.0965</td>\n",
       "    </tr>\n",
       "    <tr>\n",
       "      <th id=\"T_4a5f6_level0_row7\" class=\"row_heading level0 row7\" >7</th>\n",
       "      <td id=\"T_4a5f6_row7_col0\" class=\"data row7 col0\" >16598.3714</td>\n",
       "      <td id=\"T_4a5f6_row7_col1\" class=\"data row7 col1\" >550047057.9155</td>\n",
       "      <td id=\"T_4a5f6_row7_col2\" class=\"data row7 col2\" >23453.0821</td>\n",
       "      <td id=\"T_4a5f6_row7_col3\" class=\"data row7 col3\" >0.9061</td>\n",
       "      <td id=\"T_4a5f6_row7_col4\" class=\"data row7 col4\" >0.1249</td>\n",
       "      <td id=\"T_4a5f6_row7_col5\" class=\"data row7 col5\" >0.0941</td>\n",
       "    </tr>\n",
       "    <tr>\n",
       "      <th id=\"T_4a5f6_level0_row8\" class=\"row_heading level0 row8\" >8</th>\n",
       "      <td id=\"T_4a5f6_row8_col0\" class=\"data row8 col0\" >17106.8875</td>\n",
       "      <td id=\"T_4a5f6_row8_col1\" class=\"data row8 col1\" >608595285.4013</td>\n",
       "      <td id=\"T_4a5f6_row8_col2\" class=\"data row8 col2\" >24669.7241</td>\n",
       "      <td id=\"T_4a5f6_row8_col3\" class=\"data row8 col3\" >0.8556</td>\n",
       "      <td id=\"T_4a5f6_row8_col4\" class=\"data row8 col4\" >0.1446</td>\n",
       "      <td id=\"T_4a5f6_row8_col5\" class=\"data row8 col5\" >0.1046</td>\n",
       "    </tr>\n",
       "    <tr>\n",
       "      <th id=\"T_4a5f6_level0_row9\" class=\"row_heading level0 row9\" >9</th>\n",
       "      <td id=\"T_4a5f6_row9_col0\" class=\"data row9 col0\" >16511.2730</td>\n",
       "      <td id=\"T_4a5f6_row9_col1\" class=\"data row9 col1\" >633980937.3285</td>\n",
       "      <td id=\"T_4a5f6_row9_col2\" class=\"data row9 col2\" >25178.9781</td>\n",
       "      <td id=\"T_4a5f6_row9_col3\" class=\"data row9 col3\" >0.8930</td>\n",
       "      <td id=\"T_4a5f6_row9_col4\" class=\"data row9 col4\" >0.1141</td>\n",
       "      <td id=\"T_4a5f6_row9_col5\" class=\"data row9 col5\" >0.0857</td>\n",
       "    </tr>\n",
       "    <tr>\n",
       "      <th id=\"T_4a5f6_level0_row10\" class=\"row_heading level0 row10\" >Mean</th>\n",
       "      <td id=\"T_4a5f6_row10_col0\" class=\"data row10 col0\" >19390.4483</td>\n",
       "      <td id=\"T_4a5f6_row10_col1\" class=\"data row10 col1\" >1330303501.5598</td>\n",
       "      <td id=\"T_4a5f6_row10_col2\" class=\"data row10 col2\" >34049.4859</td>\n",
       "      <td id=\"T_4a5f6_row10_col3\" class=\"data row10 col3\" >0.7908</td>\n",
       "      <td id=\"T_4a5f6_row10_col4\" class=\"data row10 col4\" >0.1683</td>\n",
       "      <td id=\"T_4a5f6_row10_col5\" class=\"data row10 col5\" >0.1124</td>\n",
       "    </tr>\n",
       "    <tr>\n",
       "      <th id=\"T_4a5f6_level0_row11\" class=\"row_heading level0 row11\" >Std</th>\n",
       "      <td id=\"T_4a5f6_row11_col0\" class=\"data row11 col0\" >2752.5097</td>\n",
       "      <td id=\"T_4a5f6_row11_col1\" class=\"data row11 col1\" >1158998399.9025</td>\n",
       "      <td id=\"T_4a5f6_row11_col2\" class=\"data row11 col2\" >13074.2500</td>\n",
       "      <td id=\"T_4a5f6_row11_col3\" class=\"data row11 col3\" >0.1490</td>\n",
       "      <td id=\"T_4a5f6_row11_col4\" class=\"data row11 col4\" >0.0412</td>\n",
       "      <td id=\"T_4a5f6_row11_col5\" class=\"data row11 col5\" >0.0177</td>\n",
       "    </tr>\n",
       "  </tbody>\n",
       "</table>\n"
      ],
      "text/plain": [
       "<pandas.io.formats.style.Styler at 0x1cf28d01af0>"
      ]
     },
     "metadata": {},
     "output_type": "display_data"
    },
    {
     "data": {
      "application/vnd.jupyter.widget-view+json": {
       "model_id": "",
       "version_major": 2,
       "version_minor": 0
      },
      "text/plain": [
       "Processing:   0%|          | 0/7 [00:00<?, ?it/s]"
      ]
     },
     "metadata": {},
     "output_type": "display_data"
    },
    {
     "name": "stdout",
     "output_type": "stream",
     "text": [
      "Fitting 10 folds for each of 10 candidates, totalling 100 fits\n",
      "Original model was better than the tuned model, hence it will be returned. NOTE: The display metrics are for the tuned model (not the original one).\n"
     ]
    }
   ],
   "source": [
    "#Tune the PAR model.\n",
    "\n",
    "tuned_par = tune_model(PAR)"
   ]
  },
  {
   "cell_type": "markdown",
   "id": "8c56a032-73bb-4351-b123-74ad3fab61a7",
   "metadata": {},
   "source": [
    "## Prediction on Holdout Data - Setup"
   ]
  },
  {
   "cell_type": "code",
   "execution_count": 36,
   "id": "58979078-6f58-4da8-82f8-8cba936f36d6",
   "metadata": {},
   "outputs": [
    {
     "data": {
      "text/html": [
       "<style type=\"text/css\">\n",
       "</style>\n",
       "<table id=\"T_0e9d4\">\n",
       "  <thead>\n",
       "    <tr>\n",
       "      <th class=\"blank level0\" >&nbsp;</th>\n",
       "      <th id=\"T_0e9d4_level0_col0\" class=\"col_heading level0 col0\" >Model</th>\n",
       "      <th id=\"T_0e9d4_level0_col1\" class=\"col_heading level0 col1\" >MAE</th>\n",
       "      <th id=\"T_0e9d4_level0_col2\" class=\"col_heading level0 col2\" >MSE</th>\n",
       "      <th id=\"T_0e9d4_level0_col3\" class=\"col_heading level0 col3\" >RMSE</th>\n",
       "      <th id=\"T_0e9d4_level0_col4\" class=\"col_heading level0 col4\" >R2</th>\n",
       "      <th id=\"T_0e9d4_level0_col5\" class=\"col_heading level0 col5\" >RMSLE</th>\n",
       "      <th id=\"T_0e9d4_level0_col6\" class=\"col_heading level0 col6\" >MAPE</th>\n",
       "    </tr>\n",
       "  </thead>\n",
       "  <tbody>\n",
       "    <tr>\n",
       "      <th id=\"T_0e9d4_level0_row0\" class=\"row_heading level0 row0\" >0</th>\n",
       "      <td id=\"T_0e9d4_row0_col0\" class=\"data row0 col0\" >Passive Aggressive Regressor</td>\n",
       "      <td id=\"T_0e9d4_row0_col1\" class=\"data row0 col1\" >18490.7176</td>\n",
       "      <td id=\"T_0e9d4_row0_col2\" class=\"data row0 col2\" >972324696.3061</td>\n",
       "      <td id=\"T_0e9d4_row0_col3\" class=\"data row0 col3\" >31182.1214</td>\n",
       "      <td id=\"T_0e9d4_row0_col4\" class=\"data row0 col4\" >0.8603</td>\n",
       "      <td id=\"T_0e9d4_row0_col5\" class=\"data row0 col5\" >0.1773</td>\n",
       "      <td id=\"T_0e9d4_row0_col6\" class=\"data row0 col6\" >0.1044</td>\n",
       "    </tr>\n",
       "  </tbody>\n",
       "</table>\n"
      ],
      "text/plain": [
       "<pandas.io.formats.style.Styler at 0x1cf2671c820>"
      ]
     },
     "metadata": {},
     "output_type": "display_data"
    },
    {
     "data": {
      "text/html": [
       "<div>\n",
       "<style scoped>\n",
       "    .dataframe tbody tr th:only-of-type {\n",
       "        vertical-align: middle;\n",
       "    }\n",
       "\n",
       "    .dataframe tbody tr th {\n",
       "        vertical-align: top;\n",
       "    }\n",
       "\n",
       "    .dataframe thead th {\n",
       "        text-align: right;\n",
       "    }\n",
       "</style>\n",
       "<table border=\"1\" class=\"dataframe\">\n",
       "  <thead>\n",
       "    <tr style=\"text-align: right;\">\n",
       "      <th></th>\n",
       "      <th>Id</th>\n",
       "      <th>MSSubClass</th>\n",
       "      <th>MSZoning_RM</th>\n",
       "      <th>MSZoning_FV</th>\n",
       "      <th>MSZoning_RL</th>\n",
       "      <th>MSZoning_C (all)</th>\n",
       "      <th>MSZoning_RH</th>\n",
       "      <th>LotFrontage</th>\n",
       "      <th>LotArea</th>\n",
       "      <th>Street</th>\n",
       "      <th>...</th>\n",
       "      <th>WoodDeckSF</th>\n",
       "      <th>OpenPorchSF</th>\n",
       "      <th>EnclosedPorch</th>\n",
       "      <th>3SsnPorch</th>\n",
       "      <th>ScreenPorch</th>\n",
       "      <th>PoolArea</th>\n",
       "      <th>MoSold</th>\n",
       "      <th>YrSold</th>\n",
       "      <th>SalePrice</th>\n",
       "      <th>prediction_label</th>\n",
       "    </tr>\n",
       "  </thead>\n",
       "  <tbody>\n",
       "    <tr>\n",
       "      <th>1021</th>\n",
       "      <td>0.376253</td>\n",
       "      <td>-0.869697</td>\n",
       "      <td>-0.423065</td>\n",
       "      <td>-0.209684</td>\n",
       "      <td>0.516478</td>\n",
       "      <td>-0.062715</td>\n",
       "      <td>-0.113564</td>\n",
       "      <td>-0.015778</td>\n",
       "      <td>-0.205810</td>\n",
       "      <td>0.062715</td>\n",
       "      <td>...</td>\n",
       "      <td>0.717216</td>\n",
       "      <td>-0.716505</td>\n",
       "      <td>-0.346561</td>\n",
       "      <td>-0.119377</td>\n",
       "      <td>-0.276042</td>\n",
       "      <td>-0.069227</td>\n",
       "      <td>-1.647436</td>\n",
       "      <td>-1.368167</td>\n",
       "      <td>154500</td>\n",
       "      <td>150867.261060</td>\n",
       "    </tr>\n",
       "    <tr>\n",
       "      <th>1022</th>\n",
       "      <td>0.876899</td>\n",
       "      <td>0.068083</td>\n",
       "      <td>-0.423065</td>\n",
       "      <td>-0.209684</td>\n",
       "      <td>0.516478</td>\n",
       "      <td>-0.062715</td>\n",
       "      <td>-0.113564</td>\n",
       "      <td>1.199835</td>\n",
       "      <td>0.133297</td>\n",
       "      <td>0.062715</td>\n",
       "      <td>...</td>\n",
       "      <td>0.671655</td>\n",
       "      <td>-0.254001</td>\n",
       "      <td>-0.346561</td>\n",
       "      <td>-0.119377</td>\n",
       "      <td>-0.276042</td>\n",
       "      <td>-0.069227</td>\n",
       "      <td>-0.892654</td>\n",
       "      <td>1.648893</td>\n",
       "      <td>325000</td>\n",
       "      <td>315979.458672</td>\n",
       "    </tr>\n",
       "    <tr>\n",
       "      <th>1023</th>\n",
       "      <td>-0.749611</td>\n",
       "      <td>-0.635252</td>\n",
       "      <td>2.363704</td>\n",
       "      <td>-0.209684</td>\n",
       "      <td>-1.936191</td>\n",
       "      <td>-0.062715</td>\n",
       "      <td>-0.113564</td>\n",
       "      <td>-0.623584</td>\n",
       "      <td>-0.157618</td>\n",
       "      <td>0.062715</td>\n",
       "      <td>...</td>\n",
       "      <td>-0.740733</td>\n",
       "      <td>-0.716505</td>\n",
       "      <td>1.766203</td>\n",
       "      <td>-0.119377</td>\n",
       "      <td>-0.276042</td>\n",
       "      <td>-0.069227</td>\n",
       "      <td>-1.270045</td>\n",
       "      <td>1.648893</td>\n",
       "      <td>115000</td>\n",
       "      <td>114449.600638</td>\n",
       "    </tr>\n",
       "    <tr>\n",
       "      <th>1024</th>\n",
       "      <td>-0.493412</td>\n",
       "      <td>-0.166362</td>\n",
       "      <td>2.363704</td>\n",
       "      <td>-0.209684</td>\n",
       "      <td>-1.936191</td>\n",
       "      <td>-0.062715</td>\n",
       "      <td>-0.113564</td>\n",
       "      <td>-0.884073</td>\n",
       "      <td>-0.507141</td>\n",
       "      <td>0.062715</td>\n",
       "      <td>...</td>\n",
       "      <td>-0.740733</td>\n",
       "      <td>-0.369627</td>\n",
       "      <td>0.238512</td>\n",
       "      <td>-0.119377</td>\n",
       "      <td>-0.276042</td>\n",
       "      <td>-0.069227</td>\n",
       "      <td>1.371693</td>\n",
       "      <td>-1.368167</td>\n",
       "      <td>159000</td>\n",
       "      <td>168027.986943</td>\n",
       "    </tr>\n",
       "    <tr>\n",
       "      <th>1025</th>\n",
       "      <td>0.714718</td>\n",
       "      <td>-0.869697</td>\n",
       "      <td>-0.423065</td>\n",
       "      <td>-0.209684</td>\n",
       "      <td>0.516478</td>\n",
       "      <td>-0.062715</td>\n",
       "      <td>-0.113564</td>\n",
       "      <td>0.809103</td>\n",
       "      <td>0.189962</td>\n",
       "      <td>0.062715</td>\n",
       "      <td>...</td>\n",
       "      <td>0.990581</td>\n",
       "      <td>-0.716505</td>\n",
       "      <td>-0.346561</td>\n",
       "      <td>-0.119377</td>\n",
       "      <td>-0.276042</td>\n",
       "      <td>-0.069227</td>\n",
       "      <td>0.994302</td>\n",
       "      <td>0.894628</td>\n",
       "      <td>315500</td>\n",
       "      <td>308880.776009</td>\n",
       "    </tr>\n",
       "    <tr>\n",
       "      <th>...</th>\n",
       "      <td>...</td>\n",
       "      <td>...</td>\n",
       "      <td>...</td>\n",
       "      <td>...</td>\n",
       "      <td>...</td>\n",
       "      <td>...</td>\n",
       "      <td>...</td>\n",
       "      <td>...</td>\n",
       "      <td>...</td>\n",
       "      <td>...</td>\n",
       "      <td>...</td>\n",
       "      <td>...</td>\n",
       "      <td>...</td>\n",
       "      <td>...</td>\n",
       "      <td>...</td>\n",
       "      <td>...</td>\n",
       "      <td>...</td>\n",
       "      <td>...</td>\n",
       "      <td>...</td>\n",
       "      <td>...</td>\n",
       "      <td>...</td>\n",
       "    </tr>\n",
       "    <tr>\n",
       "      <th>1455</th>\n",
       "      <td>-0.961151</td>\n",
       "      <td>-0.869697</td>\n",
       "      <td>2.363704</td>\n",
       "      <td>-0.209684</td>\n",
       "      <td>-1.936191</td>\n",
       "      <td>-0.062715</td>\n",
       "      <td>-0.113564</td>\n",
       "      <td>-0.927488</td>\n",
       "      <td>-0.434765</td>\n",
       "      <td>0.062715</td>\n",
       "      <td>...</td>\n",
       "      <td>0.337542</td>\n",
       "      <td>0.699914</td>\n",
       "      <td>-0.346561</td>\n",
       "      <td>-0.119377</td>\n",
       "      <td>-0.276042</td>\n",
       "      <td>-0.069227</td>\n",
       "      <td>0.239520</td>\n",
       "      <td>-1.368167</td>\n",
       "      <td>126175</td>\n",
       "      <td>114582.035019</td>\n",
       "    </tr>\n",
       "    <tr>\n",
       "      <th>1456</th>\n",
       "      <td>-0.192555</td>\n",
       "      <td>0.068083</td>\n",
       "      <td>-0.423065</td>\n",
       "      <td>4.769087</td>\n",
       "      <td>-1.936191</td>\n",
       "      <td>-0.062715</td>\n",
       "      <td>-0.113564</td>\n",
       "      <td>-0.232851</td>\n",
       "      <td>-0.231318</td>\n",
       "      <td>0.062715</td>\n",
       "      <td>...</td>\n",
       "      <td>-0.740733</td>\n",
       "      <td>-0.716505</td>\n",
       "      <td>-0.346561</td>\n",
       "      <td>-0.119377</td>\n",
       "      <td>-0.276042</td>\n",
       "      <td>-0.069227</td>\n",
       "      <td>-0.515263</td>\n",
       "      <td>0.140363</td>\n",
       "      <td>205950</td>\n",
       "      <td>214910.015699</td>\n",
       "    </tr>\n",
       "    <tr>\n",
       "      <th>1457</th>\n",
       "      <td>-0.688499</td>\n",
       "      <td>-0.166362</td>\n",
       "      <td>-0.423065</td>\n",
       "      <td>-0.209684</td>\n",
       "      <td>0.516478</td>\n",
       "      <td>-0.062715</td>\n",
       "      <td>-0.113564</td>\n",
       "      <td>-0.146022</td>\n",
       "      <td>0.141947</td>\n",
       "      <td>0.062715</td>\n",
       "      <td>...</td>\n",
       "      <td>-0.740733</td>\n",
       "      <td>-0.051655</td>\n",
       "      <td>-0.346561</td>\n",
       "      <td>-0.119377</td>\n",
       "      <td>-0.276042</td>\n",
       "      <td>-0.069227</td>\n",
       "      <td>0.616911</td>\n",
       "      <td>0.894628</td>\n",
       "      <td>110000</td>\n",
       "      <td>136216.300964</td>\n",
       "    </tr>\n",
       "    <tr>\n",
       "      <th>1458</th>\n",
       "      <td>0.155311</td>\n",
       "      <td>0.068083</td>\n",
       "      <td>-0.423065</td>\n",
       "      <td>-0.209684</td>\n",
       "      <td>0.516478</td>\n",
       "      <td>-0.062715</td>\n",
       "      <td>-0.113564</td>\n",
       "      <td>1.460324</td>\n",
       "      <td>0.244685</td>\n",
       "      <td>0.062715</td>\n",
       "      <td>...</td>\n",
       "      <td>0.352729</td>\n",
       "      <td>0.410849</td>\n",
       "      <td>-0.346561</td>\n",
       "      <td>-0.119377</td>\n",
       "      <td>-0.276042</td>\n",
       "      <td>-0.069227</td>\n",
       "      <td>0.239520</td>\n",
       "      <td>0.894628</td>\n",
       "      <td>485000</td>\n",
       "      <td>379438.191608</td>\n",
       "    </tr>\n",
       "    <tr>\n",
       "      <th>1459</th>\n",
       "      <td>-1.403035</td>\n",
       "      <td>-0.869697</td>\n",
       "      <td>-0.423065</td>\n",
       "      <td>-0.209684</td>\n",
       "      <td>0.516478</td>\n",
       "      <td>-0.062715</td>\n",
       "      <td>-0.113564</td>\n",
       "      <td>0.418370</td>\n",
       "      <td>-0.030519</td>\n",
       "      <td>0.062715</td>\n",
       "      <td>...</td>\n",
       "      <td>0.003429</td>\n",
       "      <td>-0.716505</td>\n",
       "      <td>-0.346561</td>\n",
       "      <td>-0.119377</td>\n",
       "      <td>-0.276042</td>\n",
       "      <td>-0.069227</td>\n",
       "      <td>-0.515263</td>\n",
       "      <td>0.140363</td>\n",
       "      <td>174000</td>\n",
       "      <td>199874.163205</td>\n",
       "    </tr>\n",
       "  </tbody>\n",
       "</table>\n",
       "<p>439 rows × 96 columns</p>\n",
       "</div>"
      ],
      "text/plain": [
       "            Id  MSSubClass  MSZoning_RM  MSZoning_FV  MSZoning_RL  \\\n",
       "1021  0.376253   -0.869697    -0.423065    -0.209684     0.516478   \n",
       "1022  0.876899    0.068083    -0.423065    -0.209684     0.516478   \n",
       "1023 -0.749611   -0.635252     2.363704    -0.209684    -1.936191   \n",
       "1024 -0.493412   -0.166362     2.363704    -0.209684    -1.936191   \n",
       "1025  0.714718   -0.869697    -0.423065    -0.209684     0.516478   \n",
       "...        ...         ...          ...          ...          ...   \n",
       "1455 -0.961151   -0.869697     2.363704    -0.209684    -1.936191   \n",
       "1456 -0.192555    0.068083    -0.423065     4.769087    -1.936191   \n",
       "1457 -0.688499   -0.166362    -0.423065    -0.209684     0.516478   \n",
       "1458  0.155311    0.068083    -0.423065    -0.209684     0.516478   \n",
       "1459 -1.403035   -0.869697    -0.423065    -0.209684     0.516478   \n",
       "\n",
       "      MSZoning_C (all)  MSZoning_RH  LotFrontage   LotArea    Street  ...  \\\n",
       "1021         -0.062715    -0.113564    -0.015778 -0.205810  0.062715  ...   \n",
       "1022         -0.062715    -0.113564     1.199835  0.133297  0.062715  ...   \n",
       "1023         -0.062715    -0.113564    -0.623584 -0.157618  0.062715  ...   \n",
       "1024         -0.062715    -0.113564    -0.884073 -0.507141  0.062715  ...   \n",
       "1025         -0.062715    -0.113564     0.809103  0.189962  0.062715  ...   \n",
       "...                ...          ...          ...       ...       ...  ...   \n",
       "1455         -0.062715    -0.113564    -0.927488 -0.434765  0.062715  ...   \n",
       "1456         -0.062715    -0.113564    -0.232851 -0.231318  0.062715  ...   \n",
       "1457         -0.062715    -0.113564    -0.146022  0.141947  0.062715  ...   \n",
       "1458         -0.062715    -0.113564     1.460324  0.244685  0.062715  ...   \n",
       "1459         -0.062715    -0.113564     0.418370 -0.030519  0.062715  ...   \n",
       "\n",
       "      WoodDeckSF  OpenPorchSF  EnclosedPorch  3SsnPorch  ScreenPorch  \\\n",
       "1021    0.717216    -0.716505      -0.346561  -0.119377    -0.276042   \n",
       "1022    0.671655    -0.254001      -0.346561  -0.119377    -0.276042   \n",
       "1023   -0.740733    -0.716505       1.766203  -0.119377    -0.276042   \n",
       "1024   -0.740733    -0.369627       0.238512  -0.119377    -0.276042   \n",
       "1025    0.990581    -0.716505      -0.346561  -0.119377    -0.276042   \n",
       "...          ...          ...            ...        ...          ...   \n",
       "1455    0.337542     0.699914      -0.346561  -0.119377    -0.276042   \n",
       "1456   -0.740733    -0.716505      -0.346561  -0.119377    -0.276042   \n",
       "1457   -0.740733    -0.051655      -0.346561  -0.119377    -0.276042   \n",
       "1458    0.352729     0.410849      -0.346561  -0.119377    -0.276042   \n",
       "1459    0.003429    -0.716505      -0.346561  -0.119377    -0.276042   \n",
       "\n",
       "      PoolArea    MoSold    YrSold  SalePrice  prediction_label  \n",
       "1021 -0.069227 -1.647436 -1.368167     154500     150867.261060  \n",
       "1022 -0.069227 -0.892654  1.648893     325000     315979.458672  \n",
       "1023 -0.069227 -1.270045  1.648893     115000     114449.600638  \n",
       "1024 -0.069227  1.371693 -1.368167     159000     168027.986943  \n",
       "1025 -0.069227  0.994302  0.894628     315500     308880.776009  \n",
       "...        ...       ...       ...        ...               ...  \n",
       "1455 -0.069227  0.239520 -1.368167     126175     114582.035019  \n",
       "1456 -0.069227 -0.515263  0.140363     205950     214910.015699  \n",
       "1457 -0.069227  0.616911  0.894628     110000     136216.300964  \n",
       "1458 -0.069227  0.239520  0.894628     485000     379438.191608  \n",
       "1459 -0.069227 -0.515263  0.140363     174000     199874.163205  \n",
       "\n",
       "[439 rows x 96 columns]"
      ]
     },
     "execution_count": 36,
     "metadata": {},
     "output_type": "execute_result"
    }
   ],
   "source": [
    "## Predcit the PAR Model accuracy on the hold out data in the setup function\n",
    "predict_model(estimator=PAR)"
   ]
  },
  {
   "cell_type": "code",
   "execution_count": 67,
   "id": "15366527-e726-4316-8421-7ceaf8dda4a1",
   "metadata": {},
   "outputs": [
    {
     "data": {
      "text/html": [],
      "text/plain": [
       "<IPython.core.display.HTML object>"
      ]
     },
     "metadata": {},
     "output_type": "display_data"
    },
    {
     "data": {
      "text/html": [
       "<div>\n",
       "<style scoped>\n",
       "    .dataframe tbody tr th:only-of-type {\n",
       "        vertical-align: middle;\n",
       "    }\n",
       "\n",
       "    .dataframe tbody tr th {\n",
       "        vertical-align: top;\n",
       "    }\n",
       "\n",
       "    .dataframe thead th {\n",
       "        text-align: right;\n",
       "    }\n",
       "</style>\n",
       "<table border=\"1\" class=\"dataframe\">\n",
       "  <thead>\n",
       "    <tr style=\"text-align: right;\">\n",
       "      <th></th>\n",
       "      <th>Id</th>\n",
       "      <th>MSSubClass</th>\n",
       "      <th>MSZoning_RM</th>\n",
       "      <th>MSZoning_FV</th>\n",
       "      <th>MSZoning_RL</th>\n",
       "      <th>MSZoning_C (all)</th>\n",
       "      <th>MSZoning_RH</th>\n",
       "      <th>LotFrontage</th>\n",
       "      <th>LotArea</th>\n",
       "      <th>Street</th>\n",
       "      <th>...</th>\n",
       "      <th>PavedDrive</th>\n",
       "      <th>WoodDeckSF</th>\n",
       "      <th>OpenPorchSF</th>\n",
       "      <th>EnclosedPorch</th>\n",
       "      <th>3SsnPorch</th>\n",
       "      <th>ScreenPorch</th>\n",
       "      <th>PoolArea</th>\n",
       "      <th>MoSold</th>\n",
       "      <th>YrSold</th>\n",
       "      <th>prediction_label</th>\n",
       "    </tr>\n",
       "  </thead>\n",
       "  <tbody>\n",
       "    <tr>\n",
       "      <th>0</th>\n",
       "      <td>1.711308</td>\n",
       "      <td>-0.869697</td>\n",
       "      <td>-0.423065</td>\n",
       "      <td>-0.209684</td>\n",
       "      <td>-1.936191</td>\n",
       "      <td>-0.062715</td>\n",
       "      <td>8.805593</td>\n",
       "      <td>0.418370</td>\n",
       "      <td>0.077338</td>\n",
       "      <td>0.062715</td>\n",
       "      <td>...</td>\n",
       "      <td>0.29342</td>\n",
       "      <td>0.322355</td>\n",
       "      <td>-0.716505</td>\n",
       "      <td>-0.346561</td>\n",
       "      <td>-0.119377</td>\n",
       "      <td>1.849973</td>\n",
       "      <td>-0.069227</td>\n",
       "      <td>-0.137872</td>\n",
       "      <td>1.648893</td>\n",
       "      <td>125636.425026</td>\n",
       "    </tr>\n",
       "    <tr>\n",
       "      <th>1</th>\n",
       "      <td>1.713658</td>\n",
       "      <td>-0.869697</td>\n",
       "      <td>-0.423065</td>\n",
       "      <td>-0.209684</td>\n",
       "      <td>0.516478</td>\n",
       "      <td>-0.062715</td>\n",
       "      <td>-0.113564</td>\n",
       "      <td>0.461785</td>\n",
       "      <td>0.310795</td>\n",
       "      <td>0.062715</td>\n",
       "      <td>...</td>\n",
       "      <td>0.29342</td>\n",
       "      <td>2.243506</td>\n",
       "      <td>-0.196188</td>\n",
       "      <td>-0.346561</td>\n",
       "      <td>-0.119377</td>\n",
       "      <td>-0.276042</td>\n",
       "      <td>-0.069227</td>\n",
       "      <td>-0.137872</td>\n",
       "      <td>1.648893</td>\n",
       "      <td>169956.750363</td>\n",
       "    </tr>\n",
       "    <tr>\n",
       "      <th>2</th>\n",
       "      <td>1.716009</td>\n",
       "      <td>0.068083</td>\n",
       "      <td>-0.423065</td>\n",
       "      <td>-0.209684</td>\n",
       "      <td>0.516478</td>\n",
       "      <td>-0.062715</td>\n",
       "      <td>-0.113564</td>\n",
       "      <td>0.157881</td>\n",
       "      <td>0.272224</td>\n",
       "      <td>0.062715</td>\n",
       "      <td>...</td>\n",
       "      <td>0.29342</td>\n",
       "      <td>0.869086</td>\n",
       "      <td>-0.225094</td>\n",
       "      <td>-0.346561</td>\n",
       "      <td>-0.119377</td>\n",
       "      <td>-0.276042</td>\n",
       "      <td>-0.069227</td>\n",
       "      <td>-1.270045</td>\n",
       "      <td>1.648893</td>\n",
       "      <td>191237.590112</td>\n",
       "    </tr>\n",
       "    <tr>\n",
       "      <th>3</th>\n",
       "      <td>1.718359</td>\n",
       "      <td>0.068083</td>\n",
       "      <td>-0.423065</td>\n",
       "      <td>-0.209684</td>\n",
       "      <td>0.516478</td>\n",
       "      <td>-0.062715</td>\n",
       "      <td>-0.113564</td>\n",
       "      <td>0.331540</td>\n",
       "      <td>-0.067766</td>\n",
       "      <td>0.062715</td>\n",
       "      <td>...</td>\n",
       "      <td>0.29342</td>\n",
       "      <td>1.992921</td>\n",
       "      <td>-0.196188</td>\n",
       "      <td>-0.346561</td>\n",
       "      <td>-0.119377</td>\n",
       "      <td>-0.276042</td>\n",
       "      <td>-0.069227</td>\n",
       "      <td>-0.137872</td>\n",
       "      <td>1.648893</td>\n",
       "      <td>199743.736368</td>\n",
       "    </tr>\n",
       "    <tr>\n",
       "      <th>4</th>\n",
       "      <td>1.720710</td>\n",
       "      <td>1.474753</td>\n",
       "      <td>-0.423065</td>\n",
       "      <td>-0.209684</td>\n",
       "      <td>0.516478</td>\n",
       "      <td>-0.062715</td>\n",
       "      <td>-0.113564</td>\n",
       "      <td>-1.187976</td>\n",
       "      <td>-0.506699</td>\n",
       "      <td>0.062715</td>\n",
       "      <td>...</td>\n",
       "      <td>0.29342</td>\n",
       "      <td>-0.740733</td>\n",
       "      <td>0.468662</td>\n",
       "      <td>-0.346561</td>\n",
       "      <td>-0.119377</td>\n",
       "      <td>2.275175</td>\n",
       "      <td>-0.069227</td>\n",
       "      <td>-2.024827</td>\n",
       "      <td>1.648893</td>\n",
       "      <td>211848.461361</td>\n",
       "    </tr>\n",
       "    <tr>\n",
       "      <th>...</th>\n",
       "      <td>...</td>\n",
       "      <td>...</td>\n",
       "      <td>...</td>\n",
       "      <td>...</td>\n",
       "      <td>...</td>\n",
       "      <td>...</td>\n",
       "      <td>...</td>\n",
       "      <td>...</td>\n",
       "      <td>...</td>\n",
       "      <td>...</td>\n",
       "      <td>...</td>\n",
       "      <td>...</td>\n",
       "      <td>...</td>\n",
       "      <td>...</td>\n",
       "      <td>...</td>\n",
       "      <td>...</td>\n",
       "      <td>...</td>\n",
       "      <td>...</td>\n",
       "      <td>...</td>\n",
       "      <td>...</td>\n",
       "      <td>...</td>\n",
       "    </tr>\n",
       "    <tr>\n",
       "      <th>1454</th>\n",
       "      <td>5.128859</td>\n",
       "      <td>2.412533</td>\n",
       "      <td>2.363704</td>\n",
       "      <td>-0.209684</td>\n",
       "      <td>-1.936191</td>\n",
       "      <td>-0.062715</td>\n",
       "      <td>-0.113564</td>\n",
       "      <td>-2.143101</td>\n",
       "      <td>-0.777579</td>\n",
       "      <td>0.062715</td>\n",
       "      <td>...</td>\n",
       "      <td>0.29342</td>\n",
       "      <td>-0.740733</td>\n",
       "      <td>-0.716505</td>\n",
       "      <td>-0.346561</td>\n",
       "      <td>-0.119377</td>\n",
       "      <td>-0.276042</td>\n",
       "      <td>-0.069227</td>\n",
       "      <td>-0.137872</td>\n",
       "      <td>-1.368167</td>\n",
       "      <td>66381.871672</td>\n",
       "    </tr>\n",
       "    <tr>\n",
       "      <th>1455</th>\n",
       "      <td>5.131209</td>\n",
       "      <td>2.412533</td>\n",
       "      <td>2.363704</td>\n",
       "      <td>-0.209684</td>\n",
       "      <td>-1.936191</td>\n",
       "      <td>-0.062715</td>\n",
       "      <td>-0.113564</td>\n",
       "      <td>-2.143101</td>\n",
       "      <td>-0.781286</td>\n",
       "      <td>0.062715</td>\n",
       "      <td>...</td>\n",
       "      <td>0.29342</td>\n",
       "      <td>-0.740733</td>\n",
       "      <td>-0.369627</td>\n",
       "      <td>-0.346561</td>\n",
       "      <td>-0.119377</td>\n",
       "      <td>-0.276042</td>\n",
       "      <td>-0.069227</td>\n",
       "      <td>-0.892654</td>\n",
       "      <td>-1.368167</td>\n",
       "      <td>71479.977167</td>\n",
       "    </tr>\n",
       "    <tr>\n",
       "      <th>1456</th>\n",
       "      <td>5.133560</td>\n",
       "      <td>-0.869697</td>\n",
       "      <td>-0.423065</td>\n",
       "      <td>-0.209684</td>\n",
       "      <td>0.516478</td>\n",
       "      <td>-0.062715</td>\n",
       "      <td>-0.113564</td>\n",
       "      <td>3.891550</td>\n",
       "      <td>0.816808</td>\n",
       "      <td>0.062715</td>\n",
       "      <td>...</td>\n",
       "      <td>0.29342</td>\n",
       "      <td>2.858578</td>\n",
       "      <td>-0.716505</td>\n",
       "      <td>-0.346561</td>\n",
       "      <td>-0.119377</td>\n",
       "      <td>-0.276042</td>\n",
       "      <td>-0.069227</td>\n",
       "      <td>0.994302</td>\n",
       "      <td>-1.368167</td>\n",
       "      <td>174434.441213</td>\n",
       "    </tr>\n",
       "    <tr>\n",
       "      <th>1457</th>\n",
       "      <td>5.135910</td>\n",
       "      <td>0.654196</td>\n",
       "      <td>-0.423065</td>\n",
       "      <td>-0.209684</td>\n",
       "      <td>0.516478</td>\n",
       "      <td>-0.062715</td>\n",
       "      <td>-0.113564</td>\n",
       "      <td>-0.363096</td>\n",
       "      <td>-0.026900</td>\n",
       "      <td>0.062715</td>\n",
       "      <td>...</td>\n",
       "      <td>0.29342</td>\n",
       "      <td>-0.133254</td>\n",
       "      <td>-0.254001</td>\n",
       "      <td>-0.346561</td>\n",
       "      <td>-0.119377</td>\n",
       "      <td>-0.276042</td>\n",
       "      <td>-0.069227</td>\n",
       "      <td>0.239520</td>\n",
       "      <td>-1.368167</td>\n",
       "      <td>104071.804884</td>\n",
       "    </tr>\n",
       "    <tr>\n",
       "      <th>1458</th>\n",
       "      <td>5.138261</td>\n",
       "      <td>0.068083</td>\n",
       "      <td>-0.423065</td>\n",
       "      <td>-0.209684</td>\n",
       "      <td>0.516478</td>\n",
       "      <td>-0.062715</td>\n",
       "      <td>-0.113564</td>\n",
       "      <td>0.157881</td>\n",
       "      <td>-0.098747</td>\n",
       "      <td>0.062715</td>\n",
       "      <td>...</td>\n",
       "      <td>0.29342</td>\n",
       "      <td>0.702029</td>\n",
       "      <td>-0.022749</td>\n",
       "      <td>-0.346561</td>\n",
       "      <td>-0.119377</td>\n",
       "      <td>-0.276042</td>\n",
       "      <td>-0.069227</td>\n",
       "      <td>1.749084</td>\n",
       "      <td>-1.368167</td>\n",
       "      <td>207049.546192</td>\n",
       "    </tr>\n",
       "  </tbody>\n",
       "</table>\n",
       "<p>1459 rows × 95 columns</p>\n",
       "</div>"
      ],
      "text/plain": [
       "            Id  MSSubClass  MSZoning_RM  MSZoning_FV  MSZoning_RL  \\\n",
       "0     1.711308   -0.869697    -0.423065    -0.209684    -1.936191   \n",
       "1     1.713658   -0.869697    -0.423065    -0.209684     0.516478   \n",
       "2     1.716009    0.068083    -0.423065    -0.209684     0.516478   \n",
       "3     1.718359    0.068083    -0.423065    -0.209684     0.516478   \n",
       "4     1.720710    1.474753    -0.423065    -0.209684     0.516478   \n",
       "...        ...         ...          ...          ...          ...   \n",
       "1454  5.128859    2.412533     2.363704    -0.209684    -1.936191   \n",
       "1455  5.131209    2.412533     2.363704    -0.209684    -1.936191   \n",
       "1456  5.133560   -0.869697    -0.423065    -0.209684     0.516478   \n",
       "1457  5.135910    0.654196    -0.423065    -0.209684     0.516478   \n",
       "1458  5.138261    0.068083    -0.423065    -0.209684     0.516478   \n",
       "\n",
       "      MSZoning_C (all)  MSZoning_RH  LotFrontage   LotArea    Street  ...  \\\n",
       "0            -0.062715     8.805593     0.418370  0.077338  0.062715  ...   \n",
       "1            -0.062715    -0.113564     0.461785  0.310795  0.062715  ...   \n",
       "2            -0.062715    -0.113564     0.157881  0.272224  0.062715  ...   \n",
       "3            -0.062715    -0.113564     0.331540 -0.067766  0.062715  ...   \n",
       "4            -0.062715    -0.113564    -1.187976 -0.506699  0.062715  ...   \n",
       "...                ...          ...          ...       ...       ...  ...   \n",
       "1454         -0.062715    -0.113564    -2.143101 -0.777579  0.062715  ...   \n",
       "1455         -0.062715    -0.113564    -2.143101 -0.781286  0.062715  ...   \n",
       "1456         -0.062715    -0.113564     3.891550  0.816808  0.062715  ...   \n",
       "1457         -0.062715    -0.113564    -0.363096 -0.026900  0.062715  ...   \n",
       "1458         -0.062715    -0.113564     0.157881 -0.098747  0.062715  ...   \n",
       "\n",
       "      PavedDrive  WoodDeckSF  OpenPorchSF  EnclosedPorch  3SsnPorch  \\\n",
       "0        0.29342    0.322355    -0.716505      -0.346561  -0.119377   \n",
       "1        0.29342    2.243506    -0.196188      -0.346561  -0.119377   \n",
       "2        0.29342    0.869086    -0.225094      -0.346561  -0.119377   \n",
       "3        0.29342    1.992921    -0.196188      -0.346561  -0.119377   \n",
       "4        0.29342   -0.740733     0.468662      -0.346561  -0.119377   \n",
       "...          ...         ...          ...            ...        ...   \n",
       "1454     0.29342   -0.740733    -0.716505      -0.346561  -0.119377   \n",
       "1455     0.29342   -0.740733    -0.369627      -0.346561  -0.119377   \n",
       "1456     0.29342    2.858578    -0.716505      -0.346561  -0.119377   \n",
       "1457     0.29342   -0.133254    -0.254001      -0.346561  -0.119377   \n",
       "1458     0.29342    0.702029    -0.022749      -0.346561  -0.119377   \n",
       "\n",
       "      ScreenPorch  PoolArea    MoSold    YrSold  prediction_label  \n",
       "0        1.849973 -0.069227 -0.137872  1.648893     125636.425026  \n",
       "1       -0.276042 -0.069227 -0.137872  1.648893     169956.750363  \n",
       "2       -0.276042 -0.069227 -1.270045  1.648893     191237.590112  \n",
       "3       -0.276042 -0.069227 -0.137872  1.648893     199743.736368  \n",
       "4        2.275175 -0.069227 -2.024827  1.648893     211848.461361  \n",
       "...           ...       ...       ...       ...               ...  \n",
       "1454    -0.276042 -0.069227 -0.137872 -1.368167      66381.871672  \n",
       "1455    -0.276042 -0.069227 -0.892654 -1.368167      71479.977167  \n",
       "1456    -0.276042 -0.069227  0.994302 -1.368167     174434.441213  \n",
       "1457    -0.276042 -0.069227  0.239520 -1.368167     104071.804884  \n",
       "1458    -0.276042 -0.069227  1.749084 -1.368167     207049.546192  \n",
       "\n",
       "[1459 rows x 95 columns]"
      ]
     },
     "execution_count": 67,
     "metadata": {},
     "output_type": "execute_result"
    }
   ],
   "source": [
    "## Predcit the PAR Model accuracy on the test data\n",
    "predict_model(estimator=PAR,data=test_df_raw)"
   ]
  },
  {
   "cell_type": "code",
   "execution_count": 38,
   "id": "5ccaa12f-7881-4c28-bba4-44c3cc6cfc87",
   "metadata": {},
   "outputs": [
    {
     "data": {
      "text/plain": [
       "Pipeline(memory=Memory(location=C:\\Users\\ITLAND~1\\AppData\\Local\\Temp\\joblib),\n",
       "         steps=[('numerical_imputer',\n",
       "                 TransformerWrapper(include=['Id', 'MSSubClass', 'LotFrontage',\n",
       "                                             'LotArea', 'OverallQual',\n",
       "                                             'OverallCond', 'YearBuilt',\n",
       "                                             'YearRemodAdd', 'MasVnrArea',\n",
       "                                             'BsmtFinSF1', 'BsmtFinSF2',\n",
       "                                             'BsmtUnfSF', 'TotalBsmtSF',\n",
       "                                             '1stFlrSF', '2ndFlrSF',\n",
       "                                             'LowQualFinSF', 'GrLivArea',\n",
       "                                             'BsmtF...\n",
       "                                                                         'BsmtFinType1',\n",
       "                                                                         'BsmtFinType2',\n",
       "                                                                         'Heating',\n",
       "                                                                         'Functional',\n",
       "                                                                         'GarageType'],\n",
       "                                                                   handle_missing='return_nan',\n",
       "                                                                   random_state=42))),\n",
       "                ('remove_multicollinearity',\n",
       "                 TransformerWrapper(exclude=[],\n",
       "                                    transformer=RemoveMulticollinearity(threshold=0.9))),\n",
       "                ('normalize', TransformerWrapper(transformer=StandardScaler())),\n",
       "                ('actual_estimator',\n",
       "                 PassiveAggressiveRegressor(random_state=42))])"
      ]
     },
     "execution_count": 38,
     "metadata": {},
     "output_type": "execute_result"
    }
   ],
   "source": [
    "# finalize a model\n",
    "finalize_model(PAR)"
   ]
  },
  {
   "cell_type": "code",
   "execution_count": 39,
   "id": "9b21b7ca-7e5a-4731-aeb6-44ca93b374f1",
   "metadata": {},
   "outputs": [
    {
     "name": "stdout",
     "output_type": "stream",
     "text": [
      "Transformation Pipeline and Model Successfully Saved\n"
     ]
    },
    {
     "data": {
      "text/plain": [
       "(Pipeline(memory=Memory(location=C:\\Users\\ITLAND~1\\AppData\\Local\\Temp\\joblib),\n",
       "          steps=[('numerical_imputer',\n",
       "                  TransformerWrapper(include=['Id', 'MSSubClass', 'LotFrontage',\n",
       "                                              'LotArea', 'OverallQual',\n",
       "                                              'OverallCond', 'YearBuilt',\n",
       "                                              'YearRemodAdd', 'MasVnrArea',\n",
       "                                              'BsmtFinSF1', 'BsmtFinSF2',\n",
       "                                              'BsmtUnfSF', 'TotalBsmtSF',\n",
       "                                              '1stFlrSF', '2ndFlrSF',\n",
       "                                              'LowQualFinSF', 'GrLivArea',\n",
       "                                              'BsmtF...\n",
       "                                                                          'BsmtFinType1',\n",
       "                                                                          'BsmtFinType2',\n",
       "                                                                          'Heating',\n",
       "                                                                          'Functional',\n",
       "                                                                          'GarageType'],\n",
       "                                                                    handle_missing='return_nan',\n",
       "                                                                    random_state=42))),\n",
       "                 ('remove_multicollinearity',\n",
       "                  TransformerWrapper(exclude=[],\n",
       "                                     transformer=RemoveMulticollinearity(threshold=0.9))),\n",
       "                 ('normalize', TransformerWrapper(transformer=StandardScaler())),\n",
       "                 ('trained_model', PassiveAggressiveRegressor(random_state=42))]),\n",
       " 'PAR_22-12-03_Housing.pkl')"
      ]
     },
     "execution_count": 39,
     "metadata": {},
     "output_type": "execute_result"
    }
   ],
   "source": [
    "# save pipeline\n",
    "save_model(PAR, 'PAR_22-12-03_Housing')"
   ]
  },
  {
   "cell_type": "code",
   "execution_count": 40,
   "id": "88d4d324-9f4c-4819-b456-82b75a0800bb",
   "metadata": {},
   "outputs": [],
   "source": [
    "# save config\n",
    "save_config('PAR_22-12-03_Housing')"
   ]
  },
  {
   "cell_type": "code",
   "execution_count": 52,
   "id": "76566856-71d4-4702-ae3e-7b57ff1b6c9d",
   "metadata": {},
   "outputs": [
    {
     "name": "stdout",
     "output_type": "stream",
     "text": [
      "Transformation Pipeline and Model Successfully Loaded\n"
     ]
    }
   ],
   "source": [
    "loaded_model = load_model('PAR_22-12-03_Housing')"
   ]
  },
  {
   "cell_type": "code",
   "execution_count": 57,
   "id": "336aec63-e5f4-4c1f-b952-b75bffb5d8ca",
   "metadata": {},
   "outputs": [
    {
     "data": {
      "text/html": [],
      "text/plain": [
       "<IPython.core.display.HTML object>"
      ]
     },
     "metadata": {},
     "output_type": "display_data"
    }
   ],
   "source": [
    "prediciton = predict_model(estimator=PAR,data=test_df_raw)"
   ]
  },
  {
   "cell_type": "code",
   "execution_count": 60,
   "id": "96eacc7e-05de-4b82-aa85-3b13820f2299",
   "metadata": {},
   "outputs": [
    {
     "data": {
      "text/html": [
       "<div>\n",
       "<style scoped>\n",
       "    .dataframe tbody tr th:only-of-type {\n",
       "        vertical-align: middle;\n",
       "    }\n",
       "\n",
       "    .dataframe tbody tr th {\n",
       "        vertical-align: top;\n",
       "    }\n",
       "\n",
       "    .dataframe thead th {\n",
       "        text-align: right;\n",
       "    }\n",
       "</style>\n",
       "<table border=\"1\" class=\"dataframe\">\n",
       "  <thead>\n",
       "    <tr style=\"text-align: right;\">\n",
       "      <th></th>\n",
       "      <th>Id</th>\n",
       "      <th>MSSubClass</th>\n",
       "      <th>MSZoning_RM</th>\n",
       "      <th>MSZoning_FV</th>\n",
       "      <th>MSZoning_RL</th>\n",
       "      <th>MSZoning_C (all)</th>\n",
       "      <th>MSZoning_RH</th>\n",
       "      <th>LotFrontage</th>\n",
       "      <th>LotArea</th>\n",
       "      <th>Street</th>\n",
       "      <th>...</th>\n",
       "      <th>PavedDrive</th>\n",
       "      <th>WoodDeckSF</th>\n",
       "      <th>OpenPorchSF</th>\n",
       "      <th>EnclosedPorch</th>\n",
       "      <th>3SsnPorch</th>\n",
       "      <th>ScreenPorch</th>\n",
       "      <th>PoolArea</th>\n",
       "      <th>MoSold</th>\n",
       "      <th>YrSold</th>\n",
       "      <th>prediction_label</th>\n",
       "    </tr>\n",
       "  </thead>\n",
       "  <tbody>\n",
       "    <tr>\n",
       "      <th>0</th>\n",
       "      <td>1.711308</td>\n",
       "      <td>-0.869697</td>\n",
       "      <td>-0.423065</td>\n",
       "      <td>-0.209684</td>\n",
       "      <td>-1.936191</td>\n",
       "      <td>-0.062715</td>\n",
       "      <td>8.805593</td>\n",
       "      <td>0.418370</td>\n",
       "      <td>0.077338</td>\n",
       "      <td>0.062715</td>\n",
       "      <td>...</td>\n",
       "      <td>0.29342</td>\n",
       "      <td>0.322355</td>\n",
       "      <td>-0.716505</td>\n",
       "      <td>-0.346561</td>\n",
       "      <td>-0.119377</td>\n",
       "      <td>1.849973</td>\n",
       "      <td>-0.069227</td>\n",
       "      <td>-0.137872</td>\n",
       "      <td>1.648893</td>\n",
       "      <td>125636.425026</td>\n",
       "    </tr>\n",
       "    <tr>\n",
       "      <th>1</th>\n",
       "      <td>1.713658</td>\n",
       "      <td>-0.869697</td>\n",
       "      <td>-0.423065</td>\n",
       "      <td>-0.209684</td>\n",
       "      <td>0.516478</td>\n",
       "      <td>-0.062715</td>\n",
       "      <td>-0.113564</td>\n",
       "      <td>0.461785</td>\n",
       "      <td>0.310795</td>\n",
       "      <td>0.062715</td>\n",
       "      <td>...</td>\n",
       "      <td>0.29342</td>\n",
       "      <td>2.243506</td>\n",
       "      <td>-0.196188</td>\n",
       "      <td>-0.346561</td>\n",
       "      <td>-0.119377</td>\n",
       "      <td>-0.276042</td>\n",
       "      <td>-0.069227</td>\n",
       "      <td>-0.137872</td>\n",
       "      <td>1.648893</td>\n",
       "      <td>169956.750363</td>\n",
       "    </tr>\n",
       "    <tr>\n",
       "      <th>2</th>\n",
       "      <td>1.716009</td>\n",
       "      <td>0.068083</td>\n",
       "      <td>-0.423065</td>\n",
       "      <td>-0.209684</td>\n",
       "      <td>0.516478</td>\n",
       "      <td>-0.062715</td>\n",
       "      <td>-0.113564</td>\n",
       "      <td>0.157881</td>\n",
       "      <td>0.272224</td>\n",
       "      <td>0.062715</td>\n",
       "      <td>...</td>\n",
       "      <td>0.29342</td>\n",
       "      <td>0.869086</td>\n",
       "      <td>-0.225094</td>\n",
       "      <td>-0.346561</td>\n",
       "      <td>-0.119377</td>\n",
       "      <td>-0.276042</td>\n",
       "      <td>-0.069227</td>\n",
       "      <td>-1.270045</td>\n",
       "      <td>1.648893</td>\n",
       "      <td>191237.590112</td>\n",
       "    </tr>\n",
       "    <tr>\n",
       "      <th>3</th>\n",
       "      <td>1.718359</td>\n",
       "      <td>0.068083</td>\n",
       "      <td>-0.423065</td>\n",
       "      <td>-0.209684</td>\n",
       "      <td>0.516478</td>\n",
       "      <td>-0.062715</td>\n",
       "      <td>-0.113564</td>\n",
       "      <td>0.331540</td>\n",
       "      <td>-0.067766</td>\n",
       "      <td>0.062715</td>\n",
       "      <td>...</td>\n",
       "      <td>0.29342</td>\n",
       "      <td>1.992921</td>\n",
       "      <td>-0.196188</td>\n",
       "      <td>-0.346561</td>\n",
       "      <td>-0.119377</td>\n",
       "      <td>-0.276042</td>\n",
       "      <td>-0.069227</td>\n",
       "      <td>-0.137872</td>\n",
       "      <td>1.648893</td>\n",
       "      <td>199743.736368</td>\n",
       "    </tr>\n",
       "    <tr>\n",
       "      <th>4</th>\n",
       "      <td>1.720710</td>\n",
       "      <td>1.474753</td>\n",
       "      <td>-0.423065</td>\n",
       "      <td>-0.209684</td>\n",
       "      <td>0.516478</td>\n",
       "      <td>-0.062715</td>\n",
       "      <td>-0.113564</td>\n",
       "      <td>-1.187976</td>\n",
       "      <td>-0.506699</td>\n",
       "      <td>0.062715</td>\n",
       "      <td>...</td>\n",
       "      <td>0.29342</td>\n",
       "      <td>-0.740733</td>\n",
       "      <td>0.468662</td>\n",
       "      <td>-0.346561</td>\n",
       "      <td>-0.119377</td>\n",
       "      <td>2.275175</td>\n",
       "      <td>-0.069227</td>\n",
       "      <td>-2.024827</td>\n",
       "      <td>1.648893</td>\n",
       "      <td>211848.461361</td>\n",
       "    </tr>\n",
       "  </tbody>\n",
       "</table>\n",
       "<p>5 rows × 95 columns</p>\n",
       "</div>"
      ],
      "text/plain": [
       "         Id  MSSubClass  MSZoning_RM  MSZoning_FV  MSZoning_RL  \\\n",
       "0  1.711308   -0.869697    -0.423065    -0.209684    -1.936191   \n",
       "1  1.713658   -0.869697    -0.423065    -0.209684     0.516478   \n",
       "2  1.716009    0.068083    -0.423065    -0.209684     0.516478   \n",
       "3  1.718359    0.068083    -0.423065    -0.209684     0.516478   \n",
       "4  1.720710    1.474753    -0.423065    -0.209684     0.516478   \n",
       "\n",
       "   MSZoning_C (all)  MSZoning_RH  LotFrontage   LotArea    Street  ...  \\\n",
       "0         -0.062715     8.805593     0.418370  0.077338  0.062715  ...   \n",
       "1         -0.062715    -0.113564     0.461785  0.310795  0.062715  ...   \n",
       "2         -0.062715    -0.113564     0.157881  0.272224  0.062715  ...   \n",
       "3         -0.062715    -0.113564     0.331540 -0.067766  0.062715  ...   \n",
       "4         -0.062715    -0.113564    -1.187976 -0.506699  0.062715  ...   \n",
       "\n",
       "   PavedDrive  WoodDeckSF  OpenPorchSF  EnclosedPorch  3SsnPorch  ScreenPorch  \\\n",
       "0     0.29342    0.322355    -0.716505      -0.346561  -0.119377     1.849973   \n",
       "1     0.29342    2.243506    -0.196188      -0.346561  -0.119377    -0.276042   \n",
       "2     0.29342    0.869086    -0.225094      -0.346561  -0.119377    -0.276042   \n",
       "3     0.29342    1.992921    -0.196188      -0.346561  -0.119377    -0.276042   \n",
       "4     0.29342   -0.740733     0.468662      -0.346561  -0.119377     2.275175   \n",
       "\n",
       "   PoolArea    MoSold    YrSold  prediction_label  \n",
       "0 -0.069227 -0.137872  1.648893     125636.425026  \n",
       "1 -0.069227 -0.137872  1.648893     169956.750363  \n",
       "2 -0.069227 -1.270045  1.648893     191237.590112  \n",
       "3 -0.069227 -0.137872  1.648893     199743.736368  \n",
       "4 -0.069227 -2.024827  1.648893     211848.461361  \n",
       "\n",
       "[5 rows x 95 columns]"
      ]
     },
     "execution_count": 60,
     "metadata": {},
     "output_type": "execute_result"
    }
   ],
   "source": [
    "prediciton.head()"
   ]
  },
  {
   "cell_type": "code",
   "execution_count": 63,
   "id": "90b43349-8c27-4e4c-880c-cf7b979acc34",
   "metadata": {},
   "outputs": [
    {
     "data": {
      "text/html": [
       "<div>\n",
       "<style scoped>\n",
       "    .dataframe tbody tr th:only-of-type {\n",
       "        vertical-align: middle;\n",
       "    }\n",
       "\n",
       "    .dataframe tbody tr th {\n",
       "        vertical-align: top;\n",
       "    }\n",
       "\n",
       "    .dataframe thead th {\n",
       "        text-align: right;\n",
       "    }\n",
       "</style>\n",
       "<table border=\"1\" class=\"dataframe\">\n",
       "  <thead>\n",
       "    <tr style=\"text-align: right;\">\n",
       "      <th></th>\n",
       "      <th>Id</th>\n",
       "      <th>SalePrice</th>\n",
       "    </tr>\n",
       "  </thead>\n",
       "  <tbody>\n",
       "    <tr>\n",
       "      <th>0</th>\n",
       "      <td>1.711308</td>\n",
       "      <td>125636.425026</td>\n",
       "    </tr>\n",
       "    <tr>\n",
       "      <th>1</th>\n",
       "      <td>1.713658</td>\n",
       "      <td>169956.750363</td>\n",
       "    </tr>\n",
       "    <tr>\n",
       "      <th>2</th>\n",
       "      <td>1.716009</td>\n",
       "      <td>191237.590112</td>\n",
       "    </tr>\n",
       "    <tr>\n",
       "      <th>3</th>\n",
       "      <td>1.718359</td>\n",
       "      <td>199743.736368</td>\n",
       "    </tr>\n",
       "    <tr>\n",
       "      <th>4</th>\n",
       "      <td>1.720710</td>\n",
       "      <td>211848.461361</td>\n",
       "    </tr>\n",
       "  </tbody>\n",
       "</table>\n",
       "</div>"
      ],
      "text/plain": [
       "         Id      SalePrice\n",
       "0  1.711308  125636.425026\n",
       "1  1.713658  169956.750363\n",
       "2  1.716009  191237.590112\n",
       "3  1.718359  199743.736368\n",
       "4  1.720710  211848.461361"
      ]
     },
     "execution_count": 63,
     "metadata": {},
     "output_type": "execute_result"
    }
   ],
   "source": [
    "submission = pd.DataFrame()\n",
    "submission['Id'] = prediciton['Id']\n",
    "submission['SalePrice'] = prediciton['prediction_label']\n",
    "submission.head()"
   ]
  },
  {
   "cell_type": "code",
   "execution_count": 76,
   "id": "54c42d38-ae28-485c-a236-fae81d1e9dbc",
   "metadata": {},
   "outputs": [
    {
     "data": {
      "text/plain": [
       "Pipeline(memory=Memory(location=C:\\Users\\ITLAND~1\\AppData\\Local\\Temp\\joblib),\n",
       "         steps=[('numerical_imputer',\n",
       "                 TransformerWrapper(include=['Id', 'MSSubClass', 'LotFrontage',\n",
       "                                             'LotArea', 'OverallQual',\n",
       "                                             'OverallCond', 'YearBuilt',\n",
       "                                             'YearRemodAdd', 'MasVnrArea',\n",
       "                                             'BsmtFinSF1', 'BsmtFinSF2',\n",
       "                                             'BsmtUnfSF', 'TotalBsmtSF',\n",
       "                                             '1stFlrSF', '2ndFlrSF',\n",
       "                                             'LowQualFinSF', 'GrLivArea',\n",
       "                                             'BsmtF...\n",
       "                                                                         'HouseStyle',\n",
       "                                                                         'RoofStyle',\n",
       "                                                                         'RoofMatl',\n",
       "                                                                         'Exterior1st',\n",
       "                                                                         'Foundation',\n",
       "                                                                         'BsmtFinType1',\n",
       "                                                                         'BsmtFinType2',\n",
       "                                                                         'Heating',\n",
       "                                                                         'Functional',\n",
       "                                                                         'GarageType'],\n",
       "                                                                   handle_missing='return_nan',\n",
       "                                                                   random_state=42))),\n",
       "                ('remove_multicollinearity',\n",
       "                 TransformerWrapper(exclude=[],\n",
       "                                    transformer=RemoveMulticollinearity(threshold=0.9))),\n",
       "                ('normalize',\n",
       "                 TransformerWrapper(transformer=StandardScaler()))])"
      ]
     },
     "execution_count": 76,
     "metadata": {},
     "output_type": "execute_result"
    }
   ],
   "source": [
    "get_config('pipeline')"
   ]
  },
  {
   "cell_type": "code",
   "execution_count": null,
   "id": "2a1b98dc-f6a0-41e3-935a-cacf528f40d1",
   "metadata": {},
   "outputs": [],
   "source": []
  }
 ],
 "metadata": {
  "kernelspec": {
   "display_name": "Python 3 (ipykernel)",
   "language": "python",
   "name": "python3"
  },
  "language_info": {
   "codemirror_mode": {
    "name": "ipython",
    "version": 3
   },
   "file_extension": ".py",
   "mimetype": "text/x-python",
   "name": "python",
   "nbconvert_exporter": "python",
   "pygments_lexer": "ipython3",
   "version": "3.8.15"
  },
  "widgets": {
   "application/vnd.jupyter.widget-state+json": {
    "state": {
     "00e1e4b855b348369e1623b98cb5345b": {
      "model_module": "@jupyter-widgets/controls",
      "model_module_version": "1.5.0",
      "model_name": "HTMLModel",
      "state": {
       "layout": "IPY_MODEL_2fb086b58e6e4ee39f27c80f65367ffb",
       "style": "IPY_MODEL_bbef41e5979b47899169495bb0a49e04",
       "value": " 6/6 [00:04&lt;00:00,  1.28it/s]"
      }
     },
     "019fdf86ca604663931da8f598a54d5d": {
      "model_module": "@jupyter-widgets/controls",
      "model_module_version": "1.5.0",
      "model_name": "FloatProgressModel",
      "state": {
       "layout": "IPY_MODEL_da1e546a8b834401bd6c8a450bae6840",
       "max": 6,
       "style": "IPY_MODEL_f4fc81367d364b38a3adc2ff8838c3cd",
       "value": 6
      }
     },
     "024795e9a8ea4b66a0bb991c297466d7": {
      "model_module": "@jupyter-widgets/base",
      "model_module_version": "1.2.0",
      "model_name": "LayoutModel",
      "state": {}
     },
     "0291f1b04de44b6896bd62b5181f5c0f": {
      "model_module": "@jupyter-widgets/controls",
      "model_module_version": "1.5.0",
      "model_name": "ToggleButtonsModel",
      "state": {
       "_options_labels": [
        "Pipeline Plot",
        "Hyperparameters",
        "Residuals",
        "Prediction Error",
        "Cooks Distance",
        "Feature Selection",
        "Learning Curve",
        "Manifold Learning",
        "Validation Curve",
        "Feature Importance",
        "Feature Importance (All)",
        "Decision Tree",
        "Interactive Residuals"
       ],
       "button_style": "",
       "description": "Plot Type:",
       "icons": [
        ""
       ],
       "index": 10,
       "layout": "IPY_MODEL_999c053787ee405caf925fdd49ca9173",
       "style": "IPY_MODEL_a41584e58d724440823c4fb0fd820bb3",
       "tooltips": []
      }
     },
     "0812e08985614ac7a18dd19e1b6b8789": {
      "model_module": "@jupyter-widgets/controls",
      "model_module_version": "1.5.0",
      "model_name": "HTMLModel",
      "state": {
       "layout": "IPY_MODEL_e44980213982482b9b04925c6105345e",
       "style": "IPY_MODEL_e1f3c1c04d8b497bae95fde69a4b5ba7",
       "value": " 7/7 [00:17&lt;00:00,  2.11s/it]"
      }
     },
     "084fa5f50f8841b68186c0806fbc976e": {
      "model_module": "@jupyter-widgets/controls",
      "model_module_version": "1.5.0",
      "model_name": "ProgressStyleModel",
      "state": {
       "description_width": ""
      }
     },
     "092dcd79ebdd4e9097f950bcefb1f517": {
      "model_module": "@jupyter-widgets/controls",
      "model_module_version": "1.5.0",
      "model_name": "DescriptionStyleModel",
      "state": {
       "description_width": ""
      }
     },
     "093ceaaf0bba4c7e90009b278327e017": {
      "model_module": "@jupyter-widgets/base",
      "model_module_version": "1.2.0",
      "model_name": "LayoutModel",
      "state": {}
     },
     "0bdac81cdc6a417ca62bd88bab5c071e": {
      "model_module": "@jupyter-widgets/base",
      "model_module_version": "1.2.0",
      "model_name": "LayoutModel",
      "state": {}
     },
     "0befd85dd51345e8ad70e48f2d46d81f": {
      "buffers": [
       {
        "data": "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",
        "encoding": "base64",
        "path": [
         "_data",
         0,
         "x",
         "value"
        ]
       },
       {
        "data": "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",
        "encoding": "base64",
        "path": [
         "_data",
         0,
         "y",
         "value"
        ]
       },
       {
        "data": "ZVmq/OxwAsCyLFV+djgRQA==",
        "encoding": "base64",
        "path": [
         "_data",
         1,
         "x",
         "value"
        ]
       },
       {
        "data": "JBEEPTmZBMB0UKYfytAFQA==",
        "encoding": "base64",
        "path": [
         "_data",
         1,
         "y",
         "value"
        ]
       }
      ],
      "model_module": "jupyterlab-plotly",
      "model_module_version": "^5.9.0",
      "model_name": "FigureModel",
      "state": {
       "_config": {
        "plotlyServerURL": "https://plot.ly"
       },
       "_data": [
        {
         "customdata": [
          "train",
          "train",
          "train",
          "train",
          "test",
          "train",
          "train",
          "train",
          "train",
          "train",
          "test",
          "test",
          "test",
          "train",
          "test",
          "test",
          "test",
          "test",
          "train",
          "train",
          "train",
          "train",
          "train",
          "train",
          "test",
          "train",
          "test",
          "train",
          "test",
          "train",
          "train",
          "test",
          "train",
          "train",
          "train",
          "train",
          "train",
          "train",
          "test",
          "test",
          "test",
          "train",
          "train",
          "train",
          "train",
          "train",
          "test",
          "train",
          "train",
          "train",
          "train",
          "test",
          "train",
          "train",
          "test",
          "test",
          "train",
          "test",
          "train",
          "train",
          "train",
          "test",
          "test",
          "train",
          "train",
          "train",
          "train",
          "test",
          "train",
          "train",
          "test",
          "train",
          "test",
          "train",
          "train",
          "test",
          "test",
          "train",
          "train",
          "test",
          "train",
          "train",
          "train",
          "train",
          "train",
          "train",
          "train",
          "train",
          "train",
          "test",
          "test",
          "train",
          "train",
          "train",
          "test",
          "train",
          "test",
          "train",
          "train",
          "train",
          "train",
          "train",
          "train",
          "train",
          "test",
          "test",
          "train",
          "train",
          "train",
          "train",
          "train",
          "test",
          "test",
          "test",
          "test",
          "test",
          "train",
          "train",
          "test",
          "test",
          "train",
          "test",
          "train",
          "test",
          "train",
          "train",
          "test",
          "test",
          "train",
          "test",
          "train",
          "train",
          "train",
          "train",
          "test",
          "test",
          "test",
          "train",
          "train",
          "train",
          "train",
          "train",
          "test",
          "train",
          "train",
          "train",
          "train",
          "train",
          "train",
          "test",
          "test",
          "test",
          "train",
          "train",
          "train",
          "train",
          "test",
          "test",
          "train",
          "train",
          "train",
          "test",
          "train",
          "train",
          "test",
          "train",
          "train",
          "train",
          "train",
          "train",
          "train",
          "test",
          "train",
          "train",
          "train",
          "train",
          "train",
          "train",
          "test",
          "train",
          "train",
          "test",
          "train",
          "test",
          "train",
          "train",
          "train",
          "train",
          "train",
          "train",
          "train",
          "test",
          "train",
          "test",
          "test",
          "train",
          "train",
          "test",
          "train",
          "train",
          "train",
          "test",
          "train",
          "train",
          "train",
          "train",
          "train",
          "test",
          "test",
          "train",
          "test",
          "train",
          "train",
          "train",
          "test",
          "train",
          "train",
          "train",
          "train",
          "train",
          "train",
          "train",
          "train",
          "train",
          "train",
          "train",
          "train",
          "train",
          "test",
          "train",
          "train",
          "train",
          "test",
          "test",
          "train",
          "test",
          "test",
          "train",
          "train",
          "train",
          "test",
          "train",
          "test",
          "train",
          "test",
          "train",
          "test",
          "train",
          "test",
          "train",
          "test",
          "train",
          "train",
          "train",
          "train",
          "train",
          "train",
          "test",
          "test",
          "train",
          "test",
          "test",
          "train",
          "train",
          "train",
          "train",
          "train",
          "test",
          "test",
          "test",
          "test",
          "train",
          "train",
          "test",
          "test",
          "train",
          "test",
          "train",
          "train",
          "test",
          "train",
          "train",
          "train",
          "train",
          "train",
          "test",
          "train",
          "train",
          "train",
          "train",
          "test",
          "test",
          "test",
          "train",
          "train",
          "train",
          "train",
          "train",
          "test",
          "train",
          "train",
          "test",
          "test",
          "train",
          "test",
          "train",
          "train",
          "train",
          "train",
          "train",
          "train",
          "train",
          "train",
          "test",
          "test",
          "train",
          "train",
          "test",
          "train",
          "train",
          "train",
          "train",
          "train",
          "train",
          "train",
          "train",
          "train",
          "train",
          "test",
          "test",
          "train",
          "train",
          "test",
          "train",
          "test",
          "train",
          "train",
          "train",
          "test",
          "train",
          "train",
          "train",
          "train",
          "test",
          "train",
          "train",
          "test",
          "test",
          "train",
          "test",
          "test",
          "train",
          "train",
          "train",
          "test",
          "train",
          "train",
          "test",
          "test",
          "train",
          "train",
          "test",
          "test",
          "test",
          "train",
          "train",
          "train",
          "train",
          "train",
          "train",
          "test",
          "train",
          "train",
          "train",
          "train",
          "train",
          "test",
          "train",
          "train",
          "train",
          "train",
          "test",
          "train",
          "test",
          "test",
          "train",
          "test",
          "test",
          "train",
          "test",
          "train",
          "train",
          "train",
          "train",
          "train",
          "train",
          "train",
          "train",
          "train",
          "train",
          "train",
          "train",
          "train",
          "test",
          "test",
          "train",
          "test",
          "train",
          "train",
          "train",
          "train",
          "train",
          "train",
          "train",
          "train",
          "train",
          "train",
          "train",
          "train",
          "test",
          "train",
          "train",
          "test",
          "test",
          "train",
          "test",
          "train",
          "test",
          "train",
          "train",
          "test",
          "test",
          "test",
          "train",
          "test",
          "train",
          "train",
          "test",
          "test",
          "test",
          "train",
          "train",
          "test",
          "train",
          "train",
          "test",
          "train",
          "train",
          "train",
          "train",
          "test",
          "train",
          "train",
          "test",
          "train",
          "train",
          "train",
          "train",
          "train",
          "train",
          "train",
          "train",
          "test",
          "train",
          "train",
          "train",
          "test",
          "train",
          "train",
          "train",
          "train",
          "train",
          "train",
          "train",
          "train",
          "train",
          "train",
          "train",
          "train",
          "train",
          "train",
          "train",
          "train",
          "test",
          "train",
          "train",
          "train",
          "train",
          "train",
          "train",
          "test",
          "train",
          "test",
          "train",
          "train",
          "train",
          "test",
          "test",
          "train",
          "test",
          "train",
          "train",
          "train",
          "train",
          "train",
          "train",
          "train",
          "train",
          "train",
          "test",
          "test",
          "train",
          "train",
          "test",
          "train",
          "train",
          "train",
          "train",
          "train",
          "train",
          "train",
          "train",
          "test",
          "test",
          "train",
          "test",
          "train",
          "test",
          "test",
          "train",
          "train",
          "test",
          "test",
          "train",
          "train",
          "test",
          "test",
          "test",
          "test",
          "train",
          "train",
          "train",
          "test",
          "train",
          "test",
          "train",
          "train",
          "train",
          "train",
          "train",
          "train",
          "test",
          "train",
          "test",
          "train",
          "train",
          "test",
          "train",
          "test",
          "test",
          "train",
          "test",
          "test",
          "train",
          "train",
          "test",
          "train",
          "train",
          "test",
          "train",
          "train",
          "train",
          "train",
          "train",
          "test",
          "test",
          "train",
          "train",
          "test",
          "train",
          "train",
          "train",
          "train",
          "test",
          "train",
          "train",
          "test",
          "test",
          "train",
          "train",
          "train",
          "train",
          "train",
          "test",
          "test",
          "train",
          "train",
          "test",
          "train",
          "train",
          "train",
          "train",
          "train",
          "test",
          "train",
          "test",
          "train",
          "train",
          "test",
          "train",
          "train",
          "train",
          "train",
          "train",
          "train",
          "train",
          "train",
          "train",
          "train",
          "test",
          "train",
          "train",
          "train",
          "train",
          "test",
          "train",
          "train",
          "test",
          "train",
          "train",
          "train",
          "train",
          "train",
          "train",
          "train",
          "test",
          "train",
          "train",
          "train",
          "test",
          "train",
          "train",
          "train",
          "train",
          "train",
          "train",
          "train",
          "test",
          "train",
          "test",
          "test",
          "train",
          "train",
          "train",
          "test",
          "train",
          "train",
          "train",
          "train",
          "train",
          "train",
          "test",
          "train",
          "train",
          "train",
          "train",
          "train",
          "train",
          "train",
          "train",
          "train",
          "train",
          "test",
          "train",
          "train",
          "train",
          "train",
          "train",
          "train",
          "train",
          "test",
          "train",
          "train",
          "train",
          "train",
          "train",
          "test",
          "train",
          "train",
          "train",
          "train",
          "train",
          "train",
          "train",
          "train",
          "train",
          "train",
          "train",
          "train",
          "test",
          "test",
          "train",
          "train",
          "train",
          "train",
          "train",
          "train",
          "train",
          "train",
          "train",
          "test",
          "train",
          "train",
          "train",
          "train",
          "train",
          "train",
          "test",
          "train",
          "train",
          "train",
          "train",
          "train",
          "train",
          "train",
          "train",
          "train",
          "test",
          "train",
          "train",
          "train",
          "train",
          "train",
          "train",
          "train",
          "train",
          "train",
          "train",
          "train",
          "train",
          "train",
          "train",
          "train",
          "train",
          "train",
          "train",
          "train",
          "train",
          "train",
          "train",
          "train",
          "train",
          "test",
          "train",
          "test",
          "train",
          "train",
          "train",
          "test",
          "train",
          "train",
          "train",
          "train",
          "train",
          "train",
          "train",
          "train",
          "test",
          "test",
          "train",
          "test",
          "train",
          "test",
          "test",
          "train",
          "test",
          "train",
          "train",
          "train",
          "train",
          "test",
          "train",
          "test",
          "train",
          "train",
          "test",
          "train",
          "train",
          "train",
          "train",
          "test",
          "train",
          "train",
          "train",
          "test",
          "train",
          "train",
          "train",
          "train",
          "train",
          "test",
          "train",
          "train",
          "train",
          "train",
          "train",
          "train",
          "train",
          "train",
          "train",
          "train",
          "test",
          "train",
          "train",
          "train",
          "train",
          "train",
          "train",
          "train",
          "test",
          "test",
          "train",
          "train",
          "train",
          "train",
          "train",
          "train",
          "test",
          "test",
          "train",
          "train",
          "train",
          "train",
          "train",
          "train",
          "train",
          "train",
          "train",
          "train",
          "train",
          "test",
          "test",
          "train",
          "test",
          "test",
          "train",
          "train",
          "train",
          "test",
          "train",
          "test",
          "train",
          "train",
          "train",
          "test",
          "test",
          "train",
          "test",
          "train",
          "test",
          "train",
          "test",
          "test",
          "test",
          "train",
          "test",
          "train",
          "train",
          "train",
          "test",
          "test",
          "train",
          "test",
          "test",
          "test",
          "train",
          "test",
          "train",
          "train",
          "test",
          "train",
          "test",
          "train",
          "train",
          "test",
          "train",
          "test",
          "test",
          "train",
          "train",
          "train",
          "test",
          "test",
          "train",
          "train",
          "train",
          "train",
          "train",
          "test",
          "test",
          "train",
          "train",
          "test",
          "test",
          "train",
          "test",
          "test",
          "train",
          "test",
          "test",
          "train",
          "train",
          "train",
          "test",
          "test",
          "train",
          "train",
          "test",
          "test",
          "train",
          "train",
          "train",
          "test",
          "test",
          "train",
          "train",
          "train",
          "train",
          "train",
          "train",
          "test",
          "train",
          "train",
          "train",
          "test",
          "train",
          "train",
          "test",
          "train",
          "train",
          "test",
          "test",
          "test",
          "train",
          "train",
          "test",
          "test",
          "test",
          "test",
          "train",
          "train",
          "test",
          "train",
          "test",
          "train",
          "test",
          "train",
          "train",
          "train",
          "train",
          "train",
          "test",
          "train",
          "train",
          "train",
          "train",
          "test",
          "test",
          "train",
          "train",
          "train",
          "train",
          "train",
          "test",
          "train",
          "train",
          "test",
          "train",
          "test",
          "train",
          "train",
          "train",
          "test",
          "train",
          "train",
          "test",
          "train",
          "train",
          "train",
          "train",
          "train",
          "train",
          "test",
          "test",
          "test",
          "train",
          "train",
          "train",
          "train",
          "test",
          "train",
          "train",
          "train",
          "train",
          "train",
          "train",
          "train",
          "train",
          "train",
          "train",
          "train",
          "test",
          "train",
          "train",
          "train",
          "test",
          "train",
          "train",
          "test",
          "test",
          "test",
          "test",
          "test",
          "train",
          "train",
          "train",
          "test",
          "train",
          "train",
          "train",
          "train",
          "test",
          "train",
          "train",
          "train",
          "train",
          "train",
          "test",
          "train",
          "train",
          "train",
          "test",
          "test",
          "test",
          "train",
          "test",
          "train",
          "train",
          "train",
          "train",
          "train",
          "train",
          "train",
          "train",
          "train",
          "train",
          "train",
          "train",
          "train",
          "train",
          "train",
          "train",
          "train",
          "train",
          "train",
          "train",
          "train",
          "train",
          "train",
          "train",
          "train",
          "test",
          "train",
          "test",
          "train",
          "train",
          "test",
          "train",
          "train",
          "train",
          "train",
          "train",
          "train",
          "train",
          "train",
          "train",
          "train",
          "test",
          "test",
          "train",
          "train",
          "train",
          "train",
          "test",
          "train",
          "train",
          "train",
          "train",
          "test",
          "test",
          "train",
          "test",
          "test",
          "test",
          "test",
          "test",
          "train",
          "train",
          "train",
          "train",
          "test",
          "train",
          "train",
          "train",
          "train",
          "train",
          "test",
          "test",
          "test",
          "train",
          "train",
          "test",
          "train",
          "train",
          "train",
          "test",
          "test",
          "train",
          "train",
          "train",
          "train",
          "train",
          "train",
          "train",
          "test",
          "test",
          "train",
          "train",
          "test",
          "test",
          "train",
          "train",
          "test",
          "test",
          "train",
          "train",
          "train",
          "train",
          "train",
          "test",
          "test",
          "train",
          "train",
          "train",
          "train",
          "train",
          "test",
          "train",
          "test",
          "train",
          "train",
          "train",
          "train",
          "train",
          "train",
          "train",
          "train",
          "train",
          "train",
          "test",
          "train",
          "train",
          "train",
          "test",
          "train",
          "train",
          "train",
          "test",
          "test",
          "train",
          "train",
          "train",
          "train",
          "test",
          "train",
          "train",
          "test",
          "train",
          "train",
          "train",
          "train",
          "train",
          "train",
          "test",
          "train",
          "train",
          "test",
          "train",
          "train",
          "train",
          "train",
          "test",
          "train",
          "train",
          "train",
          "test",
          "train",
          "train",
          "train",
          "train",
          "test",
          "train",
          "train",
          "test",
          "train",
          "train",
          "train",
          "train",
          "train",
          "test",
          "test",
          "train",
          "train",
          "train",
          "train",
          "test",
          "train",
          "train",
          "train",
          "test",
          "train",
          "train",
          "train",
          "test",
          "test",
          "test",
          "train",
          "test",
          "test",
          "train",
          "train",
          "test",
          "train",
          "test",
          "train",
          "test",
          "train",
          "test",
          "test",
          "test",
          "test",
          "train",
          "train",
          "train",
          "test",
          "test",
          "test",
          "train",
          "test",
          "train",
          "train",
          "train",
          "train",
          "test",
          "train",
          "test",
          "test",
          "train",
          "train",
          "train",
          "train",
          "train",
          "test",
          "test",
          "train",
          "train",
          "train",
          "test",
          "train",
          "train",
          "test",
          "train",
          "train",
          "test",
          "test",
          "test",
          "test",
          "train",
          "test",
          "train",
          "test",
          "train",
          "train",
          "test",
          "train",
          "test",
          "train",
          "train",
          "train",
          "train",
          "train",
          "test",
          "train",
          "test",
          "train",
          "train",
          "train",
          "train",
          "test",
          "test",
          "train",
          "train",
          "test",
          "train",
          "train",
          "train",
          "train",
          "train",
          "train",
          "train",
          "test",
          "train",
          "test",
          "train",
          "train",
          "train",
          "test",
          "train",
          "train",
          "test",
          "test",
          "train",
          "test",
          "train",
          "test",
          "train",
          "train",
          "train",
          "train",
          "train",
          "test",
          "train",
          "train",
          "train",
          "test",
          "train",
          "test",
          "train",
          "train",
          "train",
          "test",
          "test",
          "train",
          "test",
          "train",
          "train",
          "test",
          "train",
          "train",
          "test",
          "test",
          "train",
          "train",
          "test",
          "train",
          "train",
          "train",
          "train",
          "train",
          "test",
          "train",
          "train",
          "train",
          "train",
          "train",
          "test",
          "test",
          "train",
          "train",
          "train",
          "test",
          "train",
          "test",
          "train",
          "train",
          "train",
          "test",
          "train",
          "train",
          "train",
          "test",
          "test",
          "train",
          "test",
          "test",
          "train",
          "train",
          "train",
          "test",
          "train",
          "train",
          "test",
          "train",
          "train",
          "train",
          "train",
          "train",
          "train",
          "test",
          "test",
          "train",
          "train",
          "train",
          "test",
          "test",
          "train",
          "train",
          "train",
          "train",
          "test",
          "train",
          "train",
          "train",
          "train",
          "test",
          "train",
          "train",
          "test",
          "train",
          "train",
          "train",
          "train",
          "train",
          "test",
          "train",
          "train",
          "train",
          "test",
          "test",
          "test",
          "test",
          "train",
          "train",
          "test",
          "train",
          "test",
          "train",
          "test",
          "train",
          "train",
          "train",
          "train",
          "train",
          "train",
          "test",
          "train",
          "test",
          "train",
          "test",
          "train"
         ],
         "hovertemplate": "%{x},%{y} (%{customdata})",
         "marker": {
          "color": [
           "blue",
           "blue",
           "blue",
           "blue",
           "green",
           "blue",
           "blue",
           "blue",
           "blue",
           "blue",
           "green",
           "green",
           "green",
           "blue",
           "green",
           "green",
           "green",
           "green",
           "blue",
           "blue",
           "blue",
           "blue",
           "blue",
           "blue",
           "green",
           "blue",
           "green",
           "blue",
           "green",
           "blue",
           "blue",
           "green",
           "blue",
           "blue",
           "blue",
           "blue",
           "blue",
           "blue",
           "green",
           "green",
           "green",
           "blue",
           "blue",
           "blue",
           "blue",
           "blue",
           "green",
           "blue",
           "blue",
           "blue",
           "blue",
           "green",
           "blue",
           "blue",
           "green",
           "green",
           "blue",
           "green",
           "blue",
           "blue",
           "blue",
           "green",
           "green",
           "blue",
           "blue",
           "blue",
           "blue",
           "green",
           "blue",
           "blue",
           "green",
           "blue",
           "green",
           "blue",
           "blue",
           "green",
           "green",
           "blue",
           "blue",
           "green",
           "blue",
           "blue",
           "blue",
           "blue",
           "blue",
           "blue",
           "blue",
           "blue",
           "blue",
           "green",
           "green",
           "blue",
           "blue",
           "blue",
           "green",
           "blue",
           "green",
           "blue",
           "blue",
           "blue",
           "blue",
           "blue",
           "blue",
           "blue",
           "green",
           "green",
           "blue",
           "blue",
           "blue",
           "blue",
           "blue",
           "green",
           "green",
           "green",
           "green",
           "green",
           "blue",
           "blue",
           "green",
           "green",
           "blue",
           "green",
           "blue",
           "green",
           "blue",
           "blue",
           "green",
           "green",
           "blue",
           "green",
           "blue",
           "blue",
           "blue",
           "blue",
           "green",
           "green",
           "green",
           "blue",
           "blue",
           "blue",
           "blue",
           "blue",
           "green",
           "blue",
           "blue",
           "blue",
           "blue",
           "blue",
           "blue",
           "green",
           "green",
           "green",
           "blue",
           "blue",
           "blue",
           "blue",
           "green",
           "green",
           "blue",
           "blue",
           "blue",
           "green",
           "blue",
           "blue",
           "green",
           "blue",
           "blue",
           "blue",
           "blue",
           "blue",
           "blue",
           "green",
           "blue",
           "blue",
           "blue",
           "blue",
           "blue",
           "blue",
           "green",
           "blue",
           "blue",
           "green",
           "blue",
           "green",
           "blue",
           "blue",
           "blue",
           "blue",
           "blue",
           "blue",
           "blue",
           "green",
           "blue",
           "green",
           "green",
           "blue",
           "blue",
           "green",
           "blue",
           "blue",
           "blue",
           "green",
           "blue",
           "blue",
           "blue",
           "blue",
           "blue",
           "green",
           "green",
           "blue",
           "green",
           "blue",
           "blue",
           "blue",
           "green",
           "blue",
           "blue",
           "blue",
           "blue",
           "blue",
           "blue",
           "blue",
           "blue",
           "blue",
           "blue",
           "blue",
           "blue",
           "blue",
           "green",
           "blue",
           "blue",
           "blue",
           "green",
           "green",
           "blue",
           "green",
           "green",
           "blue",
           "blue",
           "blue",
           "green",
           "blue",
           "green",
           "blue",
           "green",
           "blue",
           "green",
           "blue",
           "green",
           "blue",
           "green",
           "blue",
           "blue",
           "blue",
           "blue",
           "blue",
           "blue",
           "green",
           "green",
           "blue",
           "green",
           "green",
           "blue",
           "blue",
           "blue",
           "blue",
           "blue",
           "green",
           "green",
           "green",
           "green",
           "blue",
           "blue",
           "green",
           "green",
           "blue",
           "green",
           "blue",
           "blue",
           "green",
           "blue",
           "blue",
           "blue",
           "blue",
           "blue",
           "green",
           "blue",
           "blue",
           "blue",
           "blue",
           "green",
           "green",
           "green",
           "blue",
           "blue",
           "blue",
           "blue",
           "blue",
           "green",
           "blue",
           "blue",
           "green",
           "green",
           "blue",
           "green",
           "blue",
           "blue",
           "blue",
           "blue",
           "blue",
           "blue",
           "blue",
           "blue",
           "green",
           "green",
           "blue",
           "blue",
           "green",
           "blue",
           "blue",
           "blue",
           "blue",
           "blue",
           "blue",
           "blue",
           "blue",
           "blue",
           "blue",
           "green",
           "green",
           "blue",
           "blue",
           "green",
           "blue",
           "green",
           "blue",
           "blue",
           "blue",
           "green",
           "blue",
           "blue",
           "blue",
           "blue",
           "green",
           "blue",
           "blue",
           "green",
           "green",
           "blue",
           "green",
           "green",
           "blue",
           "blue",
           "blue",
           "green",
           "blue",
           "blue",
           "green",
           "green",
           "blue",
           "blue",
           "green",
           "green",
           "green",
           "blue",
           "blue",
           "blue",
           "blue",
           "blue",
           "blue",
           "green",
           "blue",
           "blue",
           "blue",
           "blue",
           "blue",
           "green",
           "blue",
           "blue",
           "blue",
           "blue",
           "green",
           "blue",
           "green",
           "green",
           "blue",
           "green",
           "green",
           "blue",
           "green",
           "blue",
           "blue",
           "blue",
           "blue",
           "blue",
           "blue",
           "blue",
           "blue",
           "blue",
           "blue",
           "blue",
           "blue",
           "blue",
           "green",
           "green",
           "blue",
           "green",
           "blue",
           "blue",
           "blue",
           "blue",
           "blue",
           "blue",
           "blue",
           "blue",
           "blue",
           "blue",
           "blue",
           "blue",
           "green",
           "blue",
           "blue",
           "green",
           "green",
           "blue",
           "green",
           "blue",
           "green",
           "blue",
           "blue",
           "green",
           "green",
           "green",
           "blue",
           "green",
           "blue",
           "blue",
           "green",
           "green",
           "green",
           "blue",
           "blue",
           "green",
           "blue",
           "blue",
           "green",
           "blue",
           "blue",
           "blue",
           "blue",
           "green",
           "blue",
           "blue",
           "green",
           "blue",
           "blue",
           "blue",
           "blue",
           "blue",
           "blue",
           "blue",
           "blue",
           "green",
           "blue",
           "blue",
           "blue",
           "green",
           "blue",
           "blue",
           "blue",
           "blue",
           "blue",
           "blue",
           "blue",
           "blue",
           "blue",
           "blue",
           "blue",
           "blue",
           "blue",
           "blue",
           "blue",
           "blue",
           "green",
           "blue",
           "blue",
           "blue",
           "blue",
           "blue",
           "blue",
           "green",
           "blue",
           "green",
           "blue",
           "blue",
           "blue",
           "green",
           "green",
           "blue",
           "green",
           "blue",
           "blue",
           "blue",
           "blue",
           "blue",
           "blue",
           "blue",
           "blue",
           "blue",
           "green",
           "green",
           "blue",
           "blue",
           "green",
           "blue",
           "blue",
           "blue",
           "blue",
           "blue",
           "blue",
           "blue",
           "blue",
           "green",
           "green",
           "blue",
           "green",
           "blue",
           "green",
           "green",
           "blue",
           "blue",
           "green",
           "green",
           "blue",
           "blue",
           "green",
           "green",
           "green",
           "green",
           "blue",
           "blue",
           "blue",
           "green",
           "blue",
           "green",
           "blue",
           "blue",
           "blue",
           "blue",
           "blue",
           "blue",
           "green",
           "blue",
           "green",
           "blue",
           "blue",
           "green",
           "blue",
           "green",
           "green",
           "blue",
           "green",
           "green",
           "blue",
           "blue",
           "green",
           "blue",
           "blue",
           "green",
           "blue",
           "blue",
           "blue",
           "blue",
           "blue",
           "green",
           "green",
           "blue",
           "blue",
           "green",
           "blue",
           "blue",
           "blue",
           "blue",
           "green",
           "blue",
           "blue",
           "green",
           "green",
           "blue",
           "blue",
           "blue",
           "blue",
           "blue",
           "green",
           "green",
           "blue",
           "blue",
           "green",
           "blue",
           "blue",
           "blue",
           "blue",
           "blue",
           "green",
           "blue",
           "green",
           "blue",
           "blue",
           "green",
           "blue",
           "blue",
           "blue",
           "blue",
           "blue",
           "blue",
           "blue",
           "blue",
           "blue",
           "blue",
           "green",
           "blue",
           "blue",
           "blue",
           "blue",
           "green",
           "blue",
           "blue",
           "green",
           "blue",
           "blue",
           "blue",
           "blue",
           "blue",
           "blue",
           "blue",
           "green",
           "blue",
           "blue",
           "blue",
           "green",
           "blue",
           "blue",
           "blue",
           "blue",
           "blue",
           "blue",
           "blue",
           "green",
           "blue",
           "green",
           "green",
           "blue",
           "blue",
           "blue",
           "green",
           "blue",
           "blue",
           "blue",
           "blue",
           "blue",
           "blue",
           "green",
           "blue",
           "blue",
           "blue",
           "blue",
           "blue",
           "blue",
           "blue",
           "blue",
           "blue",
           "blue",
           "green",
           "blue",
           "blue",
           "blue",
           "blue",
           "blue",
           "blue",
           "blue",
           "green",
           "blue",
           "blue",
           "blue",
           "blue",
           "blue",
           "green",
           "blue",
           "blue",
           "blue",
           "blue",
           "blue",
           "blue",
           "blue",
           "blue",
           "blue",
           "blue",
           "blue",
           "blue",
           "green",
           "green",
           "blue",
           "blue",
           "blue",
           "blue",
           "blue",
           "blue",
           "blue",
           "blue",
           "blue",
           "green",
           "blue",
           "blue",
           "blue",
           "blue",
           "blue",
           "blue",
           "green",
           "blue",
           "blue",
           "blue",
           "blue",
           "blue",
           "blue",
           "blue",
           "blue",
           "blue",
           "green",
           "blue",
           "blue",
           "blue",
           "blue",
           "blue",
           "blue",
           "blue",
           "blue",
           "blue",
           "blue",
           "blue",
           "blue",
           "blue",
           "blue",
           "blue",
           "blue",
           "blue",
           "blue",
           "blue",
           "blue",
           "blue",
           "blue",
           "blue",
           "blue",
           "green",
           "blue",
           "green",
           "blue",
           "blue",
           "blue",
           "green",
           "blue",
           "blue",
           "blue",
           "blue",
           "blue",
           "blue",
           "blue",
           "blue",
           "green",
           "green",
           "blue",
           "green",
           "blue",
           "green",
           "green",
           "blue",
           "green",
           "blue",
           "blue",
           "blue",
           "blue",
           "green",
           "blue",
           "green",
           "blue",
           "blue",
           "green",
           "blue",
           "blue",
           "blue",
           "blue",
           "green",
           "blue",
           "blue",
           "blue",
           "green",
           "blue",
           "blue",
           "blue",
           "blue",
           "blue",
           "green",
           "blue",
           "blue",
           "blue",
           "blue",
           "blue",
           "blue",
           "blue",
           "blue",
           "blue",
           "blue",
           "green",
           "blue",
           "blue",
           "blue",
           "blue",
           "blue",
           "blue",
           "blue",
           "green",
           "green",
           "blue",
           "blue",
           "blue",
           "blue",
           "blue",
           "blue",
           "green",
           "green",
           "blue",
           "blue",
           "blue",
           "blue",
           "blue",
           "blue",
           "blue",
           "blue",
           "blue",
           "blue",
           "blue",
           "green",
           "green",
           "blue",
           "green",
           "green",
           "blue",
           "blue",
           "blue",
           "green",
           "blue",
           "green",
           "blue",
           "blue",
           "blue",
           "green",
           "green",
           "blue",
           "green",
           "blue",
           "green",
           "blue",
           "green",
           "green",
           "green",
           "blue",
           "green",
           "blue",
           "blue",
           "blue",
           "green",
           "green",
           "blue",
           "green",
           "green",
           "green",
           "blue",
           "green",
           "blue",
           "blue",
           "green",
           "blue",
           "green",
           "blue",
           "blue",
           "green",
           "blue",
           "green",
           "green",
           "blue",
           "blue",
           "blue",
           "green",
           "green",
           "blue",
           "blue",
           "blue",
           "blue",
           "blue",
           "green",
           "green",
           "blue",
           "blue",
           "green",
           "green",
           "blue",
           "green",
           "green",
           "blue",
           "green",
           "green",
           "blue",
           "blue",
           "blue",
           "green",
           "green",
           "blue",
           "blue",
           "green",
           "green",
           "blue",
           "blue",
           "blue",
           "green",
           "green",
           "blue",
           "blue",
           "blue",
           "blue",
           "blue",
           "blue",
           "green",
           "blue",
           "blue",
           "blue",
           "green",
           "blue",
           "blue",
           "green",
           "blue",
           "blue",
           "green",
           "green",
           "green",
           "blue",
           "blue",
           "green",
           "green",
           "green",
           "green",
           "blue",
           "blue",
           "green",
           "blue",
           "green",
           "blue",
           "green",
           "blue",
           "blue",
           "blue",
           "blue",
           "blue",
           "green",
           "blue",
           "blue",
           "blue",
           "blue",
           "green",
           "green",
           "blue",
           "blue",
           "blue",
           "blue",
           "blue",
           "green",
           "blue",
           "blue",
           "green",
           "blue",
           "green",
           "blue",
           "blue",
           "blue",
           "green",
           "blue",
           "blue",
           "green",
           "blue",
           "blue",
           "blue",
           "blue",
           "blue",
           "blue",
           "green",
           "green",
           "green",
           "blue",
           "blue",
           "blue",
           "blue",
           "green",
           "blue",
           "blue",
           "blue",
           "blue",
           "blue",
           "blue",
           "blue",
           "blue",
           "blue",
           "blue",
           "blue",
           "green",
           "blue",
           "blue",
           "blue",
           "green",
           "blue",
           "blue",
           "green",
           "green",
           "green",
           "green",
           "green",
           "blue",
           "blue",
           "blue",
           "green",
           "blue",
           "blue",
           "blue",
           "blue",
           "green",
           "blue",
           "blue",
           "blue",
           "blue",
           "blue",
           "green",
           "blue",
           "blue",
           "blue",
           "green",
           "green",
           "green",
           "blue",
           "green",
           "blue",
           "blue",
           "blue",
           "blue",
           "blue",
           "blue",
           "blue",
           "blue",
           "blue",
           "blue",
           "blue",
           "blue",
           "blue",
           "blue",
           "blue",
           "blue",
           "blue",
           "blue",
           "blue",
           "blue",
           "blue",
           "blue",
           "blue",
           "blue",
           "blue",
           "green",
           "blue",
           "green",
           "blue",
           "blue",
           "green",
           "blue",
           "blue",
           "blue",
           "blue",
           "blue",
           "blue",
           "blue",
           "blue",
           "blue",
           "blue",
           "green",
           "green",
           "blue",
           "blue",
           "blue",
           "blue",
           "green",
           "blue",
           "blue",
           "blue",
           "blue",
           "green",
           "green",
           "blue",
           "green",
           "green",
           "green",
           "green",
           "green",
           "blue",
           "blue",
           "blue",
           "blue",
           "green",
           "blue",
           "blue",
           "blue",
           "blue",
           "blue",
           "green",
           "green",
           "green",
           "blue",
           "blue",
           "green",
           "blue",
           "blue",
           "blue",
           "green",
           "green",
           "blue",
           "blue",
           "blue",
           "blue",
           "blue",
           "blue",
           "blue",
           "green",
           "green",
           "blue",
           "blue",
           "green",
           "green",
           "blue",
           "blue",
           "green",
           "green",
           "blue",
           "blue",
           "blue",
           "blue",
           "blue",
           "green",
           "green",
           "blue",
           "blue",
           "blue",
           "blue",
           "blue",
           "green",
           "blue",
           "green",
           "blue",
           "blue",
           "blue",
           "blue",
           "blue",
           "blue",
           "blue",
           "blue",
           "blue",
           "blue",
           "green",
           "blue",
           "blue",
           "blue",
           "green",
           "blue",
           "blue",
           "blue",
           "green",
           "green",
           "blue",
           "blue",
           "blue",
           "blue",
           "green",
           "blue",
           "blue",
           "green",
           "blue",
           "blue",
           "blue",
           "blue",
           "blue",
           "blue",
           "green",
           "blue",
           "blue",
           "green",
           "blue",
           "blue",
           "blue",
           "blue",
           "green",
           "blue",
           "blue",
           "blue",
           "green",
           "blue",
           "blue",
           "blue",
           "blue",
           "green",
           "blue",
           "blue",
           "green",
           "blue",
           "blue",
           "blue",
           "blue",
           "blue",
           "green",
           "green",
           "blue",
           "blue",
           "blue",
           "blue",
           "green",
           "blue",
           "blue",
           "blue",
           "green",
           "blue",
           "blue",
           "blue",
           "green",
           "green",
           "green",
           "blue",
           "green",
           "green",
           "blue",
           "blue",
           "green",
           "blue",
           "green",
           "blue",
           "green",
           "blue",
           "green",
           "green",
           "green",
           "green",
           "blue",
           "blue",
           "blue",
           "green",
           "green",
           "green",
           "blue",
           "green",
           "blue",
           "blue",
           "blue",
           "blue",
           "green",
           "blue",
           "green",
           "green",
           "blue",
           "blue",
           "blue",
           "blue",
           "blue",
           "green",
           "green",
           "blue",
           "blue",
           "blue",
           "green",
           "blue",
           "blue",
           "green",
           "blue",
           "blue",
           "green",
           "green",
           "green",
           "green",
           "blue",
           "green",
           "blue",
           "green",
           "blue",
           "blue",
           "green",
           "blue",
           "green",
           "blue",
           "blue",
           "blue",
           "blue",
           "blue",
           "green",
           "blue",
           "green",
           "blue",
           "blue",
           "blue",
           "blue",
           "green",
           "green",
           "blue",
           "blue",
           "green",
           "blue",
           "blue",
           "blue",
           "blue",
           "blue",
           "blue",
           "blue",
           "green",
           "blue",
           "green",
           "blue",
           "blue",
           "blue",
           "green",
           "blue",
           "blue",
           "green",
           "green",
           "blue",
           "green",
           "blue",
           "green",
           "blue",
           "blue",
           "blue",
           "blue",
           "blue",
           "green",
           "blue",
           "blue",
           "blue",
           "green",
           "blue",
           "green",
           "blue",
           "blue",
           "blue",
           "green",
           "green",
           "blue",
           "green",
           "blue",
           "blue",
           "green",
           "blue",
           "blue",
           "green",
           "green",
           "blue",
           "blue",
           "green",
           "blue",
           "blue",
           "blue",
           "blue",
           "blue",
           "green",
           "blue",
           "blue",
           "blue",
           "blue",
           "blue",
           "green",
           "green",
           "blue",
           "blue",
           "blue",
           "green",
           "blue",
           "green",
           "blue",
           "blue",
           "blue",
           "green",
           "blue",
           "blue",
           "blue",
           "green",
           "green",
           "blue",
           "green",
           "green",
           "blue",
           "blue",
           "blue",
           "green",
           "blue",
           "blue",
           "green",
           "blue",
           "blue",
           "blue",
           "blue",
           "blue",
           "blue",
           "green",
           "green",
           "blue",
           "blue",
           "blue",
           "green",
           "green",
           "blue",
           "blue",
           "blue",
           "blue",
           "green",
           "blue",
           "blue",
           "blue",
           "blue",
           "green",
           "blue",
           "blue",
           "green",
           "blue",
           "blue",
           "blue",
           "blue",
           "blue",
           "green",
           "blue",
           "blue",
           "blue",
           "green",
           "green",
           "green",
           "green",
           "blue",
           "blue",
           "green",
           "blue",
           "green",
           "blue",
           "green",
           "blue",
           "blue",
           "blue",
           "blue",
           "blue",
           "blue",
           "green",
           "blue",
           "green",
           "blue",
           "green",
           "blue"
          ]
         },
         "mode": "markers",
         "name": "quantiles",
         "opacity": 0.7,
         "type": "scatter",
         "uid": "5243e477-fe52-4292-986c-640272038f32",
         "x": {
          "dtype": "float64",
          "shape": [
           1460
          ]
         },
         "y": {
          "dtype": "float64",
          "shape": [
           1460
          ]
         }
        },
        {
         "mode": "lines",
         "name": "OLS",
         "type": "scatter",
         "uid": "02fc5436-2a84-4c71-ae16-ce858a542e9c",
         "x": {
          "dtype": "float64",
          "shape": [
           2
          ]
         },
         "y": {
          "dtype": "float64",
          "shape": [
           2
          ]
         }
        }
       ],
       "_js2py_restyle": {},
       "_js2py_update": {},
       "_layout": {
        "autosize": true,
        "showlegend": false,
        "template": {
         "data": {
          "bar": [
           {
            "error_x": {
             "color": "#2a3f5f"
            },
            "error_y": {
             "color": "#2a3f5f"
            },
            "marker": {
             "line": {
              "color": "#E5ECF6",
              "width": 0.5
             },
             "pattern": {
              "fillmode": "overlay",
              "size": 10,
              "solidity": 0.2
             }
            },
            "type": "bar"
           }
          ],
          "barpolar": [
           {
            "marker": {
             "line": {
              "color": "#E5ECF6",
              "width": 0.5
             },
             "pattern": {
              "fillmode": "overlay",
              "size": 10,
              "solidity": 0.2
             }
            },
            "type": "barpolar"
           }
          ],
          "carpet": [
           {
            "aaxis": {
             "endlinecolor": "#2a3f5f",
             "gridcolor": "white",
             "linecolor": "white",
             "minorgridcolor": "white",
             "startlinecolor": "#2a3f5f"
            },
            "baxis": {
             "endlinecolor": "#2a3f5f",
             "gridcolor": "white",
             "linecolor": "white",
             "minorgridcolor": "white",
             "startlinecolor": "#2a3f5f"
            },
            "type": "carpet"
           }
          ],
          "choropleth": [
           {
            "colorbar": {
             "outlinewidth": 0,
             "ticks": ""
            },
            "type": "choropleth"
           }
          ],
          "contour": [
           {
            "colorbar": {
             "outlinewidth": 0,
             "ticks": ""
            },
            "colorscale": [
             [
              0,
              "#0d0887"
             ],
             [
              0.1111111111111111,
              "#46039f"
             ],
             [
              0.2222222222222222,
              "#7201a8"
             ],
             [
              0.3333333333333333,
              "#9c179e"
             ],
             [
              0.4444444444444444,
              "#bd3786"
             ],
             [
              0.5555555555555556,
              "#d8576b"
             ],
             [
              0.6666666666666666,
              "#ed7953"
             ],
             [
              0.7777777777777778,
              "#fb9f3a"
             ],
             [
              0.8888888888888888,
              "#fdca26"
             ],
             [
              1,
              "#f0f921"
             ]
            ],
            "type": "contour"
           }
          ],
          "contourcarpet": [
           {
            "colorbar": {
             "outlinewidth": 0,
             "ticks": ""
            },
            "type": "contourcarpet"
           }
          ],
          "heatmap": [
           {
            "colorbar": {
             "outlinewidth": 0,
             "ticks": ""
            },
            "colorscale": [
             [
              0,
              "#0d0887"
             ],
             [
              0.1111111111111111,
              "#46039f"
             ],
             [
              0.2222222222222222,
              "#7201a8"
             ],
             [
              0.3333333333333333,
              "#9c179e"
             ],
             [
              0.4444444444444444,
              "#bd3786"
             ],
             [
              0.5555555555555556,
              "#d8576b"
             ],
             [
              0.6666666666666666,
              "#ed7953"
             ],
             [
              0.7777777777777778,
              "#fb9f3a"
             ],
             [
              0.8888888888888888,
              "#fdca26"
             ],
             [
              1,
              "#f0f921"
             ]
            ],
            "type": "heatmap"
           }
          ],
          "heatmapgl": [
           {
            "colorbar": {
             "outlinewidth": 0,
             "ticks": ""
            },
            "colorscale": [
             [
              0,
              "#0d0887"
             ],
             [
              0.1111111111111111,
              "#46039f"
             ],
             [
              0.2222222222222222,
              "#7201a8"
             ],
             [
              0.3333333333333333,
              "#9c179e"
             ],
             [
              0.4444444444444444,
              "#bd3786"
             ],
             [
              0.5555555555555556,
              "#d8576b"
             ],
             [
              0.6666666666666666,
              "#ed7953"
             ],
             [
              0.7777777777777778,
              "#fb9f3a"
             ],
             [
              0.8888888888888888,
              "#fdca26"
             ],
             [
              1,
              "#f0f921"
             ]
            ],
            "type": "heatmapgl"
           }
          ],
          "histogram": [
           {
            "marker": {
             "pattern": {
              "fillmode": "overlay",
              "size": 10,
              "solidity": 0.2
             }
            },
            "type": "histogram"
           }
          ],
          "histogram2d": [
           {
            "colorbar": {
             "outlinewidth": 0,
             "ticks": ""
            },
            "colorscale": [
             [
              0,
              "#0d0887"
             ],
             [
              0.1111111111111111,
              "#46039f"
             ],
             [
              0.2222222222222222,
              "#7201a8"
             ],
             [
              0.3333333333333333,
              "#9c179e"
             ],
             [
              0.4444444444444444,
              "#bd3786"
             ],
             [
              0.5555555555555556,
              "#d8576b"
             ],
             [
              0.6666666666666666,
              "#ed7953"
             ],
             [
              0.7777777777777778,
              "#fb9f3a"
             ],
             [
              0.8888888888888888,
              "#fdca26"
             ],
             [
              1,
              "#f0f921"
             ]
            ],
            "type": "histogram2d"
           }
          ],
          "histogram2dcontour": [
           {
            "colorbar": {
             "outlinewidth": 0,
             "ticks": ""
            },
            "colorscale": [
             [
              0,
              "#0d0887"
             ],
             [
              0.1111111111111111,
              "#46039f"
             ],
             [
              0.2222222222222222,
              "#7201a8"
             ],
             [
              0.3333333333333333,
              "#9c179e"
             ],
             [
              0.4444444444444444,
              "#bd3786"
             ],
             [
              0.5555555555555556,
              "#d8576b"
             ],
             [
              0.6666666666666666,
              "#ed7953"
             ],
             [
              0.7777777777777778,
              "#fb9f3a"
             ],
             [
              0.8888888888888888,
              "#fdca26"
             ],
             [
              1,
              "#f0f921"
             ]
            ],
            "type": "histogram2dcontour"
           }
          ],
          "mesh3d": [
           {
            "colorbar": {
             "outlinewidth": 0,
             "ticks": ""
            },
            "type": "mesh3d"
           }
          ],
          "parcoords": [
           {
            "line": {
             "colorbar": {
              "outlinewidth": 0,
              "ticks": ""
             }
            },
            "type": "parcoords"
           }
          ],
          "pie": [
           {
            "automargin": true,
            "type": "pie"
           }
          ],
          "scatter": [
           {
            "fillpattern": {
             "fillmode": "overlay",
             "size": 10,
             "solidity": 0.2
            },
            "type": "scatter"
           }
          ],
          "scatter3d": [
           {
            "line": {
             "colorbar": {
              "outlinewidth": 0,
              "ticks": ""
             }
            },
            "marker": {
             "colorbar": {
              "outlinewidth": 0,
              "ticks": ""
             }
            },
            "type": "scatter3d"
           }
          ],
          "scattercarpet": [
           {
            "marker": {
             "colorbar": {
              "outlinewidth": 0,
              "ticks": ""
             }
            },
            "type": "scattercarpet"
           }
          ],
          "scattergeo": [
           {
            "marker": {
             "colorbar": {
              "outlinewidth": 0,
              "ticks": ""
             }
            },
            "type": "scattergeo"
           }
          ],
          "scattergl": [
           {
            "marker": {
             "colorbar": {
              "outlinewidth": 0,
              "ticks": ""
             }
            },
            "type": "scattergl"
           }
          ],
          "scattermapbox": [
           {
            "marker": {
             "colorbar": {
              "outlinewidth": 0,
              "ticks": ""
             }
            },
            "type": "scattermapbox"
           }
          ],
          "scatterpolar": [
           {
            "marker": {
             "colorbar": {
              "outlinewidth": 0,
              "ticks": ""
             }
            },
            "type": "scatterpolar"
           }
          ],
          "scatterpolargl": [
           {
            "marker": {
             "colorbar": {
              "outlinewidth": 0,
              "ticks": ""
             }
            },
            "type": "scatterpolargl"
           }
          ],
          "scatterternary": [
           {
            "marker": {
             "colorbar": {
              "outlinewidth": 0,
              "ticks": ""
             }
            },
            "type": "scatterternary"
           }
          ],
          "surface": [
           {
            "colorbar": {
             "outlinewidth": 0,
             "ticks": ""
            },
            "colorscale": [
             [
              0,
              "#0d0887"
             ],
             [
              0.1111111111111111,
              "#46039f"
             ],
             [
              0.2222222222222222,
              "#7201a8"
             ],
             [
              0.3333333333333333,
              "#9c179e"
             ],
             [
              0.4444444444444444,
              "#bd3786"
             ],
             [
              0.5555555555555556,
              "#d8576b"
             ],
             [
              0.6666666666666666,
              "#ed7953"
             ],
             [
              0.7777777777777778,
              "#fb9f3a"
             ],
             [
              0.8888888888888888,
              "#fdca26"
             ],
             [
              1,
              "#f0f921"
             ]
            ],
            "type": "surface"
           }
          ],
          "table": [
           {
            "cells": {
             "fill": {
              "color": "#EBF0F8"
             },
             "line": {
              "color": "white"
             }
            },
            "header": {
             "fill": {
              "color": "#C8D4E3"
             },
             "line": {
              "color": "white"
             }
            },
            "type": "table"
           }
          ]
         },
         "layout": {
          "annotationdefaults": {
           "arrowcolor": "#2a3f5f",
           "arrowhead": 0,
           "arrowwidth": 1
          },
          "autotypenumbers": "strict",
          "coloraxis": {
           "colorbar": {
            "outlinewidth": 0,
            "ticks": ""
           }
          },
          "colorscale": {
           "diverging": [
            [
             0,
             "#8e0152"
            ],
            [
             0.1,
             "#c51b7d"
            ],
            [
             0.2,
             "#de77ae"
            ],
            [
             0.3,
             "#f1b6da"
            ],
            [
             0.4,
             "#fde0ef"
            ],
            [
             0.5,
             "#f7f7f7"
            ],
            [
             0.6,
             "#e6f5d0"
            ],
            [
             0.7,
             "#b8e186"
            ],
            [
             0.8,
             "#7fbc41"
            ],
            [
             0.9,
             "#4d9221"
            ],
            [
             1,
             "#276419"
            ]
           ],
           "sequential": [
            [
             0,
             "#0d0887"
            ],
            [
             0.1111111111111111,
             "#46039f"
            ],
            [
             0.2222222222222222,
             "#7201a8"
            ],
            [
             0.3333333333333333,
             "#9c179e"
            ],
            [
             0.4444444444444444,
             "#bd3786"
            ],
            [
             0.5555555555555556,
             "#d8576b"
            ],
            [
             0.6666666666666666,
             "#ed7953"
            ],
            [
             0.7777777777777778,
             "#fb9f3a"
            ],
            [
             0.8888888888888888,
             "#fdca26"
            ],
            [
             1,
             "#f0f921"
            ]
           ],
           "sequentialminus": [
            [
             0,
             "#0d0887"
            ],
            [
             0.1111111111111111,
             "#46039f"
            ],
            [
             0.2222222222222222,
             "#7201a8"
            ],
            [
             0.3333333333333333,
             "#9c179e"
            ],
            [
             0.4444444444444444,
             "#bd3786"
            ],
            [
             0.5555555555555556,
             "#d8576b"
            ],
            [
             0.6666666666666666,
             "#ed7953"
            ],
            [
             0.7777777777777778,
             "#fb9f3a"
            ],
            [
             0.8888888888888888,
             "#fdca26"
            ],
            [
             1,
             "#f0f921"
            ]
           ]
          },
          "colorway": [
           "#636efa",
           "#EF553B",
           "#00cc96",
           "#ab63fa",
           "#FFA15A",
           "#19d3f3",
           "#FF6692",
           "#B6E880",
           "#FF97FF",
           "#FECB52"
          ],
          "font": {
           "color": "#2a3f5f"
          },
          "geo": {
           "bgcolor": "white",
           "lakecolor": "white",
           "landcolor": "#E5ECF6",
           "showlakes": true,
           "showland": true,
           "subunitcolor": "white"
          },
          "hoverlabel": {
           "align": "left"
          },
          "hovermode": "closest",
          "mapbox": {
           "style": "light"
          },
          "paper_bgcolor": "white",
          "plot_bgcolor": "#E5ECF6",
          "polar": {
           "angularaxis": {
            "gridcolor": "white",
            "linecolor": "white",
            "ticks": ""
           },
           "bgcolor": "#E5ECF6",
           "radialaxis": {
            "gridcolor": "white",
            "linecolor": "white",
            "ticks": ""
           }
          },
          "scene": {
           "xaxis": {
            "backgroundcolor": "#E5ECF6",
            "gridcolor": "white",
            "gridwidth": 2,
            "linecolor": "white",
            "showbackground": true,
            "ticks": "",
            "zerolinecolor": "white"
           },
           "yaxis": {
            "backgroundcolor": "#E5ECF6",
            "gridcolor": "white",
            "gridwidth": 2,
            "linecolor": "white",
            "showbackground": true,
            "ticks": "",
            "zerolinecolor": "white"
           },
           "zaxis": {
            "backgroundcolor": "#E5ECF6",
            "gridcolor": "white",
            "gridwidth": 2,
            "linecolor": "white",
            "showbackground": true,
            "ticks": "",
            "zerolinecolor": "white"
           }
          },
          "shapedefaults": {
           "line": {
            "color": "#2a3f5f"
           }
          },
          "ternary": {
           "aaxis": {
            "gridcolor": "white",
            "linecolor": "white",
            "ticks": ""
           },
           "baxis": {
            "gridcolor": "white",
            "linecolor": "white",
            "ticks": ""
           },
           "bgcolor": "#E5ECF6",
           "caxis": {
            "gridcolor": "white",
            "linecolor": "white",
            "ticks": ""
           }
          },
          "title": {
           "x": 0.05
          },
          "xaxis": {
           "automargin": true,
           "gridcolor": "white",
           "linecolor": "white",
           "ticks": "",
           "title": {
            "standoff": 15
           },
           "zerolinecolor": "white",
           "zerolinewidth": 2
          },
          "yaxis": {
           "automargin": true,
           "gridcolor": "white",
           "linecolor": "white",
           "ticks": "",
           "title": {
            "standoff": 15
           },
           "zerolinecolor": "white",
           "zerolinewidth": 2
          }
         }
        },
        "title": {
         "text": "Normal QQ-Plot"
        },
        "xaxis": {
         "title": {
          "text": "Theoretical Quantiles"
         }
        },
        "yaxis": {
         "title": {
          "text": "Standardized Residuals"
         }
        }
       },
       "_py2js_addTraces": {},
       "_py2js_animate": {},
       "_py2js_deleteTraces": {},
       "_py2js_moveTraces": {},
       "_py2js_relayout": {},
       "_py2js_removeLayoutProps": {},
       "_py2js_removeTraceProps": {},
       "_py2js_restyle": {},
       "_py2js_update": {},
       "_view_count": 0
      }
     },
     "0c24183936de401ab9f626708812b10f": {
      "model_module": "@jupyter-widgets/controls",
      "model_module_version": "1.5.0",
      "model_name": "DescriptionStyleModel",
      "state": {
       "description_width": ""
      }
     },
     "0c2b5a966ad94cab937f77731f10e466": {
      "model_module": "@jupyter-widgets/controls",
      "model_module_version": "1.5.0",
      "model_name": "DescriptionStyleModel",
      "state": {
       "description_width": ""
      }
     },
     "0ce84b70b4854f94ab80897969217ea8": {
      "model_module": "@jupyter-widgets/controls",
      "model_module_version": "1.5.0",
      "model_name": "DescriptionStyleModel",
      "state": {
       "description_width": ""
      }
     },
     "0d8f87df62e24353aa825f507469f62f": {
      "model_module": "@jupyter-widgets/controls",
      "model_module_version": "1.5.0",
      "model_name": "ToggleButtonsStyleModel",
      "state": {
       "button_width": "",
       "description_width": ""
      }
     },
     "0db5d27635174c60a875a083e5c2fbe8": {
      "model_module": "@jupyter-widgets/controls",
      "model_module_version": "1.5.0",
      "model_name": "HTMLModel",
      "state": {
       "layout": "IPY_MODEL_4e49f7f0cc62427aa1870a19d9d87c21",
       "style": "IPY_MODEL_d158d3a95ecf4c9d87471398fdb27925",
       "value": " 6/6 [00:06&lt;00:00,  1.08s/it]"
      }
     },
     "0eb05c80a1d04af49b0c5aa83e270e7d": {
      "model_module": "@jupyter-widgets/base",
      "model_module_version": "1.2.0",
      "model_name": "LayoutModel",
      "state": {}
     },
     "0f18f5b595704162b645bfc5063ebe4c": {
      "model_module": "@jupyter-widgets/controls",
      "model_module_version": "1.5.0",
      "model_name": "DescriptionStyleModel",
      "state": {
       "description_width": ""
      }
     },
     "0f33c9cd476b4454892ea779ca2d50d8": {
      "model_module": "@jupyter-widgets/controls",
      "model_module_version": "1.5.0",
      "model_name": "ProgressStyleModel",
      "state": {
       "description_width": ""
      }
     },
     "100e515dd0424fabbca7ce422e30d769": {
      "model_module": "@jupyter-widgets/controls",
      "model_module_version": "1.5.0",
      "model_name": "HTMLModel",
      "state": {
       "layout": "IPY_MODEL_4c2b12afae8542e2a9ef113746d0446c",
       "style": "IPY_MODEL_4adda5bff07743e991f4d1d69ff57a5b",
       "value": "Processing: 100%"
      }
     },
     "11b998bcc72e4028a27f3218c5bee699": {
      "model_module": "@jupyter-widgets/base",
      "model_module_version": "1.2.0",
      "model_name": "LayoutModel",
      "state": {
       "visibility": "hidden"
      }
     },
     "14620f4783b74fc7822f55ca9d656479": {
      "model_module": "@jupyter-widgets/controls",
      "model_module_version": "1.5.0",
      "model_name": "HTMLModel",
      "state": {
       "layout": "IPY_MODEL_8c110d92a3c04495b4dc8532fe1ec056",
       "style": "IPY_MODEL_39ab999c33eb40679ccf497d8cf17a5b",
       "value": " 89/89 [03:05&lt;00:00,  2.72s/it]"
      }
     },
     "14641befaf124882aa5c3d4e53f93ed1": {
      "model_module": "@jupyter-widgets/controls",
      "model_module_version": "1.5.0",
      "model_name": "ProgressStyleModel",
      "state": {
       "description_width": ""
      }
     },
     "146612bbbe184e26b995c87808e0f35d": {
      "model_module": "@jupyter-widgets/controls",
      "model_module_version": "1.5.0",
      "model_name": "FloatProgressModel",
      "state": {
       "layout": "IPY_MODEL_51718e7780c74c7e8eef6f2acf86d033",
       "max": 85,
       "style": "IPY_MODEL_9012329028bb4e119db32ebf9bb3bc2b",
       "value": 85
      }
     },
     "153be4a49fb74fc4820adec95109272a": {
      "model_module": "@jupyter-widgets/base",
      "model_module_version": "1.2.0",
      "model_name": "LayoutModel",
      "state": {}
     },
     "160564f0ba8841d59811452fb94622d0": {
      "model_module": "@jupyter-widgets/controls",
      "model_module_version": "1.5.0",
      "model_name": "FloatProgressModel",
      "state": {
       "layout": "IPY_MODEL_fa06e2e4d3484800a524ef62917a4afc",
       "max": 6,
       "style": "IPY_MODEL_5dad87ac3c5847a685a6d58f50b98a73",
       "value": 6
      }
     },
     "1652303c646d400a9ad8d54d25478a1f": {
      "model_module": "@jupyter-widgets/base",
      "model_module_version": "1.2.0",
      "model_name": "LayoutModel",
      "state": {}
     },
     "16ebaed49622468a9826fa8612c8df23": {
      "model_module": "@jupyter-widgets/base",
      "model_module_version": "1.2.0",
      "model_name": "LayoutModel",
      "state": {}
     },
     "1827fac22c254568a31caf7f68c5b13f": {
      "model_module": "@jupyter-widgets/base",
      "model_module_version": "1.2.0",
      "model_name": "LayoutModel",
      "state": {}
     },
     "18db9d98b3f34bcd85f0138ffce633c6": {
      "model_module": "@jupyter-widgets/base",
      "model_module_version": "1.2.0",
      "model_name": "LayoutModel",
      "state": {}
     },
     "1920ee2bd1194866a5558eaa0cb63584": {
      "model_module": "@jupyter-widgets/base",
      "model_module_version": "1.2.0",
      "model_name": "LayoutModel",
      "state": {}
     },
     "1a39439a2ec8402aa4e7125e54ac4e69": {
      "model_module": "@jupyter-widgets/base",
      "model_module_version": "1.2.0",
      "model_name": "LayoutModel",
      "state": {}
     },
     "1aa56e84f2f64a45b6fb262716e5fb21": {
      "model_module": "@jupyter-widgets/controls",
      "model_module_version": "1.5.0",
      "model_name": "DescriptionStyleModel",
      "state": {
       "description_width": ""
      }
     },
     "1d5555b43b264470ad2e94183ee31b53": {
      "model_module": "@jupyter-widgets/controls",
      "model_module_version": "1.5.0",
      "model_name": "DescriptionStyleModel",
      "state": {
       "description_width": ""
      }
     },
     "1e86e80f85264e5c8f55134b025dbe2f": {
      "model_module": "@jupyter-widgets/controls",
      "model_module_version": "1.5.0",
      "model_name": "ToggleButtonsModel",
      "state": {
       "_options_labels": [
        "Pipeline Plot",
        "Hyperparameters",
        "Residuals",
        "Prediction Error",
        "Cooks Distance",
        "Feature Selection",
        "Learning Curve",
        "Manifold Learning",
        "Validation Curve",
        "Feature Importance",
        "Feature Importance (All)",
        "Decision Tree",
        "Interactive Residuals"
       ],
       "button_style": "",
       "description": "Plot Type:",
       "icons": [
        ""
       ],
       "index": 8,
       "layout": "IPY_MODEL_86e9e7fe0e3f4bcda336f000b0170683",
       "style": "IPY_MODEL_767e995d3afd438aa4240b383e910006",
       "tooltips": []
      }
     },
     "1ee76517ffeb45ea99de63a234b67577": {
      "model_module": "@jupyter-widgets/base",
      "model_module_version": "1.2.0",
      "model_name": "LayoutModel",
      "state": {}
     },
     "211f1ffc57db43aa9f0b1144b056f3cc": {
      "model_module": "@jupyter-widgets/controls",
      "model_module_version": "1.5.0",
      "model_name": "FloatProgressModel",
      "state": {
       "layout": "IPY_MODEL_16ebaed49622468a9826fa8612c8df23",
       "max": 7,
       "style": "IPY_MODEL_74505ed6857847c098ca5807ce6c3bf9",
       "value": 7
      }
     },
     "21bdca55ad1b484097a9d7f991045a25": {
      "model_module": "@jupyter-widgets/base",
      "model_module_version": "1.2.0",
      "model_name": "LayoutModel",
      "state": {}
     },
     "243b515866ff4d479fb25354c533e0da": {
      "model_module": "@jupyter-widgets/controls",
      "model_module_version": "1.5.0",
      "model_name": "ProgressStyleModel",
      "state": {
       "description_width": ""
      }
     },
     "25f02e16c46c4c61b9318e124184bd2d": {
      "model_module": "@jupyter-widgets/controls",
      "model_module_version": "1.5.0",
      "model_name": "FloatProgressModel",
      "state": {
       "layout": "IPY_MODEL_21bdca55ad1b484097a9d7f991045a25",
       "max": 6,
       "style": "IPY_MODEL_475348c0205b498f985e531324eac46e",
       "value": 6
      }
     },
     "263bfa0d7dc54003aa4f19ca15638ab5": {
      "model_module": "@jupyter-widgets/controls",
      "model_module_version": "1.5.0",
      "model_name": "ProgressStyleModel",
      "state": {
       "description_width": ""
      }
     },
     "268ac736545c44f69fa669ba31082ee3": {
      "model_module": "@jupyter-widgets/controls",
      "model_module_version": "1.5.0",
      "model_name": "HTMLModel",
      "state": {
       "layout": "IPY_MODEL_b3e9a52c1f764d75aa26df9f8f051e26",
       "style": "IPY_MODEL_42dd41790e3a4a01ba4ae583c4aaebd0",
       "value": " 6/6 [00:18&lt;00:00,  2.91s/it]"
      }
     },
     "282e3101df3f4908b06aca300202d455": {
      "model_module": "@jupyter-widgets/controls",
      "model_module_version": "1.5.0",
      "model_name": "DescriptionStyleModel",
      "state": {
       "description_width": ""
      }
     },
     "2889e45b8bf943adb9c4036aa65f3b6c": {
      "model_module": "@jupyter-widgets/controls",
      "model_module_version": "1.5.0",
      "model_name": "DescriptionStyleModel",
      "state": {
       "description_width": ""
      }
     },
     "288ddb60d80f430797c815593d67a017": {
      "model_module": "@jupyter-widgets/base",
      "model_module_version": "1.2.0",
      "model_name": "LayoutModel",
      "state": {}
     },
     "2b6beb38a05f405c8b41ce3d7a7a5cfa": {
      "model_module": "@jupyter-widgets/controls",
      "model_module_version": "1.5.0",
      "model_name": "DescriptionStyleModel",
      "state": {
       "description_width": ""
      }
     },
     "2b9b0cac7bae48ae9afa51f5d191e15f": {
      "model_module": "@jupyter-widgets/controls",
      "model_module_version": "1.5.0",
      "model_name": "DescriptionStyleModel",
      "state": {
       "description_width": ""
      }
     },
     "2c5069d9a0504d78a8535dba9ec75bb5": {
      "model_module": "@jupyter-widgets/base",
      "model_module_version": "1.2.0",
      "model_name": "LayoutModel",
      "state": {}
     },
     "2c5b7ea175724f558ada2b32e53084b8": {
      "model_module": "@jupyter-widgets/base",
      "model_module_version": "1.2.0",
      "model_name": "LayoutModel",
      "state": {}
     },
     "2d2df01de0a5429b81828cabb83ca042": {
      "model_module": "@jupyter-widgets/base",
      "model_module_version": "1.2.0",
      "model_name": "LayoutModel",
      "state": {
       "visibility": "hidden"
      }
     },
     "2db2dbbb249c48518740ce41c67db992": {
      "model_module": "@jupyter-widgets/controls",
      "model_module_version": "1.5.0",
      "model_name": "FloatProgressModel",
      "state": {
       "layout": "IPY_MODEL_024795e9a8ea4b66a0bb991c297466d7",
       "max": 6,
       "style": "IPY_MODEL_8275fe6831ef4fc994fcf8c421699227",
       "value": 6
      }
     },
     "2dbace9dd81e4db29a3a481e996ddfaa": {
      "model_module": "@jupyter-widgets/base",
      "model_module_version": "1.2.0",
      "model_name": "LayoutModel",
      "state": {}
     },
     "2eeeff1fb77c40c99ab4f917e97b7024": {
      "model_module": "@jupyter-widgets/controls",
      "model_module_version": "1.5.0",
      "model_name": "HTMLModel",
      "state": {
       "layout": "IPY_MODEL_b16ecd1509f54f4ebcbabe95a9248f6b",
       "style": "IPY_MODEL_beb2021e9c1144c3aba5b111757544af",
       "value": "Processing: 100%"
      }
     },
     "2fb086b58e6e4ee39f27c80f65367ffb": {
      "model_module": "@jupyter-widgets/base",
      "model_module_version": "1.2.0",
      "model_name": "LayoutModel",
      "state": {}
     },
     "32ddf8402980432d9380c5fae435d384": {
      "model_module": "@jupyter-widgets/base",
      "model_module_version": "1.2.0",
      "model_name": "LayoutModel",
      "state": {}
     },
     "34d9ba0bfb5f48b69818a267d2ebfccd": {
      "model_module": "@jupyter-widgets/base",
      "model_module_version": "1.2.0",
      "model_name": "LayoutModel",
      "state": {}
     },
     "34f5c3fb79684e9698828f9b98648bde": {
      "model_module": "@jupyter-widgets/controls",
      "model_module_version": "1.5.0",
      "model_name": "HTMLModel",
      "state": {
       "layout": "IPY_MODEL_2dbace9dd81e4db29a3a481e996ddfaa",
       "style": "IPY_MODEL_755c6d95c9f04490b9326411a0694628",
       "value": "Processing: 100%"
      }
     },
     "36d5a108b25c4b71a871ea644d937134": {
      "model_module": "@jupyter-widgets/controls",
      "model_module_version": "1.5.0",
      "model_name": "DescriptionStyleModel",
      "state": {
       "description_width": ""
      }
     },
     "36d78acfc41746ec98f8bffeb6ba1419": {
      "model_module": "@jupyter-widgets/controls",
      "model_module_version": "1.5.0",
      "model_name": "HTMLModel",
      "state": {
       "layout": "IPY_MODEL_34d9ba0bfb5f48b69818a267d2ebfccd",
       "style": "IPY_MODEL_fe80231306204679ac5c8421721bc3d8",
       "value": "Processing:   5%"
      }
     },
     "398d6720cb534412a7db9f85667a796d": {
      "model_module": "@jupyter-widgets/controls",
      "model_module_version": "1.5.0",
      "model_name": "HTMLModel",
      "state": {
       "layout": "IPY_MODEL_0bdac81cdc6a417ca62bd88bab5c071e",
       "style": "IPY_MODEL_c4eeab1f988f429193f6c4a245e8514c",
       "value": "Processing: 100%"
      }
     },
     "399377e54db1404b9486795c3c9485ba": {
      "model_module": "@jupyter-widgets/base",
      "model_module_version": "1.2.0",
      "model_name": "LayoutModel",
      "state": {}
     },
     "39ab999c33eb40679ccf497d8cf17a5b": {
      "model_module": "@jupyter-widgets/controls",
      "model_module_version": "1.5.0",
      "model_name": "DescriptionStyleModel",
      "state": {
       "description_width": ""
      }
     },
     "3a05521b4b0b4967892fd83f06ff6518": {
      "model_module": "@jupyter-widgets/base",
      "model_module_version": "1.2.0",
      "model_name": "LayoutModel",
      "state": {
       "visibility": "hidden"
      }
     },
     "3b2ca56b37df4158843f76bd834dca27": {
      "buffers": [
       {
        "data": "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",
        "encoding": "base64",
        "path": [
         "_data",
         0,
         "x",
         "value"
        ]
       },
       {
        "data": "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",
        "encoding": "base64",
        "path": [
         "_data",
         0,
         "y",
         "value"
        ]
       },
       {
        "data": "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",
        "encoding": "base64",
        "path": [
         "_data",
         1,
         "x",
         "value"
        ]
       },
       {
        "data": "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",
        "encoding": "base64",
        "path": [
         "_data",
         1,
         "y",
         "value"
        ]
       },
       {
        "data": "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",
        "encoding": "base64",
        "path": [
         "_data",
         2,
         "x",
         "value"
        ]
       },
       {
        "data": "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",
        "encoding": "base64",
        "path": [
         "_data",
         2,
         "y",
         "value"
        ]
       },
       {
        "data": "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",
        "encoding": "base64",
        "path": [
         "_data",
         3,
         "x",
         "value"
        ]
       },
       {
        "data": "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",
        "encoding": "base64",
        "path": [
         "_data",
         3,
         "y",
         "value"
        ]
       },
       {
        "data": "/Knx0k1iUD8Qwv8LMOCVP8A0aJ0dXaU/eIjQNCPKrz8YbhxmlBu1P/SX0DEXUro/0MGE/ZmIvz/WdZxkjl/CP8SKdsrP+sQ/sp9QMBGWxz+gtCqWUjHKP47JBPyTzMw/fN7eYdVnzz+1edxjiwHRPyyEyRYsT9I/o462ycyc0z8amaN8berUP5GjkC8OONY/CK594q6F1z9/uGqVT9PYP/bCV0jwINo/bc1E+5Bu2z/k1zGuMbzcP1viHmHSCd4/0uwLFHNX3z+le3zjiVLgP+AA8zxa+eA/G4Zpliqg4T9XC+Dv+kbiP5OQVknL7eI/zhXNopuU4z8Jm0P8azvkP0UgulU84uQ/gaUwrwyJ5T+8KqcI3S/mP/evHWKt1uY/MzWUu3195z9vugoVTiToP6o/gW4ey+g/5cT3x+5x6T8hSm4hvxjqP13P5HqPv+o/mFRb1F9m6z/T2dEtMA3sPw9fSIcAtOw/S+S+4NBa7T+GaTU6oQHuP8Huq5NxqO4//XMi7UFP7z85+ZhGEvbvPw==",
        "encoding": "base64",
        "path": [
         "_data",
         4,
         "x",
         "value"
        ]
       },
       {
        "data": "47xmZcqjVUDZl0jFJokyQJBFMlqTPypALNbPNbdJJUC70yr9gEUiQAyQ5F0HLiBArWUP2gc6HUCcFEl1FMIaQO34VxrKvRhANukORGMMF0DtCMrKypgVQNhvMiO8VBRAmuaGBCo2E0DJ9JgpwzUSQOTIIz4OThFAFm/phdp6EECpsVG9xHEPQKAqXqQYCw5AhbMVH3+9DEAlb34sioULQMisI9FiYApAtTb3NKhLCUCWYXj6VkUIQKU5KXW2SwdA8MZBIkpdBkCKFpJCxngFQC1scscGnQRAAbP1/AfJA0BOx0SC4PsCQIUFvzu8NAJAnh7K/NdyAUC+rV6zfbUAQP/VVc0B+P8/DPVsunaL/j++FYF7EyT9Pz40pO+PwPs/QtulZ5pf+j+Jf17lzf/4P3FSrreln/c/SsSG4Gw99j/YzT+vJtf0P2su5BNsavM/YKX4bTX08T9hvP6bgHDwP9uM9v5gs+0/buRRXKVO6j/hGQdBx5bmP9hTxqvVVeI/9IoYe+IG2j+eylpzD2y4Pw==",
        "encoding": "base64",
        "path": [
         "_data",
         4,
         "y",
         "value"
        ]
       },
       {
        "data": "/Knx0k1iUD8Qwv8LMOCVP8A0aJ0dXaU/eIjQNCPKrz8YbhxmlBu1P/SX0DEXUro/0MGE/ZmIvz/WdZxkjl/CP8SKdsrP+sQ/sp9QMBGWxz+gtCqWUjHKP47JBPyTzMw/fN7eYdVnzz+1edxjiwHRPyyEyRYsT9I/o462ycyc0z8amaN8berUP5GjkC8OONY/CK594q6F1z9/uGqVT9PYP/bCV0jwINo/bc1E+5Bu2z/k1zGuMbzcP1viHmHSCd4/0uwLFHNX3z+le3zjiVLgP+AA8zxa+eA/G4Zpliqg4T9XC+Dv+kbiP5OQVknL7eI/zhXNopuU4z8Jm0P8azvkP0UgulU84uQ/gaUwrwyJ5T+8KqcI3S/mP/evHWKt1uY/MzWUu3195z9vugoVTiToP6o/gW4ey+g/5cT3x+5x6T8hSm4hvxjqP13P5HqPv+o/mFRb1F9m6z/T2dEtMA3sPw9fSIcAtOw/S+S+4NBa7T+GaTU6oQHuP8Huq5NxqO4//XMi7UFP7z85+ZhGEvbvPw==",
        "encoding": "base64",
        "path": [
         "_data",
         5,
         "x",
         "value"
        ]
       },
       {
        "data": "47xmZcqjVcDZl0jFJokywJBFMlqTPyrALNbPNbdJJcC70yr9gEUiwAyQ5F0HLiDArWUP2gc6HcCcFEl1FMIawO34VxrKvRjANukORGMMF8DtCMrKypgVwNhvMiO8VBTAmuaGBCo2E8DJ9JgpwzUSwOTIIz4OThHAFm/phdp6EMCpsVG9xHEPwKAqXqQYCw7AhbMVH3+9DMAlb34sioULwMisI9FiYArAtTb3NKhLCcCWYXj6VkUIwKU5KXW2SwfA8MZBIkpdBsCKFpJCxngFwC1scscGnQTAAbP1/AfJA8BOx0SC4PsCwIUFvzu8NALAnh7K/NdyAcC+rV6zfbUAwP/VVc0B+P+/DPVsunaL/r++FYF7EyT9vz40pO+PwPu/QtulZ5pf+r+Jf17lzf/4v3FSrreln/e/SsSG4Gw99r/YzT+vJtf0v2su5BNsavO/YKX4bTX08b9hvP6bgHDwv9uM9v5gs+2/buRRXKVO6r/hGQdBx5bmv9hTxqvVVeK/9IoYe+IG2r+eylpzD2y4vw==",
        "encoding": "base64",
        "path": [
         "_data",
         5,
         "y",
         "value"
        ]
       },
       {
        "data": "/Knx0k1iUD8Qwv8LMOCVP8A0aJ0dXaU/eIjQNCPKrz8YbhxmlBu1P/SX0DEXUro/0MGE/ZmIvz/WdZxkjl/CP8SKdsrP+sQ/sp9QMBGWxz+gtCqWUjHKP47JBPyTzMw/fN7eYdVnzz+1edxjiwHRPyyEyRYsT9I/o462ycyc0z8amaN8berUP5GjkC8OONY/CK594q6F1z9/uGqVT9PYP/bCV0jwINo/bc1E+5Bu2z/k1zGuMbzcP1viHmHSCd4/0uwLFHNX3z+le3zjiVLgP+AA8zxa+eA/G4Zpliqg4T9XC+Dv+kbiP5OQVknL7eI/zhXNopuU4z8Jm0P8azvkP0UgulU84uQ/gaUwrwyJ5T+8KqcI3S/mP/evHWKt1uY/MzWUu3195z9vugoVTiToP6o/gW4ey+g/5cT3x+5x6T8hSm4hvxjqP13P5HqPv+o/mFRb1F9m6z/T2dEtMA3sPw9fSIcAtOw/S+S+4NBa7T+GaTU6oQHuP8Huq5NxqO4//XMi7UFP7z85+ZhGEvbvPw==",
        "encoding": "base64",
        "path": [
         "_data",
         6,
         "x",
         "value"
        ]
       },
       {
        "data": "rC9yb3KaXkD6PxVUqDY6QJQbwBx1jzJA5FBo0g8bLkC2tWRJ/dYpQKsL9Ji24SZAg9VQOZiqJEAjtObqvOsiQLxo9VyqfiFAkssbRjRMIEB4De6R5IoeQKsJxVCbwBxAYcBXnFUrG0DgD2FAusAZQL52hnULeRhASj8cKFxOF0DD0k3ACzwWQG4SOyNtPhVAYUysJIlSFEAdtvbs8nUTQJc8Qm6ophJA5AoHJPviEUB8FzKjfikRQNf9SFH7eBBARabxPMigD0APFFXsnF0OQCm1t6jXJg1AqDmhKwn7C0Cz9Rpp59gKQGvi32lGvwlATZFRKRKtCEBWDecqSaEHQOg3HIX3mgZAwT4/JDKZBUDpUckFEpsEQA7rGSSvnwNAqTzMtxqmAkDqMkdSWK0BQC9JyxpVtABAiSuKIrhz/z/ui+8FC3n9P1rEbAs9dfs/8NEUTAVk+T8lKdycuD/3Pw4ZFZlmAPU/tqbZIh2a8j84hJhjFfLvP9Ry+akV7uk/5gdk9l5n4j+SBlXQ30TBPw==",
        "encoding": "base64",
        "path": [
         "_data",
         6,
         "y",
         "value"
        ]
       },
       {
        "data": "/Knx0k1iUD8Qwv8LMOCVP8A0aJ0dXaU/eIjQNCPKrz8YbhxmlBu1P/SX0DEXUro/0MGE/ZmIvz/WdZxkjl/CP8SKdsrP+sQ/sp9QMBGWxz+gtCqWUjHKP47JBPyTzMw/fN7eYdVnzz+1edxjiwHRPyyEyRYsT9I/o462ycyc0z8amaN8berUP5GjkC8OONY/CK594q6F1z9/uGqVT9PYP/bCV0jwINo/bc1E+5Bu2z/k1zGuMbzcP1viHmHSCd4/0uwLFHNX3z+le3zjiVLgP+AA8zxa+eA/G4Zpliqg4T9XC+Dv+kbiP5OQVknL7eI/zhXNopuU4z8Jm0P8azvkP0UgulU84uQ/gaUwrwyJ5T+8KqcI3S/mP/evHWKt1uY/MzWUu3195z9vugoVTiToP6o/gW4ey+g/5cT3x+5x6T8hSm4hvxjqP13P5HqPv+o/mFRb1F9m6z/T2dEtMA3sPw9fSIcAtOw/S+S+4NBa7T+GaTU6oQHuP8Huq5NxqO4//XMi7UFP7z85+ZhGEvbvPw==",
        "encoding": "base64",
        "path": [
         "_data",
         7,
         "x",
         "value"
        ]
       },
       {
        "data": "rC9yb3KaXsD6PxVUqDY6wJQbwBx1jzLA5FBo0g8bLsC2tWRJ/dYpwKsL9Ji24SbAg9VQOZiqJMAjtObqvOsiwLxo9VyqfiHAkssbRjRMIMB4De6R5IoewKsJxVCbwBzAYcBXnFUrG8DgD2FAusAZwL52hnULeRjASj8cKFxOF8DD0k3ACzwWwG4SOyNtPhXAYUysJIlSFMAdtvbs8nUTwJc8Qm6ophLA5AoHJPviEcB8FzKjfikRwNf9SFH7eBDARabxPMigD8APFFXsnF0OwCm1t6jXJg3AqDmhKwn7C8Cz9Rpp59gKwGvi32lGvwnATZFRKRKtCMBWDecqSaEHwOg3HIX3mgbAwT4/JDKZBcDpUckFEpsEwA7rGSSvnwPAqTzMtxqmAsDqMkdSWK0BwC9JyxpVtADAiSuKIrhz/7/ui+8FC3n9v1rEbAs9dfu/8NEUTAVk+b8lKdycuD/3vw4ZFZlmAPW/tqbZIh2a8r84hJhjFfLvv9Ry+akV7um/5gdk9l5n4r+SBlXQ30TBvw==",
        "encoding": "base64",
        "path": [
         "_data",
         7,
         "y",
         "value"
        ]
       }
      ],
      "model_module": "jupyterlab-plotly",
      "model_module_version": "^5.9.0",
      "model_name": "FigureModel",
      "state": {
       "_config": {
        "plotlyServerURL": "https://plot.ly"
       },
       "_data": [
        {
         "hovertemplate": "Split=train<br>Leverage=%{x}<br>Standardized Residuals=%{y}<extra></extra>",
         "legendgroup": "train",
         "marker": {
          "color": "blue",
          "opacity": 0.3,
          "symbol": "circle"
         },
         "mode": "markers",
         "name": "train",
         "showlegend": true,
         "type": "scattergl",
         "uid": "e350555e-9892-4572-a8a0-d42caf231e69",
         "x": {
          "dtype": "float64",
          "shape": [
           1021
          ]
         },
         "xaxis": "x",
         "y": {
          "dtype": "float64",
          "shape": [
           1021
          ]
         },
         "yaxis": "y"
        },
        {
         "hovertemplate": "<b>LOWESS trendline</b><br><br>Split=train<br>Leverage=%{x}<br>Standardized Residuals=%{y} <b>(trend)</b><extra></extra>",
         "legendgroup": "train",
         "marker": {
          "color": "blue",
          "symbol": "circle"
         },
         "mode": "lines",
         "name": "train",
         "showlegend": false,
         "type": "scattergl",
         "uid": "92eb73b5-1bfd-4216-b978-90893a94114f",
         "x": {
          "dtype": "float64",
          "shape": [
           1021
          ]
         },
         "xaxis": "x",
         "y": {
          "dtype": "float64",
          "shape": [
           1021
          ]
         },
         "yaxis": "y"
        },
        {
         "hovertemplate": "Split=test<br>Leverage=%{x}<br>Standardized Residuals=%{y}<extra></extra>",
         "legendgroup": "test",
         "marker": {
          "color": "green",
          "opacity": 0.3,
          "symbol": "circle"
         },
         "mode": "markers",
         "name": "test",
         "showlegend": true,
         "type": "scattergl",
         "uid": "29c198f2-62ec-44d6-94a6-a242033b45ff",
         "x": {
          "dtype": "float64",
          "shape": [
           439
          ]
         },
         "xaxis": "x",
         "y": {
          "dtype": "float64",
          "shape": [
           439
          ]
         },
         "yaxis": "y"
        },
        {
         "hovertemplate": "<b>LOWESS trendline</b><br><br>Split=test<br>Leverage=%{x}<br>Standardized Residuals=%{y} <b>(trend)</b><extra></extra>",
         "legendgroup": "test",
         "marker": {
          "color": "green",
          "symbol": "circle"
         },
         "mode": "lines",
         "name": "test",
         "showlegend": false,
         "type": "scattergl",
         "uid": "61295b0c-3d11-4b97-8ce0-c1241c00ac01",
         "x": {
          "dtype": "float64",
          "shape": [
           439
          ]
         },
         "xaxis": "x",
         "y": {
          "dtype": "float64",
          "shape": [
           439
          ]
         },
         "yaxis": "y"
        },
        {
         "line": {
          "color": "coral",
          "dash": "dash",
          "width": 2
         },
         "mode": "lines+text",
         "name": "Cook's distance = 0.5",
         "showlegend": false,
         "text": [
          "",
          "",
          "",
          "",
          "",
          "",
          "",
          "",
          "",
          "",
          "",
          "",
          "0.5",
          "",
          "",
          "",
          "",
          "",
          "",
          "",
          "",
          "",
          "",
          "",
          "",
          "",
          "",
          "",
          "",
          "",
          "",
          "",
          "",
          "",
          "",
          "",
          "0.5",
          "",
          "",
          "",
          "",
          "",
          "",
          "",
          "",
          "",
          "",
          "",
          "",
          ""
         ],
         "textposition": "bottom center",
         "type": "scatter",
         "uid": "fb701b64-cdee-4dab-a65d-9b448cdc4018",
         "x": {
          "dtype": "float64",
          "shape": [
           50
          ]
         },
         "y": {
          "dtype": "float64",
          "shape": [
           50
          ]
         }
        },
        {
         "line": {
          "color": "coral",
          "dash": "dash",
          "width": 2
         },
         "mode": "lines+text",
         "name": "Cook's distance = 0.5",
         "showlegend": false,
         "text": [
          "",
          "",
          "",
          "",
          "",
          "",
          "",
          "",
          "",
          "",
          "",
          "",
          "0.5",
          "",
          "",
          "",
          "",
          "",
          "",
          "",
          "",
          "",
          "",
          "",
          "",
          "",
          "",
          "",
          "",
          "",
          "",
          "",
          "",
          "",
          "",
          "",
          "0.5",
          "",
          "",
          "",
          "",
          "",
          "",
          "",
          "",
          "",
          "",
          "",
          "",
          ""
         ],
         "textposition": "top center",
         "type": "scatter",
         "uid": "5f234db7-6985-4c50-b292-a8859b6e44eb",
         "x": {
          "dtype": "float64",
          "shape": [
           50
          ]
         },
         "y": {
          "dtype": "float64",
          "shape": [
           50
          ]
         }
        },
        {
         "line": {
          "color": "firebrick",
          "dash": "dash",
          "width": 2
         },
         "mode": "lines+text",
         "name": "Cook's distance = 1",
         "showlegend": false,
         "text": [
          "",
          "",
          "",
          "",
          "",
          "",
          "",
          "",
          "",
          "",
          "",
          "",
          "1",
          "",
          "",
          "",
          "",
          "",
          "",
          "",
          "",
          "",
          "",
          "",
          "",
          "",
          "",
          "",
          "",
          "",
          "",
          "",
          "",
          "",
          "",
          "",
          "1",
          "",
          "",
          "",
          "",
          "",
          "",
          "",
          "",
          "",
          "",
          "",
          "",
          ""
         ],
         "textposition": "bottom center",
         "type": "scatter",
         "uid": "ef80ada9-9a54-4c62-b1d6-7c3a0e486a2a",
         "x": {
          "dtype": "float64",
          "shape": [
           50
          ]
         },
         "y": {
          "dtype": "float64",
          "shape": [
           50
          ]
         }
        },
        {
         "line": {
          "color": "firebrick",
          "dash": "dash",
          "width": 2
         },
         "mode": "lines+text",
         "name": "Cook's distance = 1",
         "showlegend": false,
         "text": [
          "",
          "",
          "",
          "",
          "",
          "",
          "",
          "",
          "",
          "",
          "",
          "",
          "1",
          "",
          "",
          "",
          "",
          "",
          "",
          "",
          "",
          "",
          "",
          "",
          "",
          "",
          "",
          "",
          "",
          "",
          "",
          "",
          "",
          "",
          "",
          "",
          "1",
          "",
          "",
          "",
          "",
          "",
          "",
          "",
          "",
          "",
          "",
          "",
          "",
          ""
         ],
         "textposition": "top center",
         "type": "scatter",
         "uid": "337ad098-64c1-473d-8fbf-cffd92cb6c0c",
         "x": {
          "dtype": "float64",
          "shape": [
           50
          ]
         },
         "y": {
          "dtype": "float64",
          "shape": [
           50
          ]
         }
        }
       ],
       "_js2py_pointsCallback": {},
       "_js2py_restyle": {},
       "_js2py_update": {},
       "_last_layout_edit_id": 1,
       "_layout": {
        "annotations": [
         {
          "arrowhead": 7,
          "ax": 0,
          "ay": -40,
          "showarrow": true,
          "text": "~r_1102",
          "x": 0.9981464869164152,
          "xref": "x",
          "y": 0.6159237764193957,
          "yref": "y"
         },
         {
          "arrowhead": 7,
          "ax": 0,
          "ay": -40,
          "showarrow": true,
          "text": "~r_348",
          "x": 0.3795191369225618,
          "xref": "x",
          "y": -14.828480329962986,
          "yref": "y"
         },
         {
          "arrowhead": 7,
          "ax": 0,
          "ay": -40,
          "showarrow": true,
          "text": "~r_218",
          "x": 0.638006250752918,
          "xref": "x",
          "y": -8.364959458949947,
          "yref": "y"
         }
        ],
        "autosize": true,
        "legend": {
         "title": {
          "text": "Split"
         },
         "tracegroupgap": 0
        },
        "showlegend": false,
        "template": {
         "data": {
          "bar": [
           {
            "error_x": {
             "color": "#2a3f5f"
            },
            "error_y": {
             "color": "#2a3f5f"
            },
            "marker": {
             "line": {
              "color": "#E5ECF6",
              "width": 0.5
             },
             "pattern": {
              "fillmode": "overlay",
              "size": 10,
              "solidity": 0.2
             }
            },
            "type": "bar"
           }
          ],
          "barpolar": [
           {
            "marker": {
             "line": {
              "color": "#E5ECF6",
              "width": 0.5
             },
             "pattern": {
              "fillmode": "overlay",
              "size": 10,
              "solidity": 0.2
             }
            },
            "type": "barpolar"
           }
          ],
          "carpet": [
           {
            "aaxis": {
             "endlinecolor": "#2a3f5f",
             "gridcolor": "white",
             "linecolor": "white",
             "minorgridcolor": "white",
             "startlinecolor": "#2a3f5f"
            },
            "baxis": {
             "endlinecolor": "#2a3f5f",
             "gridcolor": "white",
             "linecolor": "white",
             "minorgridcolor": "white",
             "startlinecolor": "#2a3f5f"
            },
            "type": "carpet"
           }
          ],
          "choropleth": [
           {
            "colorbar": {
             "outlinewidth": 0,
             "ticks": ""
            },
            "type": "choropleth"
           }
          ],
          "contour": [
           {
            "colorbar": {
             "outlinewidth": 0,
             "ticks": ""
            },
            "colorscale": [
             [
              0,
              "#0d0887"
             ],
             [
              0.1111111111111111,
              "#46039f"
             ],
             [
              0.2222222222222222,
              "#7201a8"
             ],
             [
              0.3333333333333333,
              "#9c179e"
             ],
             [
              0.4444444444444444,
              "#bd3786"
             ],
             [
              0.5555555555555556,
              "#d8576b"
             ],
             [
              0.6666666666666666,
              "#ed7953"
             ],
             [
              0.7777777777777778,
              "#fb9f3a"
             ],
             [
              0.8888888888888888,
              "#fdca26"
             ],
             [
              1,
              "#f0f921"
             ]
            ],
            "type": "contour"
           }
          ],
          "contourcarpet": [
           {
            "colorbar": {
             "outlinewidth": 0,
             "ticks": ""
            },
            "type": "contourcarpet"
           }
          ],
          "heatmap": [
           {
            "colorbar": {
             "outlinewidth": 0,
             "ticks": ""
            },
            "colorscale": [
             [
              0,
              "#0d0887"
             ],
             [
              0.1111111111111111,
              "#46039f"
             ],
             [
              0.2222222222222222,
              "#7201a8"
             ],
             [
              0.3333333333333333,
              "#9c179e"
             ],
             [
              0.4444444444444444,
              "#bd3786"
             ],
             [
              0.5555555555555556,
              "#d8576b"
             ],
             [
              0.6666666666666666,
              "#ed7953"
             ],
             [
              0.7777777777777778,
              "#fb9f3a"
             ],
             [
              0.8888888888888888,
              "#fdca26"
             ],
             [
              1,
              "#f0f921"
             ]
            ],
            "type": "heatmap"
           }
          ],
          "heatmapgl": [
           {
            "colorbar": {
             "outlinewidth": 0,
             "ticks": ""
            },
            "colorscale": [
             [
              0,
              "#0d0887"
             ],
             [
              0.1111111111111111,
              "#46039f"
             ],
             [
              0.2222222222222222,
              "#7201a8"
             ],
             [
              0.3333333333333333,
              "#9c179e"
             ],
             [
              0.4444444444444444,
              "#bd3786"
             ],
             [
              0.5555555555555556,
              "#d8576b"
             ],
             [
              0.6666666666666666,
              "#ed7953"
             ],
             [
              0.7777777777777778,
              "#fb9f3a"
             ],
             [
              0.8888888888888888,
              "#fdca26"
             ],
             [
              1,
              "#f0f921"
             ]
            ],
            "type": "heatmapgl"
           }
          ],
          "histogram": [
           {
            "marker": {
             "pattern": {
              "fillmode": "overlay",
              "size": 10,
              "solidity": 0.2
             }
            },
            "type": "histogram"
           }
          ],
          "histogram2d": [
           {
            "colorbar": {
             "outlinewidth": 0,
             "ticks": ""
            },
            "colorscale": [
             [
              0,
              "#0d0887"
             ],
             [
              0.1111111111111111,
              "#46039f"
             ],
             [
              0.2222222222222222,
              "#7201a8"
             ],
             [
              0.3333333333333333,
              "#9c179e"
             ],
             [
              0.4444444444444444,
              "#bd3786"
             ],
             [
              0.5555555555555556,
              "#d8576b"
             ],
             [
              0.6666666666666666,
              "#ed7953"
             ],
             [
              0.7777777777777778,
              "#fb9f3a"
             ],
             [
              0.8888888888888888,
              "#fdca26"
             ],
             [
              1,
              "#f0f921"
             ]
            ],
            "type": "histogram2d"
           }
          ],
          "histogram2dcontour": [
           {
            "colorbar": {
             "outlinewidth": 0,
             "ticks": ""
            },
            "colorscale": [
             [
              0,
              "#0d0887"
             ],
             [
              0.1111111111111111,
              "#46039f"
             ],
             [
              0.2222222222222222,
              "#7201a8"
             ],
             [
              0.3333333333333333,
              "#9c179e"
             ],
             [
              0.4444444444444444,
              "#bd3786"
             ],
             [
              0.5555555555555556,
              "#d8576b"
             ],
             [
              0.6666666666666666,
              "#ed7953"
             ],
             [
              0.7777777777777778,
              "#fb9f3a"
             ],
             [
              0.8888888888888888,
              "#fdca26"
             ],
             [
              1,
              "#f0f921"
             ]
            ],
            "type": "histogram2dcontour"
           }
          ],
          "mesh3d": [
           {
            "colorbar": {
             "outlinewidth": 0,
             "ticks": ""
            },
            "type": "mesh3d"
           }
          ],
          "parcoords": [
           {
            "line": {
             "colorbar": {
              "outlinewidth": 0,
              "ticks": ""
             }
            },
            "type": "parcoords"
           }
          ],
          "pie": [
           {
            "automargin": true,
            "type": "pie"
           }
          ],
          "scatter": [
           {
            "fillpattern": {
             "fillmode": "overlay",
             "size": 10,
             "solidity": 0.2
            },
            "type": "scatter"
           }
          ],
          "scatter3d": [
           {
            "line": {
             "colorbar": {
              "outlinewidth": 0,
              "ticks": ""
             }
            },
            "marker": {
             "colorbar": {
              "outlinewidth": 0,
              "ticks": ""
             }
            },
            "type": "scatter3d"
           }
          ],
          "scattercarpet": [
           {
            "marker": {
             "colorbar": {
              "outlinewidth": 0,
              "ticks": ""
             }
            },
            "type": "scattercarpet"
           }
          ],
          "scattergeo": [
           {
            "marker": {
             "colorbar": {
              "outlinewidth": 0,
              "ticks": ""
             }
            },
            "type": "scattergeo"
           }
          ],
          "scattergl": [
           {
            "marker": {
             "colorbar": {
              "outlinewidth": 0,
              "ticks": ""
             }
            },
            "type": "scattergl"
           }
          ],
          "scattermapbox": [
           {
            "marker": {
             "colorbar": {
              "outlinewidth": 0,
              "ticks": ""
             }
            },
            "type": "scattermapbox"
           }
          ],
          "scatterpolar": [
           {
            "marker": {
             "colorbar": {
              "outlinewidth": 0,
              "ticks": ""
             }
            },
            "type": "scatterpolar"
           }
          ],
          "scatterpolargl": [
           {
            "marker": {
             "colorbar": {
              "outlinewidth": 0,
              "ticks": ""
             }
            },
            "type": "scatterpolargl"
           }
          ],
          "scatterternary": [
           {
            "marker": {
             "colorbar": {
              "outlinewidth": 0,
              "ticks": ""
             }
            },
            "type": "scatterternary"
           }
          ],
          "surface": [
           {
            "colorbar": {
             "outlinewidth": 0,
             "ticks": ""
            },
            "colorscale": [
             [
              0,
              "#0d0887"
             ],
             [
              0.1111111111111111,
              "#46039f"
             ],
             [
              0.2222222222222222,
              "#7201a8"
             ],
             [
              0.3333333333333333,
              "#9c179e"
             ],
             [
              0.4444444444444444,
              "#bd3786"
             ],
             [
              0.5555555555555556,
              "#d8576b"
             ],
             [
              0.6666666666666666,
              "#ed7953"
             ],
             [
              0.7777777777777778,
              "#fb9f3a"
             ],
             [
              0.8888888888888888,
              "#fdca26"
             ],
             [
              1,
              "#f0f921"
             ]
            ],
            "type": "surface"
           }
          ],
          "table": [
           {
            "cells": {
             "fill": {
              "color": "#EBF0F8"
             },
             "line": {
              "color": "white"
             }
            },
            "header": {
             "fill": {
              "color": "#C8D4E3"
             },
             "line": {
              "color": "white"
             }
            },
            "type": "table"
           }
          ]
         },
         "layout": {
          "annotationdefaults": {
           "arrowcolor": "#2a3f5f",
           "arrowhead": 0,
           "arrowwidth": 1
          },
          "autotypenumbers": "strict",
          "coloraxis": {
           "colorbar": {
            "outlinewidth": 0,
            "ticks": ""
           }
          },
          "colorscale": {
           "diverging": [
            [
             0,
             "#8e0152"
            ],
            [
             0.1,
             "#c51b7d"
            ],
            [
             0.2,
             "#de77ae"
            ],
            [
             0.3,
             "#f1b6da"
            ],
            [
             0.4,
             "#fde0ef"
            ],
            [
             0.5,
             "#f7f7f7"
            ],
            [
             0.6,
             "#e6f5d0"
            ],
            [
             0.7,
             "#b8e186"
            ],
            [
             0.8,
             "#7fbc41"
            ],
            [
             0.9,
             "#4d9221"
            ],
            [
             1,
             "#276419"
            ]
           ],
           "sequential": [
            [
             0,
             "#0d0887"
            ],
            [
             0.1111111111111111,
             "#46039f"
            ],
            [
             0.2222222222222222,
             "#7201a8"
            ],
            [
             0.3333333333333333,
             "#9c179e"
            ],
            [
             0.4444444444444444,
             "#bd3786"
            ],
            [
             0.5555555555555556,
             "#d8576b"
            ],
            [
             0.6666666666666666,
             "#ed7953"
            ],
            [
             0.7777777777777778,
             "#fb9f3a"
            ],
            [
             0.8888888888888888,
             "#fdca26"
            ],
            [
             1,
             "#f0f921"
            ]
           ],
           "sequentialminus": [
            [
             0,
             "#0d0887"
            ],
            [
             0.1111111111111111,
             "#46039f"
            ],
            [
             0.2222222222222222,
             "#7201a8"
            ],
            [
             0.3333333333333333,
             "#9c179e"
            ],
            [
             0.4444444444444444,
             "#bd3786"
            ],
            [
             0.5555555555555556,
             "#d8576b"
            ],
            [
             0.6666666666666666,
             "#ed7953"
            ],
            [
             0.7777777777777778,
             "#fb9f3a"
            ],
            [
             0.8888888888888888,
             "#fdca26"
            ],
            [
             1,
             "#f0f921"
            ]
           ]
          },
          "colorway": [
           "#636efa",
           "#EF553B",
           "#00cc96",
           "#ab63fa",
           "#FFA15A",
           "#19d3f3",
           "#FF6692",
           "#B6E880",
           "#FF97FF",
           "#FECB52"
          ],
          "font": {
           "color": "#2a3f5f"
          },
          "geo": {
           "bgcolor": "white",
           "lakecolor": "white",
           "landcolor": "#E5ECF6",
           "showlakes": true,
           "showland": true,
           "subunitcolor": "white"
          },
          "hoverlabel": {
           "align": "left"
          },
          "hovermode": "closest",
          "mapbox": {
           "style": "light"
          },
          "paper_bgcolor": "white",
          "plot_bgcolor": "#E5ECF6",
          "polar": {
           "angularaxis": {
            "gridcolor": "white",
            "linecolor": "white",
            "ticks": ""
           },
           "bgcolor": "#E5ECF6",
           "radialaxis": {
            "gridcolor": "white",
            "linecolor": "white",
            "ticks": ""
           }
          },
          "scene": {
           "xaxis": {
            "backgroundcolor": "#E5ECF6",
            "gridcolor": "white",
            "gridwidth": 2,
            "linecolor": "white",
            "showbackground": true,
            "ticks": "",
            "zerolinecolor": "white"
           },
           "yaxis": {
            "backgroundcolor": "#E5ECF6",
            "gridcolor": "white",
            "gridwidth": 2,
            "linecolor": "white",
            "showbackground": true,
            "ticks": "",
            "zerolinecolor": "white"
           },
           "zaxis": {
            "backgroundcolor": "#E5ECF6",
            "gridcolor": "white",
            "gridwidth": 2,
            "linecolor": "white",
            "showbackground": true,
            "ticks": "",
            "zerolinecolor": "white"
           }
          },
          "shapedefaults": {
           "line": {
            "color": "#2a3f5f"
           }
          },
          "ternary": {
           "aaxis": {
            "gridcolor": "white",
            "linecolor": "white",
            "ticks": ""
           },
           "baxis": {
            "gridcolor": "white",
            "linecolor": "white",
            "ticks": ""
           },
           "bgcolor": "#E5ECF6",
           "caxis": {
            "gridcolor": "white",
            "linecolor": "white",
            "ticks": ""
           }
          },
          "title": {
           "x": 0.05
          },
          "xaxis": {
           "automargin": true,
           "gridcolor": "white",
           "linecolor": "white",
           "ticks": "",
           "title": {
            "standoff": 15
           },
           "zerolinecolor": "white",
           "zerolinewidth": 2
          },
          "yaxis": {
           "automargin": true,
           "gridcolor": "white",
           "linecolor": "white",
           "ticks": "",
           "title": {
            "standoff": 15
           },
           "zerolinecolor": "white",
           "zerolinewidth": 2
          }
         }
        },
        "title": {
         "text": "Residuals vs Leverage"
        },
        "xaxis": {
         "anchor": "y",
         "domain": [
          0,
          1
         ],
         "range": [
          0,
          1.048727412014139
         ],
         "title": {
          "text": "Leverage"
         }
        },
        "yaxis": {
         "anchor": "x",
         "domain": [
          0,
          1
         ],
         "range": [
          -15.569904346461135,
          10.484900655920141
         ],
         "title": {
          "text": "Standardized Residuals"
         }
        }
       },
       "_py2js_addTraces": {},
       "_py2js_animate": {},
       "_py2js_deleteTraces": {},
       "_py2js_moveTraces": {},
       "_py2js_removeLayoutProps": {},
       "_py2js_removeTraceProps": {},
       "_py2js_restyle": {},
       "_py2js_update": {},
       "_view_count": 0
      }
     },
     "3b7072146bbe4d7590b35e3a5c2c7587": {
      "model_module": "@jupyter-widgets/base",
      "model_module_version": "1.2.0",
      "model_name": "LayoutModel",
      "state": {}
     },
     "3c16112f80b746ebb0544146e83ecc34": {
      "model_module": "@jupyter-widgets/controls",
      "model_module_version": "1.5.0",
      "model_name": "FloatProgressModel",
      "state": {
       "layout": "IPY_MODEL_1920ee2bd1194866a5558eaa0cb63584",
       "max": 7,
       "style": "IPY_MODEL_5e5d0efd470441fe8fbb25a2b7a088f5",
       "value": 7
      }
     },
     "3e1757ad5b804a1aa45c775226e88f19": {
      "model_module": "@jupyter-widgets/base",
      "model_module_version": "1.2.0",
      "model_name": "LayoutModel",
      "state": {}
     },
     "3f4ab3a8f0154bfdacb9a8eb8f4c2c4e": {
      "model_module": "@jupyter-widgets/controls",
      "model_module_version": "1.5.0",
      "model_name": "FloatProgressModel",
      "state": {
       "layout": "IPY_MODEL_e80ad70ec3924028b4b0bf4a253d550f",
       "max": 4,
       "style": "IPY_MODEL_94b0215e7e0e48d5800411a4bd60e824",
       "value": 4
      }
     },
     "42dd41790e3a4a01ba4ae583c4aaebd0": {
      "model_module": "@jupyter-widgets/controls",
      "model_module_version": "1.5.0",
      "model_name": "DescriptionStyleModel",
      "state": {
       "description_width": ""
      }
     },
     "43384dc67f554936a88b40cf12e05de0": {
      "model_module": "@jupyter-widgets/controls",
      "model_module_version": "1.5.0",
      "model_name": "FloatProgressModel",
      "state": {
       "layout": "IPY_MODEL_a8ecaa6dde244ad39290833b172a50dd",
       "max": 7,
       "style": "IPY_MODEL_ada04dda6e124146927fd48c04cb9288",
       "value": 7
      }
     },
     "43b644f19d8b451b83d4bdc8985047c7": {
      "model_module": "@jupyter-widgets/controls",
      "model_module_version": "1.5.0",
      "model_name": "DescriptionStyleModel",
      "state": {
       "description_width": ""
      }
     },
     "45ea5ee642f745809e781d56dd278530": {
      "model_module": "@jupyter-widgets/base",
      "model_module_version": "1.2.0",
      "model_name": "LayoutModel",
      "state": {}
     },
     "46685b02c6c247199bcf5882b6eecc3d": {
      "model_module": "@jupyter-widgets/controls",
      "model_module_version": "1.5.0",
      "model_name": "DescriptionStyleModel",
      "state": {
       "description_width": ""
      }
     },
     "46be1bf0b4844a8698dd74f0d6153276": {
      "model_module": "@jupyter-widgets/controls",
      "model_module_version": "1.5.0",
      "model_name": "HTMLModel",
      "state": {
       "layout": "IPY_MODEL_153be4a49fb74fc4820adec95109272a",
       "style": "IPY_MODEL_1d5555b43b264470ad2e94183ee31b53",
       "value": "Processing: 100%"
      }
     },
     "475348c0205b498f985e531324eac46e": {
      "model_module": "@jupyter-widgets/controls",
      "model_module_version": "1.5.0",
      "model_name": "ProgressStyleModel",
      "state": {
       "description_width": ""
      }
     },
     "481093cf9b8941d08bad76653cb78117": {
      "model_module": "@jupyter-widgets/controls",
      "model_module_version": "1.5.0",
      "model_name": "ProgressStyleModel",
      "state": {
       "description_width": ""
      }
     },
     "48e746c768304f94afa636324b23cdef": {
      "model_module": "@jupyter-widgets/base",
      "model_module_version": "1.2.0",
      "model_name": "LayoutModel",
      "state": {
       "visibility": "hidden"
      }
     },
     "49b44a0d67754e2292f8121cc701806d": {
      "model_module": "@jupyter-widgets/base",
      "model_module_version": "1.2.0",
      "model_name": "LayoutModel",
      "state": {}
     },
     "4adda5bff07743e991f4d1d69ff57a5b": {
      "model_module": "@jupyter-widgets/controls",
      "model_module_version": "1.5.0",
      "model_name": "DescriptionStyleModel",
      "state": {
       "description_width": ""
      }
     },
     "4c2b12afae8542e2a9ef113746d0446c": {
      "model_module": "@jupyter-widgets/base",
      "model_module_version": "1.2.0",
      "model_name": "LayoutModel",
      "state": {}
     },
     "4da26fff861b4f17bce3f46078d90949": {
      "model_module": "@jupyter-widgets/base",
      "model_module_version": "1.2.0",
      "model_name": "LayoutModel",
      "state": {}
     },
     "4dfec4f2ddc74aa1831afd6adfff88ba": {
      "model_module": "@jupyter-widgets/base",
      "model_module_version": "1.2.0",
      "model_name": "LayoutModel",
      "state": {}
     },
     "4e3baeca1db640319ab581862df8c94a": {
      "model_module": "@jupyter-widgets/base",
      "model_module_version": "1.2.0",
      "model_name": "LayoutModel",
      "state": {}
     },
     "4e49f7f0cc62427aa1870a19d9d87c21": {
      "model_module": "@jupyter-widgets/base",
      "model_module_version": "1.2.0",
      "model_name": "LayoutModel",
      "state": {}
     },
     "4ece7fd397634cb6a8edc12d8c83d1a7": {
      "model_module": "@jupyter-widgets/controls",
      "model_module_version": "1.5.0",
      "model_name": "HTMLModel",
      "state": {
       "layout": "IPY_MODEL_32ddf8402980432d9380c5fae435d384",
       "style": "IPY_MODEL_8a34d80295934eb99f575ef2c1c50b84",
       "value": " 7/7 [00:34&lt;00:00,  4.09s/it]"
      }
     },
     "51718e7780c74c7e8eef6f2acf86d033": {
      "model_module": "@jupyter-widgets/base",
      "model_module_version": "1.2.0",
      "model_name": "LayoutModel",
      "state": {}
     },
     "54e2234e379f4dec9e2d2e0e72ee891e": {
      "model_module": "@jupyter-widgets/controls",
      "model_module_version": "1.5.0",
      "model_name": "HTMLModel",
      "state": {
       "layout": "IPY_MODEL_288ddb60d80f430797c815593d67a017",
       "style": "IPY_MODEL_cc76ded81a1641dd862a587dd7872346",
       "value": " 7/7 [00:18&lt;00:00,  2.22s/it]"
      }
     },
     "55ef3026ffb24264a250805f6011a827": {
      "model_module": "@jupyter-widgets/base",
      "model_module_version": "1.2.0",
      "model_name": "LayoutModel",
      "state": {
       "visibility": "hidden"
      }
     },
     "583e4a6d84824b979475efd11aee4f2e": {
      "model_module": "@jupyter-widgets/controls",
      "model_module_version": "1.5.0",
      "model_name": "FloatProgressModel",
      "state": {
       "layout": "IPY_MODEL_18db9d98b3f34bcd85f0138ffce633c6",
       "max": 85,
       "style": "IPY_MODEL_243b515866ff4d479fb25354c533e0da",
       "value": 85
      }
     },
     "5c81930fc87e4a1995aefee8a65b1e9d": {
      "model_module": "@jupyter-widgets/output",
      "model_module_version": "1.0.0",
      "model_name": "OutputModel",
      "state": {
       "layout": "IPY_MODEL_de5d396b0f944912a62a747a10bfb782",
       "outputs": [
        {
         "data": {
          "image/png": "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\n",
          "text/plain": "<Figure size 800x4500 with 1 Axes>"
         },
         "metadata": {},
         "output_type": "display_data"
        }
       ]
      }
     },
     "5dad87ac3c5847a685a6d58f50b98a73": {
      "model_module": "@jupyter-widgets/controls",
      "model_module_version": "1.5.0",
      "model_name": "ProgressStyleModel",
      "state": {
       "description_width": ""
      }
     },
     "5e5d0efd470441fe8fbb25a2b7a088f5": {
      "model_module": "@jupyter-widgets/controls",
      "model_module_version": "1.5.0",
      "model_name": "ProgressStyleModel",
      "state": {
       "description_width": ""
      }
     },
     "5ffeb20f70ac47299c7d4e3e41746d8f": {
      "model_module": "@jupyter-widgets/controls",
      "model_module_version": "1.5.0",
      "model_name": "ToggleButtonsModel",
      "state": {
       "_options_labels": [
        "Pipeline Plot",
        "Hyperparameters",
        "Residuals",
        "Prediction Error",
        "Cooks Distance",
        "Feature Selection",
        "Learning Curve",
        "Manifold Learning",
        "Validation Curve",
        "Feature Importance",
        "Feature Importance (All)",
        "Decision Tree",
        "Interactive Residuals"
       ],
       "button_style": "",
       "description": "Plot Type:",
       "icons": [
        ""
       ],
       "index": 0,
       "layout": "IPY_MODEL_1ee76517ffeb45ea99de63a234b67577",
       "style": "IPY_MODEL_0d8f87df62e24353aa825f507469f62f",
       "tooltips": []
      }
     },
     "607e4af34c6e4f52a6bd031888b19130": {
      "model_module": "@jupyter-widgets/controls",
      "model_module_version": "1.5.0",
      "model_name": "HTMLModel",
      "state": {
       "layout": "IPY_MODEL_d6187e7cb9094064b93a4b56ef4edfb4",
       "style": "IPY_MODEL_ba38c6edd8b34f7aacc34383d66ad256",
       "value": "Processing: 100%"
      }
     },
     "625c87d382bc44a6a0b620fe16d99fe8": {
      "model_module": "@jupyter-widgets/base",
      "model_module_version": "1.2.0",
      "model_name": "LayoutModel",
      "state": {}
     },
     "63021d369d7a4a0e9151380c7aa1d62f": {
      "model_module": "@jupyter-widgets/base",
      "model_module_version": "1.2.0",
      "model_name": "LayoutModel",
      "state": {
       "visibility": "hidden"
      }
     },
     "64aeb5bd75a943a2bc588d9498d5f774": {
      "model_module": "@jupyter-widgets/base",
      "model_module_version": "1.2.0",
      "model_name": "LayoutModel",
      "state": {
       "visibility": "hidden"
      }
     },
     "64ecd7bb6e5a4f57a32efa8eabdb9a5c": {
      "model_module": "@jupyter-widgets/controls",
      "model_module_version": "1.5.0",
      "model_name": "DescriptionStyleModel",
      "state": {
       "description_width": ""
      }
     },
     "6b6eedadac3b4c74812b21713b31abe6": {
      "model_module": "@jupyter-widgets/base",
      "model_module_version": "1.2.0",
      "model_name": "LayoutModel",
      "state": {
       "visibility": "hidden"
      }
     },
     "6ccd2beb89094ab9adaafb83272e881b": {
      "model_module": "@jupyter-widgets/controls",
      "model_module_version": "1.5.0",
      "model_name": "HTMLModel",
      "state": {
       "layout": "IPY_MODEL_0eb05c80a1d04af49b0c5aa83e270e7d",
       "style": "IPY_MODEL_64ecd7bb6e5a4f57a32efa8eabdb9a5c",
       "value": " 4/4 [00:07&lt;00:00,  1.79s/it]"
      }
     },
     "6d27000b78384080b57ee6b0a288a6c8": {
      "model_module": "@jupyter-widgets/base",
      "model_module_version": "1.2.0",
      "model_name": "LayoutModel",
      "state": {}
     },
     "6fb6a294a08c4e6c88bf182ba2a3e4cc": {
      "model_module": "@jupyter-widgets/base",
      "model_module_version": "1.2.0",
      "model_name": "LayoutModel",
      "state": {}
     },
     "726eadf4640249758e93a5221df25297": {
      "model_module": "@jupyter-widgets/base",
      "model_module_version": "1.2.0",
      "model_name": "LayoutModel",
      "state": {}
     },
     "7436aa165e284ce9bd881e4ed6188372": {
      "model_module": "@jupyter-widgets/base",
      "model_module_version": "1.2.0",
      "model_name": "LayoutModel",
      "state": {}
     },
     "743bc1e09a594c9398160d61d5845ca2": {
      "model_module": "@jupyter-widgets/base",
      "model_module_version": "1.2.0",
      "model_name": "LayoutModel",
      "state": {}
     },
     "74505ed6857847c098ca5807ce6c3bf9": {
      "model_module": "@jupyter-widgets/controls",
      "model_module_version": "1.5.0",
      "model_name": "ProgressStyleModel",
      "state": {
       "description_width": ""
      }
     },
     "755c6d95c9f04490b9326411a0694628": {
      "model_module": "@jupyter-widgets/controls",
      "model_module_version": "1.5.0",
      "model_name": "DescriptionStyleModel",
      "state": {
       "description_width": ""
      }
     },
     "7569d330e38043b6834ae7d998dcd2de": {
      "model_module": "@jupyter-widgets/controls",
      "model_module_version": "1.5.0",
      "model_name": "HTMLModel",
      "state": {
       "layout": "IPY_MODEL_e3399e63387e46fe9f3250757ab83e35",
       "style": "IPY_MODEL_2b9b0cac7bae48ae9afa51f5d191e15f",
       "value": " 4/85 [54:41&lt;18:27:32, 820.40s/it]"
      }
     },
     "767e995d3afd438aa4240b383e910006": {
      "model_module": "@jupyter-widgets/controls",
      "model_module_version": "1.5.0",
      "model_name": "ToggleButtonsStyleModel",
      "state": {
       "button_width": "",
       "description_width": ""
      }
     },
     "773d0fd293a9484782d6e4ec617eb22f": {
      "model_module": "@jupyter-widgets/controls",
      "model_module_version": "1.5.0",
      "model_name": "VBoxModel",
      "state": {
       "children": [
        "IPY_MODEL_9bdadc3ef26544b0a9c560a7765f2abb",
        "IPY_MODEL_fcc0932da1524eb7b642289dcb177d04"
       ],
       "layout": "IPY_MODEL_b53dc964f02f4072aa966c97cc315111"
      }
     },
     "7767d3ddba8a42748a66cb63935f34a9": {
      "model_module": "@jupyter-widgets/controls",
      "model_module_version": "1.5.0",
      "model_name": "HTMLModel",
      "state": {
       "layout": "IPY_MODEL_2c5069d9a0504d78a8535dba9ec75bb5",
       "style": "IPY_MODEL_ee91e139366a44ec8d3f082a74d3c127",
       "value": "Processing: 100%"
      }
     },
     "7970a515c54b42209f89d92c9ab822c6": {
      "model_module": "@jupyter-widgets/base",
      "model_module_version": "1.2.0",
      "model_name": "LayoutModel",
      "state": {
       "visibility": "hidden"
      }
     },
     "8275fe6831ef4fc994fcf8c421699227": {
      "model_module": "@jupyter-widgets/controls",
      "model_module_version": "1.5.0",
      "model_name": "ProgressStyleModel",
      "state": {
       "description_width": ""
      }
     },
     "840b0c7cda0449078f05e849d5446f0b": {
      "model_module": "@jupyter-widgets/controls",
      "model_module_version": "1.5.0",
      "model_name": "VBoxModel",
      "state": {
       "_dom_classes": [
        "widget-interact"
       ],
       "children": [
        "IPY_MODEL_0291f1b04de44b6896bd62b5181f5c0f",
        "IPY_MODEL_5c81930fc87e4a1995aefee8a65b1e9d"
       ],
       "layout": "IPY_MODEL_ba68f07c5878462ca7f7806eaa2c1273"
      }
     },
     "847535011d7c4951af5fac4545ab6192": {
      "model_module": "@jupyter-widgets/controls",
      "model_module_version": "1.5.0",
      "model_name": "HTMLModel",
      "state": {
       "layout": "IPY_MODEL_7436aa165e284ce9bd881e4ed6188372",
       "style": "IPY_MODEL_f436f74cc9f14c17a0418dbcf75fb396",
       "value": "Processing: 100%"
      }
     },
     "84b0f83449bd4e1786c93785f4518e38": {
      "model_module": "@jupyter-widgets/controls",
      "model_module_version": "1.5.0",
      "model_name": "FloatProgressModel",
      "state": {
       "layout": "IPY_MODEL_f0c3e031f5dd4032a02d67184ec08031",
       "max": 7,
       "style": "IPY_MODEL_867c95c7231940e09a0ebd8caaa28e7d",
       "value": 7
      }
     },
     "84ddc9382c3a449795644fad965028f8": {
      "model_module": "@jupyter-widgets/base",
      "model_module_version": "1.2.0",
      "model_name": "LayoutModel",
      "state": {
       "visibility": "hidden"
      }
     },
     "867c95c7231940e09a0ebd8caaa28e7d": {
      "model_module": "@jupyter-widgets/controls",
      "model_module_version": "1.5.0",
      "model_name": "ProgressStyleModel",
      "state": {
       "description_width": ""
      }
     },
     "86e9e7fe0e3f4bcda336f000b0170683": {
      "model_module": "@jupyter-widgets/base",
      "model_module_version": "1.2.0",
      "model_name": "LayoutModel",
      "state": {}
     },
     "86fdcbdcdd89438395589731207be305": {
      "model_module": "@jupyter-widgets/base",
      "model_module_version": "1.2.0",
      "model_name": "LayoutModel",
      "state": {
       "visibility": "hidden"
      }
     },
     "87236b5f30964cfcaf8d105be0d09ba8": {
      "model_module": "@jupyter-widgets/base",
      "model_module_version": "1.2.0",
      "model_name": "LayoutModel",
      "state": {}
     },
     "8938d6f44ec845e6a5eed288d7fffae1": {
      "buffers": [
       {
        "data": "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",
        "encoding": "base64",
        "path": [
         "_data",
         0,
         "x",
         "value"
        ]
       },
       {
        "data": "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",
        "encoding": "base64",
        "path": [
         "_data",
         0,
         "y",
         "value"
        ]
       },
       {
        "data": "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",
        "encoding": "base64",
        "path": [
         "_data",
         1,
         "x",
         "value"
        ]
       },
       {
        "data": "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",
        "encoding": "base64",
        "path": [
         "_data",
         1,
         "y",
         "value"
        ]
       },
       {
        "data": "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",
        "encoding": "base64",
        "path": [
         "_data",
         2,
         "x",
         "value"
        ]
       },
       {
        "data": "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",
        "encoding": "base64",
        "path": [
         "_data",
         2,
         "y",
         "value"
        ]
       },
       {
        "data": "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",
        "encoding": "base64",
        "path": [
         "_data",
         3,
         "x",
         "value"
        ]
       },
       {
        "data": "6T/muh7c38B+VxWkdYvXwOzIwCVAPdTAs9ENgz8108CKUZ8g68rSwBO72+YrfNLAeIE/S6Zy0sCR98HlJl7SwNjawaBQQtLAaD9a8qUN0sASgxs2JwjRwF3AEFvuqtDA1gz/y+mV0MB4aoNFKkbQwFbWE0YCK9DAaVujLy4dzcBRL+b4jQzLwMc3wPhWg8nANRKrQxJkycBKjQdbDQPJwNJnn4p29cjAheCLeG6AyMBdsBEhw7vHwF0acKNTjsfApVRpGWLUxsAdOGvrxErGwGreU9xGR8bA5LKPzZLTxcC7muEHq4jFwLTvzsIPNcXAJo3osKRNxMCX4Jik67fDwIdEJAX6osPAoIGei0sOw8C8PYPudAzDwD0zFU1t4cLAQWHWy3/EwsCDnWypSAbCwLawqicl1MHAFTnJUmpSwcCGdAgLvUrBwErrfEHlRMHA2+7dcYApwMBPDQet/mG/wH1tbGN6RL/AqmAnerABv8DSj24dN+W+wJ4N6mmVa77AvDQ0iusIvsAAEM/Q9P+9wCwN7Uv1Dr3AW64/wXjDvMC6hFUKOAW8wN9gomUWAbzAMLclMzwtu8DdXliT3eC6wOF8bLjTxLrA1Pqy799gusC1JfT5QvW5wCD2jSaPlLnAIP0+HQqDucA23waYuTS5wGb506OdK7nA7B5hra7gt8D46AHrYL+3wHUOKDkMibfAeNNCrPAPt8BF4XXkv2O2wEYBCvexA7bA9LsVeL/btcCKBwzWebC1wAmTqaHSNLXAqD7QtRXftMDeN1MCqd60wCfV5r/bwrTAesCTiTzCtMDQFZsW/9yzwBNxqyT2yrLATX3/bX+/ssAVqy2fRruywEhQBz0bXbLAlFeuCcsBssA7r+2eluGxwGC/c9f8t7HAoW744xYYscD/q74Mmt2wwPZRCP1p27DAz8zS2snNsMCnA07hNaWwwLD72Jb3irDAdQQPb4Z/sMAFwnM1WGCwwIlCOU9h2a/ADRr6QFZprsBc6LqVHB+uwFHFC3YRFq7AYFMykxkJrsBtm08S7u2rwM4+TNYsfqvAGqkAzJrSqsAuN6pqF36qwCVjuGPdG6nA1mEU+ZvpqMBSXxRxmduowFoXK+IItqfAQfPA+ufKpsC0Bs8jQHKmwN+PeoMWSabAbxHk4eERpcCMhJqcNvKkwFFfo+8U5KTAzBxjPRfGo8BMzvWzUqejwL+z1OwBhaPAxYAqd4sro8AQ2PwCIeuiwKCJ3w0eRaLAh9NMhVXoocD3RDTGrN+hwGCXT9uCcqHAIN9p0pZTocBzf4PJzjihwGMOUw+6j6DADIm5XcsmoMAEHCpQoyWgwI9NSOMQ/5/A9T/zqZfjn8Dp92aIFBefwGxWWPr/EJ/AWGvFIHC9nsDT/FNyyauewB7yZ7o+i57AV3HsZgaTncBT+diruKmcwDFnBtAtiZzA89wWvaOsm8BdD1BVc6abwCfp9WhiTJvAp6LXtcM6msA+8aacnJ6ZwFExOcvRY5jAqXJr4ziIl8A/Ul/jN0OXwEHEZWrQuJbAv14Eb718lsBwijHq0y2VwKbPeQXKB5TAB4KLcHwVk8APGR2Sml2SwF+Q2BKfjZHAdLtErhAnj8AZJ+1wiz2IwCE88/4pkYPATNvHAXgxgsBPQifT6WaBwEie5qqrCn/A1/NvSzh/fcAJiR4xzJ1rwJOoBMU55WjAbMApgyFnZsA8BHftEe5TwBYWuqZw30zAtmFH0YjqMUBqpK1I66M5QOheREuldF1AxaGwPV1oYEC12n2169xsQBBV1ewXIH1Alh6IKCO2fkCp3ze/UamGQIJKx1ukv4ZAIT6WGBYDh0B3eIggQaWKQMWMDpqVqZNAKZCIVsk3lEC6wjgA8yCWQL+VIE7tBpdAjCJGVpPVmECvxaUCXbWZQM9zz2CtzZlAUY5sSvO3m0C37ihl0/2cQKSWsp1VOZ5AxYQdBzWzoEAZKRCnLqqiQN1PvRTT6KJA0TEhFslDo0BKkRhrJeyjQPlJfh3AQKRAS9qqH5tepEDgl8ne5mukQPDK/Vc2kqRAA2VlqPXPpECCsp1Se92kQJq84zGyXaVAk1RwwH+gpUB+ffl7ghqmQP0Kyk318aZA6qwmjmz6pkCLgK7CHVunQBztgc9ekqdApuQ7ZFFPqEAd7G6QDlKoQCgZ0k9hvKhAWnjylXC/qUCv2NnZsBmqQJcYSSpR9apAqwn6dOYHq0CinJ1fy4ysQK+Zuje+zLBAZbEnLHsSsUDkoQhPVjaxQC0Nrw2mW7FAehAshfttsUA0i68rPtKxQHAlP0q447FA9u5bZCHtsUDLTtL1jx+yQLe85cWS3bJA/jOnz7l8s0Cx7lG9t7mzQK3GfNHxErRAZ9q7S/1CtEAko7rCo0q0QNzr2WUFT7VAMRIOWfjrtUB9Jt+9uyW2QNJYRuXIR7ZAWST09HeutkDHPXT7rvO2QIwhbgbY97ZAHTue/3L8tkAHc4d+Rxu3QLA3OK8oN7dAkN/0amQ6t0AoTbrA+Ey3QKmjyeTUBbhAVDUuOjYNuECS1ylTUni4QNuphIkRgrhA3bD9P9mLuEBRUqF6r9e4QLvNmOjl17hAD4zLycPuuECD/ISYTy65QJWTpV7ZLrlANAqtnxQ1uUB9ot9eF0S5QLk4sNvhRblACm7YKspNuUAokVLHx125QJUWoVfvfblA4J3/UDSbuUCmsFGqNs+5QOmvrhTMzrlA8P599CPOuUDapzsqN825QHkQSxVyyblAOD6PWGbQuUBatq/Cts25QA3eEqrVy7lA5mSO/KfLuUBcreRji8u5QGzuZIN/yrlASDIpTxDEuUDdxm1GXJq5QD64K0MzmblAc/m5GxiKuUA8L6P7SIa5QPbyjmL6l7lANAa7bUOluUDMd2wD15q5QCEHx6FNlrlAMvdvN8JAuUAH6x5ZTz+5QO5qe2JJFrlA7sIrZ1UAuUCd778ox+64QPxfIb3U7LhAsaHu6TDtuEB4KGJxFOm4QH0jip84s7hAyczrm3iXuEBhDRu6ioi4QN30+nDZc7hAyartVABMuED8CJdzfke4QK3SYMalQ7hA0FI+q6wzuEBTRNkhpgu4QJJcmPGTCbhAn/EW/gC4t0BkmBCD0623QMHxavTRn7dAe7WMraiAt0AqZt3OolO3QCEPCv1EOrdAUT+GjtEst0BIjruAfhq3QP9u5qGHqbZADNBwRG2htkBnzjjJ1W22QD/WAA2GVLZA77S1w/0ztkC4FuGGPxq2QD/jSzbS5bVA8/M7lTTBtUBomWf3rmq1QCWH8bzyD7VA4JXXxyz6tEBSA1RNGeC0QJE7+Rk4hbRAoEl3fjSFtEBQ3MlPl1a0QKsIiQ+gmrNAt1pgn7V6s0CTZyZFIeayQKB8YcZb3rJANiM2kU3BskAUQOk7YbeyQJEiqVZiW7JABMHotYQwskAcadOBkw+yQAkCgwIanbFAs7now+aQsUDE8FrrxpCxQEkOL1n0dbFAYBtUt0JRsUDROq/WnRyxQABn0YN6C7FABmmcW+assEB2NRAEWSOwQKJY9j0uqa9A250NnSForUDiwPdYfTitQEoePdO5uqtAM0mZqRB1q0Ao4H8KwD2rQINHpPrAoqpAk999kv9qqkAKs0HMwWmqQCYVy5bi4qlACJU7JxBHp0CcNz9gn+umQEjIx54fzqZAeJjvNL95pEDVj6UzqyqkQMc7kCIDsKNAM0B3E5lFo0A1raHcEQWhQEff4GjnzKBATnTf4TakoEB8zOdm+XKeQAygQxAAN51A24HJew5qmkCW/AXtUrCYQBrukFLENpdAqEalMQU/kUDfXLhBNXKQQMXB/jMiL5BA+VHC80anj0CtVazfsDeNQEcnZx9Lg4dAKgUvxzq/gUBT02sKzyqAQO8Mkc1X33ZAvJQhcirudECh7vNWtpFxQAD/ZuOCXGNAgfgGSXQticCGLTIZgdyRwPnrM5VeAZLAnZqbwXxFlMBIcfoL8s6VwKY1JoIcApbApj44mwAymsCKVB4SFymiwENpDv+CAaPAidyrPqCKpMC96Ip4pnOmwAszfhlUTqfATsFX+3vTrsABIaX0z0CvwHcCx+7S3LHAzRdpyjJFssCYidejU3KzwEYfumV32rbApP2T/9BRuMDtgXY+jVW4wK7tcfgSr7rA9tiMuMobvMA+KjIqGsS8wCs7IVdeQMDA5hHDHmNVwsAnWU+YIzHDwKOFYg4CWcPANTSVpYoyxMAly2jpcZ/EwEiM3fBR9sbAJOhYLOFWyMBGWgb9R7DKwKxyaTdmCMvA2gdPAKopz8BOUI/YthXQwPB2rPI30NDAgFBb2ZAD0cAox+qcGDjRwFMBpPHPX9HAp56qu34H0sBT+E40dyTSwCExKkG9ltLAL1/mUEVn08BgngJ1v67TwNSaQGQmNtTAXRQrfAR21MCzclQ3HHbUwBH2ji6h0tTAfmzQnB+T1cDDsPlXfRzWwOEQnNSLT9bA8mb+2e9U1sDSTJdKa1rWwEntqQPNn9bAKMdlPPzQ18Co2KQN3A/ZwHGzmacSP9rAep6poMlQ28BmKhpvenXcwPUMwokRgd3Al3NMHGZ/3sA0lbWejvrewCdJhlY2ZOHAEqRIx9nI4cAXPWGUc5biwLkbLMsO5+LA69tV+Bnu48AlrBK8GkPlwBMWKno7/ujAXuRRJuFA8sA=",
        "encoding": "base64",
        "path": [
         "_data",
         3,
         "y",
         "value"
        ]
       }
      ],
      "model_module": "jupyterlab-plotly",
      "model_module_version": "^5.9.0",
      "model_name": "FigureModel",
      "state": {
       "_config": {
        "plotlyServerURL": "https://plot.ly"
       },
       "_data": [
        {
         "hovertemplate": "Split=train<br>Predictions=%{x}<br>Residuals=%{y}<extra></extra>",
         "legendgroup": "train",
         "marker": {
          "color": "blue",
          "opacity": 0.3,
          "symbol": "circle"
         },
         "mode": "markers",
         "name": "train",
         "showlegend": true,
         "type": "scattergl",
         "uid": "65e11847-9e09-4f37-a80a-ee4ab964f95d",
         "x": {
          "dtype": "float64",
          "shape": [
           1021
          ]
         },
         "xaxis": "x",
         "y": {
          "dtype": "float64",
          "shape": [
           1021
          ]
         },
         "yaxis": "y"
        },
        {
         "hovertemplate": "<b>LOWESS trendline</b><br><br>Split=train<br>Predictions=%{x}<br>Residuals=%{y} <b>(trend)</b><extra></extra>",
         "legendgroup": "train",
         "marker": {
          "color": "blue",
          "symbol": "circle"
         },
         "mode": "lines",
         "name": "train",
         "showlegend": false,
         "type": "scattergl",
         "uid": "abd80deb-e08d-44ab-b931-7ff3e7eabf78",
         "x": {
          "dtype": "float64",
          "shape": [
           1021
          ]
         },
         "xaxis": "x",
         "y": {
          "dtype": "float64",
          "shape": [
           1021
          ]
         },
         "yaxis": "y"
        },
        {
         "hovertemplate": "Split=test<br>Predictions=%{x}<br>Residuals=%{y}<extra></extra>",
         "legendgroup": "test",
         "marker": {
          "color": "green",
          "opacity": 0.3,
          "symbol": "circle"
         },
         "mode": "markers",
         "name": "test",
         "showlegend": true,
         "type": "scattergl",
         "uid": "3752ff3e-a9f1-4295-9ae6-9e548982c700",
         "x": {
          "dtype": "float64",
          "shape": [
           439
          ]
         },
         "xaxis": "x",
         "y": {
          "dtype": "float64",
          "shape": [
           439
          ]
         },
         "yaxis": "y"
        },
        {
         "hovertemplate": "<b>LOWESS trendline</b><br><br>Split=test<br>Predictions=%{x}<br>Residuals=%{y} <b>(trend)</b><extra></extra>",
         "legendgroup": "test",
         "marker": {
          "color": "green",
          "symbol": "circle"
         },
         "mode": "lines",
         "name": "test",
         "showlegend": false,
         "type": "scattergl",
         "uid": "39352e8e-3047-4199-ba56-827a495ae633",
         "x": {
          "dtype": "float64",
          "shape": [
           439
          ]
         },
         "xaxis": "x",
         "y": {
          "dtype": "float64",
          "shape": [
           439
          ]
         },
         "yaxis": "y"
        }
       ],
       "_js2py_pointsCallback": {},
       "_js2py_restyle": {},
       "_js2py_update": {},
       "_last_layout_edit_id": 1,
       "_layout": {
        "annotations": [
         {
          "arrowhead": 7,
          "ax": 0,
          "ay": -40,
          "showarrow": true,
          "text": "r_348",
          "x": 636457.8184198112,
          "xref": "x",
          "y": 476457.8184198112,
          "yref": "y"
         },
         {
          "arrowhead": 7,
          "ax": 0,
          "ay": -40,
          "showarrow": true,
          "text": "r_26",
          "x": 424149.43700966425,
          "xref": "x",
          "y": -320850.56299033575,
          "yref": "y"
         },
         {
          "arrowhead": 7,
          "ax": 0,
          "ay": -40,
          "showarrow": true,
          "text": "r_1160",
          "x": 468129.4185356685,
          "xref": "x",
          "y": -286870.5814643315,
          "yref": "y"
         }
        ],
        "autosize": true,
        "legend": {
         "title": {
          "text": "Split"
         },
         "tracegroupgap": 0
        },
        "showlegend": false,
        "template": {
         "data": {
          "bar": [
           {
            "error_x": {
             "color": "#2a3f5f"
            },
            "error_y": {
             "color": "#2a3f5f"
            },
            "marker": {
             "line": {
              "color": "#E5ECF6",
              "width": 0.5
             },
             "pattern": {
              "fillmode": "overlay",
              "size": 10,
              "solidity": 0.2
             }
            },
            "type": "bar"
           }
          ],
          "barpolar": [
           {
            "marker": {
             "line": {
              "color": "#E5ECF6",
              "width": 0.5
             },
             "pattern": {
              "fillmode": "overlay",
              "size": 10,
              "solidity": 0.2
             }
            },
            "type": "barpolar"
           }
          ],
          "carpet": [
           {
            "aaxis": {
             "endlinecolor": "#2a3f5f",
             "gridcolor": "white",
             "linecolor": "white",
             "minorgridcolor": "white",
             "startlinecolor": "#2a3f5f"
            },
            "baxis": {
             "endlinecolor": "#2a3f5f",
             "gridcolor": "white",
             "linecolor": "white",
             "minorgridcolor": "white",
             "startlinecolor": "#2a3f5f"
            },
            "type": "carpet"
           }
          ],
          "choropleth": [
           {
            "colorbar": {
             "outlinewidth": 0,
             "ticks": ""
            },
            "type": "choropleth"
           }
          ],
          "contour": [
           {
            "colorbar": {
             "outlinewidth": 0,
             "ticks": ""
            },
            "colorscale": [
             [
              0,
              "#0d0887"
             ],
             [
              0.1111111111111111,
              "#46039f"
             ],
             [
              0.2222222222222222,
              "#7201a8"
             ],
             [
              0.3333333333333333,
              "#9c179e"
             ],
             [
              0.4444444444444444,
              "#bd3786"
             ],
             [
              0.5555555555555556,
              "#d8576b"
             ],
             [
              0.6666666666666666,
              "#ed7953"
             ],
             [
              0.7777777777777778,
              "#fb9f3a"
             ],
             [
              0.8888888888888888,
              "#fdca26"
             ],
             [
              1,
              "#f0f921"
             ]
            ],
            "type": "contour"
           }
          ],
          "contourcarpet": [
           {
            "colorbar": {
             "outlinewidth": 0,
             "ticks": ""
            },
            "type": "contourcarpet"
           }
          ],
          "heatmap": [
           {
            "colorbar": {
             "outlinewidth": 0,
             "ticks": ""
            },
            "colorscale": [
             [
              0,
              "#0d0887"
             ],
             [
              0.1111111111111111,
              "#46039f"
             ],
             [
              0.2222222222222222,
              "#7201a8"
             ],
             [
              0.3333333333333333,
              "#9c179e"
             ],
             [
              0.4444444444444444,
              "#bd3786"
             ],
             [
              0.5555555555555556,
              "#d8576b"
             ],
             [
              0.6666666666666666,
              "#ed7953"
             ],
             [
              0.7777777777777778,
              "#fb9f3a"
             ],
             [
              0.8888888888888888,
              "#fdca26"
             ],
             [
              1,
              "#f0f921"
             ]
            ],
            "type": "heatmap"
           }
          ],
          "heatmapgl": [
           {
            "colorbar": {
             "outlinewidth": 0,
             "ticks": ""
            },
            "colorscale": [
             [
              0,
              "#0d0887"
             ],
             [
              0.1111111111111111,
              "#46039f"
             ],
             [
              0.2222222222222222,
              "#7201a8"
             ],
             [
              0.3333333333333333,
              "#9c179e"
             ],
             [
              0.4444444444444444,
              "#bd3786"
             ],
             [
              0.5555555555555556,
              "#d8576b"
             ],
             [
              0.6666666666666666,
              "#ed7953"
             ],
             [
              0.7777777777777778,
              "#fb9f3a"
             ],
             [
              0.8888888888888888,
              "#fdca26"
             ],
             [
              1,
              "#f0f921"
             ]
            ],
            "type": "heatmapgl"
           }
          ],
          "histogram": [
           {
            "marker": {
             "pattern": {
              "fillmode": "overlay",
              "size": 10,
              "solidity": 0.2
             }
            },
            "type": "histogram"
           }
          ],
          "histogram2d": [
           {
            "colorbar": {
             "outlinewidth": 0,
             "ticks": ""
            },
            "colorscale": [
             [
              0,
              "#0d0887"
             ],
             [
              0.1111111111111111,
              "#46039f"
             ],
             [
              0.2222222222222222,
              "#7201a8"
             ],
             [
              0.3333333333333333,
              "#9c179e"
             ],
             [
              0.4444444444444444,
              "#bd3786"
             ],
             [
              0.5555555555555556,
              "#d8576b"
             ],
             [
              0.6666666666666666,
              "#ed7953"
             ],
             [
              0.7777777777777778,
              "#fb9f3a"
             ],
             [
              0.8888888888888888,
              "#fdca26"
             ],
             [
              1,
              "#f0f921"
             ]
            ],
            "type": "histogram2d"
           }
          ],
          "histogram2dcontour": [
           {
            "colorbar": {
             "outlinewidth": 0,
             "ticks": ""
            },
            "colorscale": [
             [
              0,
              "#0d0887"
             ],
             [
              0.1111111111111111,
              "#46039f"
             ],
             [
              0.2222222222222222,
              "#7201a8"
             ],
             [
              0.3333333333333333,
              "#9c179e"
             ],
             [
              0.4444444444444444,
              "#bd3786"
             ],
             [
              0.5555555555555556,
              "#d8576b"
             ],
             [
              0.6666666666666666,
              "#ed7953"
             ],
             [
              0.7777777777777778,
              "#fb9f3a"
             ],
             [
              0.8888888888888888,
              "#fdca26"
             ],
             [
              1,
              "#f0f921"
             ]
            ],
            "type": "histogram2dcontour"
           }
          ],
          "mesh3d": [
           {
            "colorbar": {
             "outlinewidth": 0,
             "ticks": ""
            },
            "type": "mesh3d"
           }
          ],
          "parcoords": [
           {
            "line": {
             "colorbar": {
              "outlinewidth": 0,
              "ticks": ""
             }
            },
            "type": "parcoords"
           }
          ],
          "pie": [
           {
            "automargin": true,
            "type": "pie"
           }
          ],
          "scatter": [
           {
            "fillpattern": {
             "fillmode": "overlay",
             "size": 10,
             "solidity": 0.2
            },
            "type": "scatter"
           }
          ],
          "scatter3d": [
           {
            "line": {
             "colorbar": {
              "outlinewidth": 0,
              "ticks": ""
             }
            },
            "marker": {
             "colorbar": {
              "outlinewidth": 0,
              "ticks": ""
             }
            },
            "type": "scatter3d"
           }
          ],
          "scattercarpet": [
           {
            "marker": {
             "colorbar": {
              "outlinewidth": 0,
              "ticks": ""
             }
            },
            "type": "scattercarpet"
           }
          ],
          "scattergeo": [
           {
            "marker": {
             "colorbar": {
              "outlinewidth": 0,
              "ticks": ""
             }
            },
            "type": "scattergeo"
           }
          ],
          "scattergl": [
           {
            "marker": {
             "colorbar": {
              "outlinewidth": 0,
              "ticks": ""
             }
            },
            "type": "scattergl"
           }
          ],
          "scattermapbox": [
           {
            "marker": {
             "colorbar": {
              "outlinewidth": 0,
              "ticks": ""
             }
            },
            "type": "scattermapbox"
           }
          ],
          "scatterpolar": [
           {
            "marker": {
             "colorbar": {
              "outlinewidth": 0,
              "ticks": ""
             }
            },
            "type": "scatterpolar"
           }
          ],
          "scatterpolargl": [
           {
            "marker": {
             "colorbar": {
              "outlinewidth": 0,
              "ticks": ""
             }
            },
            "type": "scatterpolargl"
           }
          ],
          "scatterternary": [
           {
            "marker": {
             "colorbar": {
              "outlinewidth": 0,
              "ticks": ""
             }
            },
            "type": "scatterternary"
           }
          ],
          "surface": [
           {
            "colorbar": {
             "outlinewidth": 0,
             "ticks": ""
            },
            "colorscale": [
             [
              0,
              "#0d0887"
             ],
             [
              0.1111111111111111,
              "#46039f"
             ],
             [
              0.2222222222222222,
              "#7201a8"
             ],
             [
              0.3333333333333333,
              "#9c179e"
             ],
             [
              0.4444444444444444,
              "#bd3786"
             ],
             [
              0.5555555555555556,
              "#d8576b"
             ],
             [
              0.6666666666666666,
              "#ed7953"
             ],
             [
              0.7777777777777778,
              "#fb9f3a"
             ],
             [
              0.8888888888888888,
              "#fdca26"
             ],
             [
              1,
              "#f0f921"
             ]
            ],
            "type": "surface"
           }
          ],
          "table": [
           {
            "cells": {
             "fill": {
              "color": "#EBF0F8"
             },
             "line": {
              "color": "white"
             }
            },
            "header": {
             "fill": {
              "color": "#C8D4E3"
             },
             "line": {
              "color": "white"
             }
            },
            "type": "table"
           }
          ]
         },
         "layout": {
          "annotationdefaults": {
           "arrowcolor": "#2a3f5f",
           "arrowhead": 0,
           "arrowwidth": 1
          },
          "autotypenumbers": "strict",
          "coloraxis": {
           "colorbar": {
            "outlinewidth": 0,
            "ticks": ""
           }
          },
          "colorscale": {
           "diverging": [
            [
             0,
             "#8e0152"
            ],
            [
             0.1,
             "#c51b7d"
            ],
            [
             0.2,
             "#de77ae"
            ],
            [
             0.3,
             "#f1b6da"
            ],
            [
             0.4,
             "#fde0ef"
            ],
            [
             0.5,
             "#f7f7f7"
            ],
            [
             0.6,
             "#e6f5d0"
            ],
            [
             0.7,
             "#b8e186"
            ],
            [
             0.8,
             "#7fbc41"
            ],
            [
             0.9,
             "#4d9221"
            ],
            [
             1,
             "#276419"
            ]
           ],
           "sequential": [
            [
             0,
             "#0d0887"
            ],
            [
             0.1111111111111111,
             "#46039f"
            ],
            [
             0.2222222222222222,
             "#7201a8"
            ],
            [
             0.3333333333333333,
             "#9c179e"
            ],
            [
             0.4444444444444444,
             "#bd3786"
            ],
            [
             0.5555555555555556,
             "#d8576b"
            ],
            [
             0.6666666666666666,
             "#ed7953"
            ],
            [
             0.7777777777777778,
             "#fb9f3a"
            ],
            [
             0.8888888888888888,
             "#fdca26"
            ],
            [
             1,
             "#f0f921"
            ]
           ],
           "sequentialminus": [
            [
             0,
             "#0d0887"
            ],
            [
             0.1111111111111111,
             "#46039f"
            ],
            [
             0.2222222222222222,
             "#7201a8"
            ],
            [
             0.3333333333333333,
             "#9c179e"
            ],
            [
             0.4444444444444444,
             "#bd3786"
            ],
            [
             0.5555555555555556,
             "#d8576b"
            ],
            [
             0.6666666666666666,
             "#ed7953"
            ],
            [
             0.7777777777777778,
             "#fb9f3a"
            ],
            [
             0.8888888888888888,
             "#fdca26"
            ],
            [
             1,
             "#f0f921"
            ]
           ]
          },
          "colorway": [
           "#636efa",
           "#EF553B",
           "#00cc96",
           "#ab63fa",
           "#FFA15A",
           "#19d3f3",
           "#FF6692",
           "#B6E880",
           "#FF97FF",
           "#FECB52"
          ],
          "font": {
           "color": "#2a3f5f"
          },
          "geo": {
           "bgcolor": "white",
           "lakecolor": "white",
           "landcolor": "#E5ECF6",
           "showlakes": true,
           "showland": true,
           "subunitcolor": "white"
          },
          "hoverlabel": {
           "align": "left"
          },
          "hovermode": "closest",
          "mapbox": {
           "style": "light"
          },
          "paper_bgcolor": "white",
          "plot_bgcolor": "#E5ECF6",
          "polar": {
           "angularaxis": {
            "gridcolor": "white",
            "linecolor": "white",
            "ticks": ""
           },
           "bgcolor": "#E5ECF6",
           "radialaxis": {
            "gridcolor": "white",
            "linecolor": "white",
            "ticks": ""
           }
          },
          "scene": {
           "xaxis": {
            "backgroundcolor": "#E5ECF6",
            "gridcolor": "white",
            "gridwidth": 2,
            "linecolor": "white",
            "showbackground": true,
            "ticks": "",
            "zerolinecolor": "white"
           },
           "yaxis": {
            "backgroundcolor": "#E5ECF6",
            "gridcolor": "white",
            "gridwidth": 2,
            "linecolor": "white",
            "showbackground": true,
            "ticks": "",
            "zerolinecolor": "white"
           },
           "zaxis": {
            "backgroundcolor": "#E5ECF6",
            "gridcolor": "white",
            "gridwidth": 2,
            "linecolor": "white",
            "showbackground": true,
            "ticks": "",
            "zerolinecolor": "white"
           }
          },
          "shapedefaults": {
           "line": {
            "color": "#2a3f5f"
           }
          },
          "ternary": {
           "aaxis": {
            "gridcolor": "white",
            "linecolor": "white",
            "ticks": ""
           },
           "baxis": {
            "gridcolor": "white",
            "linecolor": "white",
            "ticks": ""
           },
           "bgcolor": "#E5ECF6",
           "caxis": {
            "gridcolor": "white",
            "linecolor": "white",
            "ticks": ""
           }
          },
          "title": {
           "x": 0.05
          },
          "xaxis": {
           "automargin": true,
           "gridcolor": "white",
           "linecolor": "white",
           "ticks": "",
           "title": {
            "standoff": 15
           },
           "zerolinecolor": "white",
           "zerolinewidth": 2
          },
          "yaxis": {
           "automargin": true,
           "gridcolor": "white",
           "linecolor": "white",
           "ticks": "",
           "title": {
            "standoff": 15
           },
           "zerolinecolor": "white",
           "zerolinewidth": 2
          }
         }
        },
        "title": {
         "text": "Tukey-Anscombe Plot"
        },
        "xaxis": {
         "anchor": "y",
         "domain": [
          0,
          1
         ],
         "title": {
          "text": "Predictions"
         }
        },
        "yaxis": {
         "anchor": "x",
         "domain": [
          0,
          1
         ],
         "title": {
          "text": "Residuals"
         }
        }
       },
       "_py2js_addTraces": {},
       "_py2js_animate": {},
       "_py2js_deleteTraces": {},
       "_py2js_moveTraces": {},
       "_py2js_removeLayoutProps": {},
       "_py2js_removeTraceProps": {},
       "_py2js_restyle": {},
       "_py2js_update": {},
       "_view_count": 0
      }
     },
     "8a34d80295934eb99f575ef2c1c50b84": {
      "model_module": "@jupyter-widgets/controls",
      "model_module_version": "1.5.0",
      "model_name": "DescriptionStyleModel",
      "state": {
       "description_width": ""
      }
     },
     "8af824a040e9426aa650178660dfd609": {
      "model_module": "@jupyter-widgets/controls",
      "model_module_version": "1.5.0",
      "model_name": "HTMLModel",
      "state": {
       "layout": "IPY_MODEL_45ea5ee642f745809e781d56dd278530",
       "style": "IPY_MODEL_0ce84b70b4854f94ab80897969217ea8",
       "value": "Processing: 100%"
      }
     },
     "8b54ea29fec64b3a899655f3f9e045fb": {
      "model_module": "@jupyter-widgets/controls",
      "model_module_version": "1.5.0",
      "model_name": "FloatProgressModel",
      "state": {
       "layout": "IPY_MODEL_9a556b02176c417e831a268d05a98886",
       "max": 7,
       "style": "IPY_MODEL_481093cf9b8941d08bad76653cb78117",
       "value": 7
      }
     },
     "8b8f96f0d6d24384b075109f92f14582": {
      "model_module": "@jupyter-widgets/base",
      "model_module_version": "1.2.0",
      "model_name": "LayoutModel",
      "state": {}
     },
     "8c110d92a3c04495b4dc8532fe1ec056": {
      "model_module": "@jupyter-widgets/base",
      "model_module_version": "1.2.0",
      "model_name": "LayoutModel",
      "state": {}
     },
     "8c4f80c62d2b448b9138e7b128b8183d": {
      "model_module": "@jupyter-widgets/controls",
      "model_module_version": "1.5.0",
      "model_name": "VBoxModel",
      "state": {
       "_dom_classes": [
        "widget-interact"
       ],
       "children": [
        "IPY_MODEL_5ffeb20f70ac47299c7d4e3e41746d8f",
        "IPY_MODEL_de5c04d8607f49a79f8964cb54b63e3c"
       ],
       "layout": "IPY_MODEL_6fb6a294a08c4e6c88bf182ba2a3e4cc"
      }
     },
     "8d96c4c2ed244d05860fd4555342cc0e": {
      "model_module": "@jupyter-widgets/controls",
      "model_module_version": "1.5.0",
      "model_name": "HTMLModel",
      "state": {
       "layout": "IPY_MODEL_4da26fff861b4f17bce3f46078d90949",
       "style": "IPY_MODEL_a3d93b77a9f94d2c818ce54fecc481a4",
       "value": "Processing: 100%"
      }
     },
     "9012329028bb4e119db32ebf9bb3bc2b": {
      "model_module": "@jupyter-widgets/controls",
      "model_module_version": "1.5.0",
      "model_name": "ProgressStyleModel",
      "state": {
       "description_width": ""
      }
     },
     "9237cfe5589b4303803b9dff9727cb1c": {
      "model_module": "@jupyter-widgets/controls",
      "model_module_version": "1.5.0",
      "model_name": "FloatProgressModel",
      "state": {
       "layout": "IPY_MODEL_4e3baeca1db640319ab581862df8c94a",
       "max": 87,
       "style": "IPY_MODEL_084fa5f50f8841b68186c0806fbc976e",
       "value": 87
      }
     },
     "948f843a5fce461dab1afe693cddca68": {
      "model_module": "@jupyter-widgets/base",
      "model_module_version": "1.2.0",
      "model_name": "LayoutModel",
      "state": {}
     },
     "94a1266f42ff42f791f91b24bf8118dc": {
      "model_module": "@jupyter-widgets/controls",
      "model_module_version": "1.5.0",
      "model_name": "HTMLModel",
      "state": {
       "layout": "IPY_MODEL_f9420a8c40764f509075f22cc6f29432",
       "style": "IPY_MODEL_1aa56e84f2f64a45b6fb262716e5fb21",
       "value": " 7/7 [00:17&lt;00:00,  2.11s/it]"
      }
     },
     "94b0215e7e0e48d5800411a4bd60e824": {
      "model_module": "@jupyter-widgets/controls",
      "model_module_version": "1.5.0",
      "model_name": "ProgressStyleModel",
      "state": {
       "description_width": ""
      }
     },
     "9529900585314b2283e33d61e5417ba3": {
      "model_module": "@jupyter-widgets/base",
      "model_module_version": "1.2.0",
      "model_name": "LayoutModel",
      "state": {
       "visibility": "hidden"
      }
     },
     "97a101d95c634d35968e8886ce4b440c": {
      "model_module": "@jupyter-widgets/controls",
      "model_module_version": "1.5.0",
      "model_name": "HTMLModel",
      "state": {
       "layout": "IPY_MODEL_4dfec4f2ddc74aa1831afd6adfff88ba",
       "style": "IPY_MODEL_0f18f5b595704162b645bfc5063ebe4c",
       "value": " 6/6 [00:06&lt;00:00,  1.07s/it]"
      }
     },
     "99634044459b46758f0ce20ab60bee5c": {
      "model_module": "@jupyter-widgets/controls",
      "model_module_version": "1.5.0",
      "model_name": "FloatProgressModel",
      "state": {
       "layout": "IPY_MODEL_daea9464d115489d8d401763b31bdef4",
       "max": 89,
       "style": "IPY_MODEL_0f33c9cd476b4454892ea779ca2d50d8",
       "value": 89
      }
     },
     "999c053787ee405caf925fdd49ca9173": {
      "model_module": "@jupyter-widgets/base",
      "model_module_version": "1.2.0",
      "model_name": "LayoutModel",
      "state": {}
     },
     "9a556b02176c417e831a268d05a98886": {
      "model_module": "@jupyter-widgets/base",
      "model_module_version": "1.2.0",
      "model_name": "LayoutModel",
      "state": {}
     },
     "9a86a67739d24f0ebda0214ce898de85": {
      "model_module": "@jupyter-widgets/base",
      "model_module_version": "1.2.0",
      "model_name": "LayoutModel",
      "state": {}
     },
     "9b8dc57ecf1b49048515d7ada52047c3": {
      "model_module": "@jupyter-widgets/base",
      "model_module_version": "1.2.0",
      "model_name": "LayoutModel",
      "state": {
       "visibility": "hidden"
      }
     },
     "9bdadc3ef26544b0a9c560a7765f2abb": {
      "model_module": "@jupyter-widgets/controls",
      "model_module_version": "1.5.0",
      "model_name": "HBoxModel",
      "state": {
       "children": [
        "IPY_MODEL_8938d6f44ec845e6a5eed288d7fffae1",
        "IPY_MODEL_0befd85dd51345e8ad70e48f2d46d81f"
       ],
       "layout": "IPY_MODEL_9c8fb464ea3348a38c8e1743e230c9e2"
      }
     },
     "9c8fb464ea3348a38c8e1743e230c9e2": {
      "model_module": "@jupyter-widgets/base",
      "model_module_version": "1.2.0",
      "model_name": "LayoutModel",
      "state": {
       "width": "1000px"
      }
     },
     "9d4f7f105d9e42eea9e6b60895758caa": {
      "model_module": "@jupyter-widgets/controls",
      "model_module_version": "1.5.0",
      "model_name": "HTMLModel",
      "state": {
       "layout": "IPY_MODEL_743bc1e09a594c9398160d61d5845ca2",
       "style": "IPY_MODEL_0c24183936de401ab9f626708812b10f",
       "value": " 7/7 [00:25&lt;00:00,  3.13s/it]"
      }
     },
     "9ea3db880f6647f7bf93cebcf5dcacba": {
      "model_module": "@jupyter-widgets/controls",
      "model_module_version": "1.5.0",
      "model_name": "HTMLModel",
      "state": {
       "layout": "IPY_MODEL_948f843a5fce461dab1afe693cddca68",
       "style": "IPY_MODEL_0c2b5a966ad94cab937f77731f10e466",
       "value": " 87/87 [03:28&lt;00:00,  4.36s/it]"
      }
     },
     "a2e4dc4bf8864a8e96a00c7334891483": {
      "model_module": "@jupyter-widgets/controls",
      "model_module_version": "1.5.0",
      "model_name": "ProgressStyleModel",
      "state": {
       "description_width": ""
      }
     },
     "a3d93b77a9f94d2c818ce54fecc481a4": {
      "model_module": "@jupyter-widgets/controls",
      "model_module_version": "1.5.0",
      "model_name": "DescriptionStyleModel",
      "state": {
       "description_width": ""
      }
     },
     "a41584e58d724440823c4fb0fd820bb3": {
      "model_module": "@jupyter-widgets/controls",
      "model_module_version": "1.5.0",
      "model_name": "ToggleButtonsStyleModel",
      "state": {
       "button_width": "",
       "description_width": ""
      }
     },
     "a6a86a27277f46c29dd45ddf592c2e71": {
      "model_module": "@jupyter-widgets/controls",
      "model_module_version": "1.5.0",
      "model_name": "HTMLModel",
      "state": {
       "layout": "IPY_MODEL_625c87d382bc44a6a0b620fe16d99fe8",
       "style": "IPY_MODEL_2b6beb38a05f405c8b41ce3d7a7a5cfa",
       "value": "Processing: 100%"
      }
     },
     "a6b7e96c5c0d4b8b93f0280c4429ed9f": {
      "model_module": "@jupyter-widgets/controls",
      "model_module_version": "1.5.0",
      "model_name": "HTMLModel",
      "state": {
       "layout": "IPY_MODEL_fa4bb16a7b454f1d8fa6077f582f1951",
       "style": "IPY_MODEL_d3e580ade8344151bbef78ff6d4f1a96",
       "value": "Processing: 100%"
      }
     },
     "a86511cfb5a045e5b52dd5fdbacc8391": {
      "model_module": "@jupyter-widgets/controls",
      "model_module_version": "1.5.0",
      "model_name": "FloatProgressModel",
      "state": {
       "bar_style": "danger",
       "layout": "IPY_MODEL_fd8a40dc848946b7a02c7a01020cfe3b",
       "max": 85,
       "style": "IPY_MODEL_263bfa0d7dc54003aa4f19ca15638ab5",
       "value": 4
      }
     },
     "a86fb3fc5de444ccb86542215028e475": {
      "model_module": "@jupyter-widgets/base",
      "model_module_version": "1.2.0",
      "model_name": "LayoutModel",
      "state": {}
     },
     "a8ecaa6dde244ad39290833b172a50dd": {
      "model_module": "@jupyter-widgets/base",
      "model_module_version": "1.2.0",
      "model_name": "LayoutModel",
      "state": {}
     },
     "ada04dda6e124146927fd48c04cb9288": {
      "model_module": "@jupyter-widgets/controls",
      "model_module_version": "1.5.0",
      "model_name": "ProgressStyleModel",
      "state": {
       "description_width": ""
      }
     },
     "ae90f910d9274932b44262126e0e327d": {
      "model_module": "@jupyter-widgets/controls",
      "model_module_version": "1.5.0",
      "model_name": "HTMLModel",
      "state": {
       "layout": "IPY_MODEL_3b7072146bbe4d7590b35e3a5c2c7587",
       "style": "IPY_MODEL_e70fd36eabd249e1a8a00d6ff47d305c",
       "value": " 6/6 [00:05&lt;00:00,  1.15it/s]"
      }
     },
     "aebe428644ae44d785d16816b05c46a8": {
      "model_module": "@jupyter-widgets/controls",
      "model_module_version": "1.5.0",
      "model_name": "FloatProgressModel",
      "state": {
       "layout": "IPY_MODEL_49b44a0d67754e2292f8121cc701806d",
       "max": 6,
       "style": "IPY_MODEL_14641befaf124882aa5c3d4e53f93ed1",
       "value": 6
      }
     },
     "afed897902914f15a7adf8dcfb6465d9": {
      "model_module": "@jupyter-widgets/controls",
      "model_module_version": "1.5.0",
      "model_name": "HTMLModel",
      "state": {
       "layout": "IPY_MODEL_8b8f96f0d6d24384b075109f92f14582",
       "style": "IPY_MODEL_d8c8ef516c3a45b18b020cd8ef23b100",
       "value": " 85/85 [03:39&lt;00:00,  6.26s/it]"
      }
     },
     "b086d4623d144b919c3a26a96c0246bf": {
      "model_module": "@jupyter-widgets/controls",
      "model_module_version": "1.5.0",
      "model_name": "DescriptionStyleModel",
      "state": {
       "description_width": ""
      }
     },
     "b0a5ee953fda4096a44d2bf3ea5a6914": {
      "model_module": "@jupyter-widgets/controls",
      "model_module_version": "1.5.0",
      "model_name": "FloatProgressModel",
      "state": {
       "layout": "IPY_MODEL_eba175f78bb844eb933cf68ba7b6b0d8",
       "max": 6,
       "style": "IPY_MODEL_a2e4dc4bf8864a8e96a00c7334891483",
       "value": 6
      }
     },
     "b16ecd1509f54f4ebcbabe95a9248f6b": {
      "model_module": "@jupyter-widgets/base",
      "model_module_version": "1.2.0",
      "model_name": "LayoutModel",
      "state": {}
     },
     "b3e9a52c1f764d75aa26df9f8f051e26": {
      "model_module": "@jupyter-widgets/base",
      "model_module_version": "1.2.0",
      "model_name": "LayoutModel",
      "state": {}
     },
     "b53dc964f02f4072aa966c97cc315111": {
      "model_module": "@jupyter-widgets/base",
      "model_module_version": "1.2.0",
      "model_name": "LayoutModel",
      "state": {}
     },
     "b6860dc099844360b2250e72e8ff6e51": {
      "model_module": "@jupyter-widgets/controls",
      "model_module_version": "1.5.0",
      "model_name": "HTMLModel",
      "state": {
       "layout": "IPY_MODEL_a86fb3fc5de444ccb86542215028e475",
       "style": "IPY_MODEL_d04bcfff049445b8bae64402d2b46131",
       "value": " 85/85 [03:42&lt;00:00,  6.41s/it]"
      }
     },
     "ba38c6edd8b34f7aacc34383d66ad256": {
      "model_module": "@jupyter-widgets/controls",
      "model_module_version": "1.5.0",
      "model_name": "DescriptionStyleModel",
      "state": {
       "description_width": ""
      }
     },
     "ba68f07c5878462ca7f7806eaa2c1273": {
      "model_module": "@jupyter-widgets/base",
      "model_module_version": "1.2.0",
      "model_name": "LayoutModel",
      "state": {}
     },
     "bbef41e5979b47899169495bb0a49e04": {
      "model_module": "@jupyter-widgets/controls",
      "model_module_version": "1.5.0",
      "model_name": "DescriptionStyleModel",
      "state": {
       "description_width": ""
      }
     },
     "beb2021e9c1144c3aba5b111757544af": {
      "model_module": "@jupyter-widgets/controls",
      "model_module_version": "1.5.0",
      "model_name": "DescriptionStyleModel",
      "state": {
       "description_width": ""
      }
     },
     "c40665d48e7b4432b811f79053dc5c65": {
      "model_module": "@jupyter-widgets/controls",
      "model_module_version": "1.5.0",
      "model_name": "HTMLModel",
      "state": {
       "layout": "IPY_MODEL_726eadf4640249758e93a5221df25297",
       "style": "IPY_MODEL_282e3101df3f4908b06aca300202d455",
       "value": "Processing: 100%"
      }
     },
     "c4e195acbb8c46b7b1c90cb76fd3b0e5": {
      "model_module": "@jupyter-widgets/controls",
      "model_module_version": "1.5.0",
      "model_name": "HTMLModel",
      "state": {
       "layout": "IPY_MODEL_d3ccb9463bee467397250bded8fb1a92",
       "style": "IPY_MODEL_46685b02c6c247199bcf5882b6eecc3d",
       "value": " 6/6 [00:24&lt;00:00,  3.90s/it]"
      }
     },
     "c4eeab1f988f429193f6c4a245e8514c": {
      "model_module": "@jupyter-widgets/controls",
      "model_module_version": "1.5.0",
      "model_name": "DescriptionStyleModel",
      "state": {
       "description_width": ""
      }
     },
     "c59c661cf943412c9d7adde8f1851111": {
      "model_module": "@jupyter-widgets/controls",
      "model_module_version": "1.5.0",
      "model_name": "HTMLModel",
      "state": {
       "layout": "IPY_MODEL_9a86a67739d24f0ebda0214ce898de85",
       "style": "IPY_MODEL_43b644f19d8b451b83d4bdc8985047c7",
       "value": " 7/7 [00:18&lt;00:00,  2.19s/it]"
      }
     },
     "c860c9bf70ee45049c50531c2166cc51": {
      "model_module": "@jupyter-widgets/base",
      "model_module_version": "1.2.0",
      "model_name": "LayoutModel",
      "state": {
       "visibility": "hidden"
      }
     },
     "c877bf8acae241198e6ee78356a94ac9": {
      "model_module": "@jupyter-widgets/controls",
      "model_module_version": "1.5.0",
      "model_name": "HTMLModel",
      "state": {
       "layout": "IPY_MODEL_3e1757ad5b804a1aa45c775226e88f19",
       "style": "IPY_MODEL_b086d4623d144b919c3a26a96c0246bf",
       "value": "Processing: 100%"
      }
     },
     "c8e8ba5e2bc340c9aa2a0b5d7a4cadcb": {
      "model_module": "@jupyter-widgets/base",
      "model_module_version": "1.2.0",
      "model_name": "LayoutModel",
      "state": {}
     },
     "cc76ded81a1641dd862a587dd7872346": {
      "model_module": "@jupyter-widgets/controls",
      "model_module_version": "1.5.0",
      "model_name": "DescriptionStyleModel",
      "state": {
       "description_width": ""
      }
     },
     "ce68b4e522c342899209ef42173a1cf9": {
      "model_module": "@jupyter-widgets/base",
      "model_module_version": "1.2.0",
      "model_name": "LayoutModel",
      "state": {}
     },
     "d04bcfff049445b8bae64402d2b46131": {
      "model_module": "@jupyter-widgets/controls",
      "model_module_version": "1.5.0",
      "model_name": "DescriptionStyleModel",
      "state": {
       "description_width": ""
      }
     },
     "d158d3a95ecf4c9d87471398fdb27925": {
      "model_module": "@jupyter-widgets/controls",
      "model_module_version": "1.5.0",
      "model_name": "DescriptionStyleModel",
      "state": {
       "description_width": ""
      }
     },
     "d33f26dc41374bcea9a8f76eeff6ef5a": {
      "model_module": "@jupyter-widgets/controls",
      "model_module_version": "1.5.0",
      "model_name": "DescriptionStyleModel",
      "state": {
       "description_width": ""
      }
     },
     "d3ccb9463bee467397250bded8fb1a92": {
      "model_module": "@jupyter-widgets/base",
      "model_module_version": "1.2.0",
      "model_name": "LayoutModel",
      "state": {}
     },
     "d3e580ade8344151bbef78ff6d4f1a96": {
      "model_module": "@jupyter-widgets/controls",
      "model_module_version": "1.5.0",
      "model_name": "DescriptionStyleModel",
      "state": {
       "description_width": ""
      }
     },
     "d4e8be5b3cb24477b00e0e6d5c78658a": {
      "model_module": "@jupyter-widgets/controls",
      "model_module_version": "1.5.0",
      "model_name": "ProgressStyleModel",
      "state": {
       "description_width": ""
      }
     },
     "d6187e7cb9094064b93a4b56ef4edfb4": {
      "model_module": "@jupyter-widgets/base",
      "model_module_version": "1.2.0",
      "model_name": "LayoutModel",
      "state": {}
     },
     "d8c8ef516c3a45b18b020cd8ef23b100": {
      "model_module": "@jupyter-widgets/controls",
      "model_module_version": "1.5.0",
      "model_name": "DescriptionStyleModel",
      "state": {
       "description_width": ""
      }
     },
     "da1e546a8b834401bd6c8a450bae6840": {
      "model_module": "@jupyter-widgets/base",
      "model_module_version": "1.2.0",
      "model_name": "LayoutModel",
      "state": {}
     },
     "daea9464d115489d8d401763b31bdef4": {
      "model_module": "@jupyter-widgets/base",
      "model_module_version": "1.2.0",
      "model_name": "LayoutModel",
      "state": {}
     },
     "de5c04d8607f49a79f8964cb54b63e3c": {
      "model_module": "@jupyter-widgets/output",
      "model_module_version": "1.0.0",
      "model_name": "OutputModel",
      "state": {
       "layout": "IPY_MODEL_1652303c646d400a9ad8d54d25478a1f",
       "outputs": [
        {
         "ename": "ValueError",
         "evalue": "Estimator [PassiveAggressiveRegressor(random_state=42), ElasticNet(random_state=42), BayesianRidge()] does not have the required fit() method.",
         "output_type": "error",
         "traceback": [
          "\u001b[1;31m---------------------------------------------------------------------------\u001b[0m",
          "\u001b[1;31mValueError\u001b[0m                                Traceback (most recent call last)",
          "File \u001b[1;32m~\\anaconda3\\envs\\pycaret3.0\\lib\\site-packages\\ipywidgets\\widgets\\interaction.py:257\u001b[0m, in \u001b[0;36minteractive.update\u001b[1;34m(self, *args)\u001b[0m\n\u001b[0;32m    255\u001b[0m     value \u001b[38;5;241m=\u001b[39m widget\u001b[38;5;241m.\u001b[39mget_interact_value()\n\u001b[0;32m    256\u001b[0m     \u001b[38;5;28mself\u001b[39m\u001b[38;5;241m.\u001b[39mkwargs[widget\u001b[38;5;241m.\u001b[39m_kwarg] \u001b[38;5;241m=\u001b[39m value\n\u001b[1;32m--> 257\u001b[0m \u001b[38;5;28mself\u001b[39m\u001b[38;5;241m.\u001b[39mresult \u001b[38;5;241m=\u001b[39m \u001b[38;5;28;43mself\u001b[39;49m\u001b[38;5;241;43m.\u001b[39;49m\u001b[43mf\u001b[49m\u001b[43m(\u001b[49m\u001b[38;5;241;43m*\u001b[39;49m\u001b[38;5;241;43m*\u001b[39;49m\u001b[38;5;28;43mself\u001b[39;49m\u001b[38;5;241;43m.\u001b[39;49m\u001b[43mkwargs\u001b[49m\u001b[43m)\u001b[49m\n\u001b[0;32m    258\u001b[0m show_inline_matplotlib_plots()\n\u001b[0;32m    259\u001b[0m \u001b[38;5;28;01mif\u001b[39;00m \u001b[38;5;28mself\u001b[39m\u001b[38;5;241m.\u001b[39mauto_display \u001b[38;5;129;01mand\u001b[39;00m \u001b[38;5;28mself\u001b[39m\u001b[38;5;241m.\u001b[39mresult \u001b[38;5;129;01mis\u001b[39;00m \u001b[38;5;129;01mnot\u001b[39;00m \u001b[38;5;28;01mNone\u001b[39;00m:\n",
          "File \u001b[1;32m~\\anaconda3\\envs\\pycaret3.0\\lib\\site-packages\\pycaret\\internal\\pycaret_experiment\\tabular_experiment.py:401\u001b[0m, in \u001b[0;36m_TabularExperiment._plot_model\u001b[1;34m(self, estimator, plot, scale, save, fold, fit_kwargs, plot_kwargs, groups, feature_name, label, use_train_data, verbose, system, display, display_format)\u001b[0m\n\u001b[0;32m    398\u001b[0m     fit_kwargs \u001b[38;5;241m=\u001b[39m {}\n\u001b[0;32m    400\u001b[0m \u001b[38;5;28;01mif\u001b[39;00m \u001b[38;5;129;01mnot\u001b[39;00m \u001b[38;5;28mhasattr\u001b[39m(estimator, \u001b[38;5;124m\"\u001b[39m\u001b[38;5;124mfit\u001b[39m\u001b[38;5;124m\"\u001b[39m):\n\u001b[1;32m--> 401\u001b[0m     \u001b[38;5;28;01mraise\u001b[39;00m \u001b[38;5;167;01mValueError\u001b[39;00m(\n\u001b[0;32m    402\u001b[0m         \u001b[38;5;124mf\u001b[39m\u001b[38;5;124m\"\u001b[39m\u001b[38;5;124mEstimator \u001b[39m\u001b[38;5;132;01m{\u001b[39;00mestimator\u001b[38;5;132;01m}\u001b[39;00m\u001b[38;5;124m does not have the required fit() method.\u001b[39m\u001b[38;5;124m\"\u001b[39m\n\u001b[0;32m    403\u001b[0m     )\n\u001b[0;32m    405\u001b[0m \u001b[38;5;28;01mif\u001b[39;00m plot \u001b[38;5;129;01mnot\u001b[39;00m \u001b[38;5;129;01min\u001b[39;00m \u001b[38;5;28mself\u001b[39m\u001b[38;5;241m.\u001b[39m_available_plots:\n\u001b[0;32m    406\u001b[0m     \u001b[38;5;28;01mraise\u001b[39;00m \u001b[38;5;167;01mValueError\u001b[39;00m(\n\u001b[0;32m    407\u001b[0m         \u001b[38;5;124m\"\u001b[39m\u001b[38;5;124mPlot Not Available. Please see docstring for list of available Plots.\u001b[39m\u001b[38;5;124m\"\u001b[39m\n\u001b[0;32m    408\u001b[0m     )\n",
          "\u001b[1;31mValueError\u001b[0m: Estimator [PassiveAggressiveRegressor(random_state=42), ElasticNet(random_state=42), BayesianRidge()] does not have the required fit() method."
         ]
        }
       ]
      }
     },
     "de5d396b0f944912a62a747a10bfb782": {
      "model_module": "@jupyter-widgets/base",
      "model_module_version": "1.2.0",
      "model_name": "LayoutModel",
      "state": {}
     },
     "e03d2f0dd0c34bdba03a5b4d7f9e6302": {
      "model_module": "@jupyter-widgets/controls",
      "model_module_version": "1.5.0",
      "model_name": "FloatProgressModel",
      "state": {
       "layout": "IPY_MODEL_87236b5f30964cfcaf8d105be0d09ba8",
       "max": 6,
       "style": "IPY_MODEL_fda57a0b296c4785a69becbe4a368509",
       "value": 6
      }
     },
     "e1f3c1c04d8b497bae95fde69a4b5ba7": {
      "model_module": "@jupyter-widgets/controls",
      "model_module_version": "1.5.0",
      "model_name": "DescriptionStyleModel",
      "state": {
       "description_width": ""
      }
     },
     "e3399e63387e46fe9f3250757ab83e35": {
      "model_module": "@jupyter-widgets/base",
      "model_module_version": "1.2.0",
      "model_name": "LayoutModel",
      "state": {}
     },
     "e44980213982482b9b04925c6105345e": {
      "model_module": "@jupyter-widgets/base",
      "model_module_version": "1.2.0",
      "model_name": "LayoutModel",
      "state": {}
     },
     "e5b95a76f57b427784a9e6220e120244": {
      "model_module": "@jupyter-widgets/controls",
      "model_module_version": "1.5.0",
      "model_name": "HTMLModel",
      "state": {
       "layout": "IPY_MODEL_2c5b7ea175724f558ada2b32e53084b8",
       "style": "IPY_MODEL_2889e45b8bf943adb9c4036aa65f3b6c",
       "value": " 6/6 [00:05&lt;00:00,  1.08it/s]"
      }
     },
     "e70fd36eabd249e1a8a00d6ff47d305c": {
      "model_module": "@jupyter-widgets/controls",
      "model_module_version": "1.5.0",
      "model_name": "DescriptionStyleModel",
      "state": {
       "description_width": ""
      }
     },
     "e80ad70ec3924028b4b0bf4a253d550f": {
      "model_module": "@jupyter-widgets/base",
      "model_module_version": "1.2.0",
      "model_name": "LayoutModel",
      "state": {}
     },
     "eba175f78bb844eb933cf68ba7b6b0d8": {
      "model_module": "@jupyter-widgets/base",
      "model_module_version": "1.2.0",
      "model_name": "LayoutModel",
      "state": {}
     },
     "ee294b495baf4c7182a5c51860057e00": {
      "model_module": "@jupyter-widgets/controls",
      "model_module_version": "1.5.0",
      "model_name": "HTMLModel",
      "state": {
       "layout": "IPY_MODEL_093ceaaf0bba4c7e90009b278327e017",
       "style": "IPY_MODEL_36d5a108b25c4b71a871ea644d937134",
       "value": "Processing: 100%"
      }
     },
     "ee4121a7a8ef464f8b959bcd98b28d5a": {
      "model_module": "@jupyter-widgets/base",
      "model_module_version": "1.2.0",
      "model_name": "LayoutModel",
      "state": {
       "visibility": "hidden"
      }
     },
     "ee91e139366a44ec8d3f082a74d3c127": {
      "model_module": "@jupyter-widgets/controls",
      "model_module_version": "1.5.0",
      "model_name": "DescriptionStyleModel",
      "state": {
       "description_width": ""
      }
     },
     "f0318f2cfdfb4a6cac32d688a3a57858": {
      "model_module": "@jupyter-widgets/base",
      "model_module_version": "1.2.0",
      "model_name": "LayoutModel",
      "state": {
       "visibility": "hidden"
      }
     },
     "f0c3e031f5dd4032a02d67184ec08031": {
      "model_module": "@jupyter-widgets/base",
      "model_module_version": "1.2.0",
      "model_name": "LayoutModel",
      "state": {}
     },
     "f278f648ed7243e6b53073fa1eb37c68": {
      "model_module": "@jupyter-widgets/controls",
      "model_module_version": "1.5.0",
      "model_name": "VBoxModel",
      "state": {
       "_dom_classes": [
        "widget-interact"
       ],
       "children": [
        "IPY_MODEL_1e86e80f85264e5c8f55134b025dbe2f",
        "IPY_MODEL_ff0aabe749324991933598efcc69f020"
       ],
       "layout": "IPY_MODEL_ce68b4e522c342899209ef42173a1cf9"
      }
     },
     "f2a44de38db34587875de1cb14dda521": {
      "model_module": "@jupyter-widgets/controls",
      "model_module_version": "1.5.0",
      "model_name": "HTMLModel",
      "state": {
       "layout": "IPY_MODEL_c8e8ba5e2bc340c9aa2a0b5d7a4cadcb",
       "style": "IPY_MODEL_d33f26dc41374bcea9a8f76eeff6ef5a",
       "value": "Processing: 100%"
      }
     },
     "f35c1b81efe54c94b575107bc0b2ddae": {
      "model_module": "@jupyter-widgets/controls",
      "model_module_version": "1.5.0",
      "model_name": "FloatProgressModel",
      "state": {
       "layout": "IPY_MODEL_f427e7b25ca949af8119017198ef0858",
       "max": 7,
       "style": "IPY_MODEL_d4e8be5b3cb24477b00e0e6d5c78658a",
       "value": 7
      }
     },
     "f427e7b25ca949af8119017198ef0858": {
      "model_module": "@jupyter-widgets/base",
      "model_module_version": "1.2.0",
      "model_name": "LayoutModel",
      "state": {}
     },
     "f436f74cc9f14c17a0418dbcf75fb396": {
      "model_module": "@jupyter-widgets/controls",
      "model_module_version": "1.5.0",
      "model_name": "DescriptionStyleModel",
      "state": {
       "description_width": ""
      }
     },
     "f4fc81367d364b38a3adc2ff8838c3cd": {
      "model_module": "@jupyter-widgets/controls",
      "model_module_version": "1.5.0",
      "model_name": "ProgressStyleModel",
      "state": {
       "description_width": ""
      }
     },
     "f603444f454841749bf544220ad71465": {
      "model_module": "@jupyter-widgets/controls",
      "model_module_version": "1.5.0",
      "model_name": "DescriptionStyleModel",
      "state": {
       "description_width": ""
      }
     },
     "f9420a8c40764f509075f22cc6f29432": {
      "model_module": "@jupyter-widgets/base",
      "model_module_version": "1.2.0",
      "model_name": "LayoutModel",
      "state": {}
     },
     "f9efc0ac7db243bf9925507b0f1a02c4": {
      "buffers": [
       {
        "data": "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",
        "encoding": "base64",
        "path": [
         "_data",
         0,
         "x",
         "value"
        ]
       },
       {
        "data": "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",
        "encoding": "base64",
        "path": [
         "_data",
         0,
         "y",
         "value"
        ]
       },
       {
        "data": "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",
        "encoding": "base64",
        "path": [
         "_data",
         1,
         "x",
         "value"
        ]
       },
       {
        "data": "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",
        "encoding": "base64",
        "path": [
         "_data",
         1,
         "y",
         "value"
        ]
       },
       {
        "data": "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",
        "encoding": "base64",
        "path": [
         "_data",
         2,
         "x",
         "value"
        ]
       },
       {
        "data": "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",
        "encoding": "base64",
        "path": [
         "_data",
         2,
         "y",
         "value"
        ]
       },
       {
        "data": "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",
        "encoding": "base64",
        "path": [
         "_data",
         3,
         "x",
         "value"
        ]
       },
       {
        "data": "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",
        "encoding": "base64",
        "path": [
         "_data",
         3,
         "y",
         "value"
        ]
       }
      ],
      "model_module": "jupyterlab-plotly",
      "model_module_version": "^5.9.0",
      "model_name": "FigureModel",
      "state": {
       "_config": {
        "plotlyServerURL": "https://plot.ly"
       },
       "_data": [
        {
         "hovertemplate": "Split=train<br>Predictions=%{x}<br>Standardized Residuals^1/2=%{y}<extra></extra>",
         "legendgroup": "train",
         "marker": {
          "color": "blue",
          "opacity": 0.3,
          "symbol": "circle"
         },
         "mode": "markers",
         "name": "train",
         "showlegend": true,
         "type": "scattergl",
         "uid": "00833905-379e-4926-9d1b-4d9d6e2b4e48",
         "x": {
          "dtype": "float64",
          "shape": [
           1021
          ]
         },
         "xaxis": "x",
         "y": {
          "dtype": "float64",
          "shape": [
           1021
          ]
         },
         "yaxis": "y"
        },
        {
         "hovertemplate": "<b>LOWESS trendline</b><br><br>Split=train<br>Predictions=%{x}<br>Standardized Residuals^1/2=%{y} <b>(trend)</b><extra></extra>",
         "legendgroup": "train",
         "marker": {
          "color": "blue",
          "symbol": "circle"
         },
         "mode": "lines",
         "name": "train",
         "showlegend": false,
         "type": "scattergl",
         "uid": "687446b9-23b1-45e0-b391-73e139391b6d",
         "x": {
          "dtype": "float64",
          "shape": [
           1021
          ]
         },
         "xaxis": "x",
         "y": {
          "dtype": "float64",
          "shape": [
           1021
          ]
         },
         "yaxis": "y"
        },
        {
         "hovertemplate": "Split=test<br>Predictions=%{x}<br>Standardized Residuals^1/2=%{y}<extra></extra>",
         "legendgroup": "test",
         "marker": {
          "color": "green",
          "opacity": 0.3,
          "symbol": "circle"
         },
         "mode": "markers",
         "name": "test",
         "showlegend": true,
         "type": "scattergl",
         "uid": "db9ae898-d3b0-4248-bb52-2092e35fbe4c",
         "x": {
          "dtype": "float64",
          "shape": [
           439
          ]
         },
         "xaxis": "x",
         "y": {
          "dtype": "float64",
          "shape": [
           439
          ]
         },
         "yaxis": "y"
        },
        {
         "hovertemplate": "<b>LOWESS trendline</b><br><br>Split=test<br>Predictions=%{x}<br>Standardized Residuals^1/2=%{y} <b>(trend)</b><extra></extra>",
         "legendgroup": "test",
         "marker": {
          "color": "green",
          "symbol": "circle"
         },
         "mode": "lines",
         "name": "test",
         "showlegend": false,
         "type": "scattergl",
         "uid": "c7b0ae0c-4792-42b3-90b2-89e6062f7383",
         "x": {
          "dtype": "float64",
          "shape": [
           439
          ]
         },
         "xaxis": "x",
         "y": {
          "dtype": "float64",
          "shape": [
           439
          ]
         },
         "yaxis": "y"
        }
       ],
       "_js2py_pointsCallback": {},
       "_js2py_restyle": {},
       "_js2py_update": {},
       "_last_layout_edit_id": 1,
       "_layout": {
        "annotations": [
         {
          "arrowhead": 7,
          "ax": 0,
          "ay": -40,
          "showarrow": true,
          "text": "~r_348^1/2",
          "x": 636457.8184198112,
          "xref": "x",
          "y": 3.8507765879057416,
          "yref": "y"
         },
         {
          "arrowhead": 7,
          "ax": 0,
          "ay": -40,
          "showarrow": true,
          "text": "~r_26^1/2",
          "x": 424149.43700966425,
          "xref": "x",
          "y": 3.160003112704938,
          "yref": "y"
         },
         {
          "arrowhead": 7,
          "ax": 0,
          "ay": -40,
          "showarrow": true,
          "text": "~r_1160^1/2",
          "x": 468129.4185356685,
          "xref": "x",
          "y": 2.987989827853902,
          "yref": "y"
         }
        ],
        "autosize": true,
        "legend": {
         "title": {
          "text": "Split"
         },
         "tracegroupgap": 0
        },
        "showlegend": false,
        "template": {
         "data": {
          "bar": [
           {
            "error_x": {
             "color": "#2a3f5f"
            },
            "error_y": {
             "color": "#2a3f5f"
            },
            "marker": {
             "line": {
              "color": "#E5ECF6",
              "width": 0.5
             },
             "pattern": {
              "fillmode": "overlay",
              "size": 10,
              "solidity": 0.2
             }
            },
            "type": "bar"
           }
          ],
          "barpolar": [
           {
            "marker": {
             "line": {
              "color": "#E5ECF6",
              "width": 0.5
             },
             "pattern": {
              "fillmode": "overlay",
              "size": 10,
              "solidity": 0.2
             }
            },
            "type": "barpolar"
           }
          ],
          "carpet": [
           {
            "aaxis": {
             "endlinecolor": "#2a3f5f",
             "gridcolor": "white",
             "linecolor": "white",
             "minorgridcolor": "white",
             "startlinecolor": "#2a3f5f"
            },
            "baxis": {
             "endlinecolor": "#2a3f5f",
             "gridcolor": "white",
             "linecolor": "white",
             "minorgridcolor": "white",
             "startlinecolor": "#2a3f5f"
            },
            "type": "carpet"
           }
          ],
          "choropleth": [
           {
            "colorbar": {
             "outlinewidth": 0,
             "ticks": ""
            },
            "type": "choropleth"
           }
          ],
          "contour": [
           {
            "colorbar": {
             "outlinewidth": 0,
             "ticks": ""
            },
            "colorscale": [
             [
              0,
              "#0d0887"
             ],
             [
              0.1111111111111111,
              "#46039f"
             ],
             [
              0.2222222222222222,
              "#7201a8"
             ],
             [
              0.3333333333333333,
              "#9c179e"
             ],
             [
              0.4444444444444444,
              "#bd3786"
             ],
             [
              0.5555555555555556,
              "#d8576b"
             ],
             [
              0.6666666666666666,
              "#ed7953"
             ],
             [
              0.7777777777777778,
              "#fb9f3a"
             ],
             [
              0.8888888888888888,
              "#fdca26"
             ],
             [
              1,
              "#f0f921"
             ]
            ],
            "type": "contour"
           }
          ],
          "contourcarpet": [
           {
            "colorbar": {
             "outlinewidth": 0,
             "ticks": ""
            },
            "type": "contourcarpet"
           }
          ],
          "heatmap": [
           {
            "colorbar": {
             "outlinewidth": 0,
             "ticks": ""
            },
            "colorscale": [
             [
              0,
              "#0d0887"
             ],
             [
              0.1111111111111111,
              "#46039f"
             ],
             [
              0.2222222222222222,
              "#7201a8"
             ],
             [
              0.3333333333333333,
              "#9c179e"
             ],
             [
              0.4444444444444444,
              "#bd3786"
             ],
             [
              0.5555555555555556,
              "#d8576b"
             ],
             [
              0.6666666666666666,
              "#ed7953"
             ],
             [
              0.7777777777777778,
              "#fb9f3a"
             ],
             [
              0.8888888888888888,
              "#fdca26"
             ],
             [
              1,
              "#f0f921"
             ]
            ],
            "type": "heatmap"
           }
          ],
          "heatmapgl": [
           {
            "colorbar": {
             "outlinewidth": 0,
             "ticks": ""
            },
            "colorscale": [
             [
              0,
              "#0d0887"
             ],
             [
              0.1111111111111111,
              "#46039f"
             ],
             [
              0.2222222222222222,
              "#7201a8"
             ],
             [
              0.3333333333333333,
              "#9c179e"
             ],
             [
              0.4444444444444444,
              "#bd3786"
             ],
             [
              0.5555555555555556,
              "#d8576b"
             ],
             [
              0.6666666666666666,
              "#ed7953"
             ],
             [
              0.7777777777777778,
              "#fb9f3a"
             ],
             [
              0.8888888888888888,
              "#fdca26"
             ],
             [
              1,
              "#f0f921"
             ]
            ],
            "type": "heatmapgl"
           }
          ],
          "histogram": [
           {
            "marker": {
             "pattern": {
              "fillmode": "overlay",
              "size": 10,
              "solidity": 0.2
             }
            },
            "type": "histogram"
           }
          ],
          "histogram2d": [
           {
            "colorbar": {
             "outlinewidth": 0,
             "ticks": ""
            },
            "colorscale": [
             [
              0,
              "#0d0887"
             ],
             [
              0.1111111111111111,
              "#46039f"
             ],
             [
              0.2222222222222222,
              "#7201a8"
             ],
             [
              0.3333333333333333,
              "#9c179e"
             ],
             [
              0.4444444444444444,
              "#bd3786"
             ],
             [
              0.5555555555555556,
              "#d8576b"
             ],
             [
              0.6666666666666666,
              "#ed7953"
             ],
             [
              0.7777777777777778,
              "#fb9f3a"
             ],
             [
              0.8888888888888888,
              "#fdca26"
             ],
             [
              1,
              "#f0f921"
             ]
            ],
            "type": "histogram2d"
           }
          ],
          "histogram2dcontour": [
           {
            "colorbar": {
             "outlinewidth": 0,
             "ticks": ""
            },
            "colorscale": [
             [
              0,
              "#0d0887"
             ],
             [
              0.1111111111111111,
              "#46039f"
             ],
             [
              0.2222222222222222,
              "#7201a8"
             ],
             [
              0.3333333333333333,
              "#9c179e"
             ],
             [
              0.4444444444444444,
              "#bd3786"
             ],
             [
              0.5555555555555556,
              "#d8576b"
             ],
             [
              0.6666666666666666,
              "#ed7953"
             ],
             [
              0.7777777777777778,
              "#fb9f3a"
             ],
             [
              0.8888888888888888,
              "#fdca26"
             ],
             [
              1,
              "#f0f921"
             ]
            ],
            "type": "histogram2dcontour"
           }
          ],
          "mesh3d": [
           {
            "colorbar": {
             "outlinewidth": 0,
             "ticks": ""
            },
            "type": "mesh3d"
           }
          ],
          "parcoords": [
           {
            "line": {
             "colorbar": {
              "outlinewidth": 0,
              "ticks": ""
             }
            },
            "type": "parcoords"
           }
          ],
          "pie": [
           {
            "automargin": true,
            "type": "pie"
           }
          ],
          "scatter": [
           {
            "fillpattern": {
             "fillmode": "overlay",
             "size": 10,
             "solidity": 0.2
            },
            "type": "scatter"
           }
          ],
          "scatter3d": [
           {
            "line": {
             "colorbar": {
              "outlinewidth": 0,
              "ticks": ""
             }
            },
            "marker": {
             "colorbar": {
              "outlinewidth": 0,
              "ticks": ""
             }
            },
            "type": "scatter3d"
           }
          ],
          "scattercarpet": [
           {
            "marker": {
             "colorbar": {
              "outlinewidth": 0,
              "ticks": ""
             }
            },
            "type": "scattercarpet"
           }
          ],
          "scattergeo": [
           {
            "marker": {
             "colorbar": {
              "outlinewidth": 0,
              "ticks": ""
             }
            },
            "type": "scattergeo"
           }
          ],
          "scattergl": [
           {
            "marker": {
             "colorbar": {
              "outlinewidth": 0,
              "ticks": ""
             }
            },
            "type": "scattergl"
           }
          ],
          "scattermapbox": [
           {
            "marker": {
             "colorbar": {
              "outlinewidth": 0,
              "ticks": ""
             }
            },
            "type": "scattermapbox"
           }
          ],
          "scatterpolar": [
           {
            "marker": {
             "colorbar": {
              "outlinewidth": 0,
              "ticks": ""
             }
            },
            "type": "scatterpolar"
           }
          ],
          "scatterpolargl": [
           {
            "marker": {
             "colorbar": {
              "outlinewidth": 0,
              "ticks": ""
             }
            },
            "type": "scatterpolargl"
           }
          ],
          "scatterternary": [
           {
            "marker": {
             "colorbar": {
              "outlinewidth": 0,
              "ticks": ""
             }
            },
            "type": "scatterternary"
           }
          ],
          "surface": [
           {
            "colorbar": {
             "outlinewidth": 0,
             "ticks": ""
            },
            "colorscale": [
             [
              0,
              "#0d0887"
             ],
             [
              0.1111111111111111,
              "#46039f"
             ],
             [
              0.2222222222222222,
              "#7201a8"
             ],
             [
              0.3333333333333333,
              "#9c179e"
             ],
             [
              0.4444444444444444,
              "#bd3786"
             ],
             [
              0.5555555555555556,
              "#d8576b"
             ],
             [
              0.6666666666666666,
              "#ed7953"
             ],
             [
              0.7777777777777778,
              "#fb9f3a"
             ],
             [
              0.8888888888888888,
              "#fdca26"
             ],
             [
              1,
              "#f0f921"
             ]
            ],
            "type": "surface"
           }
          ],
          "table": [
           {
            "cells": {
             "fill": {
              "color": "#EBF0F8"
             },
             "line": {
              "color": "white"
             }
            },
            "header": {
             "fill": {
              "color": "#C8D4E3"
             },
             "line": {
              "color": "white"
             }
            },
            "type": "table"
           }
          ]
         },
         "layout": {
          "annotationdefaults": {
           "arrowcolor": "#2a3f5f",
           "arrowhead": 0,
           "arrowwidth": 1
          },
          "autotypenumbers": "strict",
          "coloraxis": {
           "colorbar": {
            "outlinewidth": 0,
            "ticks": ""
           }
          },
          "colorscale": {
           "diverging": [
            [
             0,
             "#8e0152"
            ],
            [
             0.1,
             "#c51b7d"
            ],
            [
             0.2,
             "#de77ae"
            ],
            [
             0.3,
             "#f1b6da"
            ],
            [
             0.4,
             "#fde0ef"
            ],
            [
             0.5,
             "#f7f7f7"
            ],
            [
             0.6,
             "#e6f5d0"
            ],
            [
             0.7,
             "#b8e186"
            ],
            [
             0.8,
             "#7fbc41"
            ],
            [
             0.9,
             "#4d9221"
            ],
            [
             1,
             "#276419"
            ]
           ],
           "sequential": [
            [
             0,
             "#0d0887"
            ],
            [
             0.1111111111111111,
             "#46039f"
            ],
            [
             0.2222222222222222,
             "#7201a8"
            ],
            [
             0.3333333333333333,
             "#9c179e"
            ],
            [
             0.4444444444444444,
             "#bd3786"
            ],
            [
             0.5555555555555556,
             "#d8576b"
            ],
            [
             0.6666666666666666,
             "#ed7953"
            ],
            [
             0.7777777777777778,
             "#fb9f3a"
            ],
            [
             0.8888888888888888,
             "#fdca26"
            ],
            [
             1,
             "#f0f921"
            ]
           ],
           "sequentialminus": [
            [
             0,
             "#0d0887"
            ],
            [
             0.1111111111111111,
             "#46039f"
            ],
            [
             0.2222222222222222,
             "#7201a8"
            ],
            [
             0.3333333333333333,
             "#9c179e"
            ],
            [
             0.4444444444444444,
             "#bd3786"
            ],
            [
             0.5555555555555556,
             "#d8576b"
            ],
            [
             0.6666666666666666,
             "#ed7953"
            ],
            [
             0.7777777777777778,
             "#fb9f3a"
            ],
            [
             0.8888888888888888,
             "#fdca26"
            ],
            [
             1,
             "#f0f921"
            ]
           ]
          },
          "colorway": [
           "#636efa",
           "#EF553B",
           "#00cc96",
           "#ab63fa",
           "#FFA15A",
           "#19d3f3",
           "#FF6692",
           "#B6E880",
           "#FF97FF",
           "#FECB52"
          ],
          "font": {
           "color": "#2a3f5f"
          },
          "geo": {
           "bgcolor": "white",
           "lakecolor": "white",
           "landcolor": "#E5ECF6",
           "showlakes": true,
           "showland": true,
           "subunitcolor": "white"
          },
          "hoverlabel": {
           "align": "left"
          },
          "hovermode": "closest",
          "mapbox": {
           "style": "light"
          },
          "paper_bgcolor": "white",
          "plot_bgcolor": "#E5ECF6",
          "polar": {
           "angularaxis": {
            "gridcolor": "white",
            "linecolor": "white",
            "ticks": ""
           },
           "bgcolor": "#E5ECF6",
           "radialaxis": {
            "gridcolor": "white",
            "linecolor": "white",
            "ticks": ""
           }
          },
          "scene": {
           "xaxis": {
            "backgroundcolor": "#E5ECF6",
            "gridcolor": "white",
            "gridwidth": 2,
            "linecolor": "white",
            "showbackground": true,
            "ticks": "",
            "zerolinecolor": "white"
           },
           "yaxis": {
            "backgroundcolor": "#E5ECF6",
            "gridcolor": "white",
            "gridwidth": 2,
            "linecolor": "white",
            "showbackground": true,
            "ticks": "",
            "zerolinecolor": "white"
           },
           "zaxis": {
            "backgroundcolor": "#E5ECF6",
            "gridcolor": "white",
            "gridwidth": 2,
            "linecolor": "white",
            "showbackground": true,
            "ticks": "",
            "zerolinecolor": "white"
           }
          },
          "shapedefaults": {
           "line": {
            "color": "#2a3f5f"
           }
          },
          "ternary": {
           "aaxis": {
            "gridcolor": "white",
            "linecolor": "white",
            "ticks": ""
           },
           "baxis": {
            "gridcolor": "white",
            "linecolor": "white",
            "ticks": ""
           },
           "bgcolor": "#E5ECF6",
           "caxis": {
            "gridcolor": "white",
            "linecolor": "white",
            "ticks": ""
           }
          },
          "title": {
           "x": 0.05
          },
          "xaxis": {
           "automargin": true,
           "gridcolor": "white",
           "linecolor": "white",
           "ticks": "",
           "title": {
            "standoff": 15
           },
           "zerolinecolor": "white",
           "zerolinewidth": 2
          },
          "yaxis": {
           "automargin": true,
           "gridcolor": "white",
           "linecolor": "white",
           "ticks": "",
           "title": {
            "standoff": 15
           },
           "zerolinecolor": "white",
           "zerolinewidth": 2
          }
         }
        },
        "title": {
         "text": "Scale-Location Plot"
        },
        "xaxis": {
         "anchor": "y",
         "domain": [
          0,
          1
         ],
         "title": {
          "text": "Predictions"
         }
        },
        "yaxis": {
         "anchor": "x",
         "domain": [
          0,
          1
         ],
         "title": {
          "text": "Standardized Residuals^1/2"
         }
        }
       },
       "_py2js_addTraces": {},
       "_py2js_animate": {},
       "_py2js_deleteTraces": {},
       "_py2js_moveTraces": {},
       "_py2js_removeLayoutProps": {},
       "_py2js_removeTraceProps": {},
       "_py2js_restyle": {},
       "_py2js_update": {},
       "_view_count": 0
      }
     },
     "fa06e2e4d3484800a524ef62917a4afc": {
      "model_module": "@jupyter-widgets/base",
      "model_module_version": "1.2.0",
      "model_name": "LayoutModel",
      "state": {}
     },
     "fa16f7387d12436fa52ad819828b83fc": {
      "model_module": "@jupyter-widgets/controls",
      "model_module_version": "1.5.0",
      "model_name": "HTMLModel",
      "state": {
       "layout": "IPY_MODEL_399377e54db1404b9486795c3c9485ba",
       "style": "IPY_MODEL_f603444f454841749bf544220ad71465",
       "value": "Processing: 100%"
      }
     },
     "fa4bb16a7b454f1d8fa6077f582f1951": {
      "model_module": "@jupyter-widgets/base",
      "model_module_version": "1.2.0",
      "model_name": "LayoutModel",
      "state": {}
     },
     "fbb9c8945d3b4d6287dacc812aba01d6": {
      "model_module": "@jupyter-widgets/controls",
      "model_module_version": "1.5.0",
      "model_name": "HTMLModel",
      "state": {
       "layout": "IPY_MODEL_6d27000b78384080b57ee6b0a288a6c8",
       "style": "IPY_MODEL_092dcd79ebdd4e9097f950bcefb1f517",
       "value": "Processing: 100%"
      }
     },
     "fca486a2a51046d19f039001921f12c7": {
      "model_module": "@jupyter-widgets/base",
      "model_module_version": "1.2.0",
      "model_name": "LayoutModel",
      "state": {
       "visibility": "hidden"
      }
     },
     "fcc0932da1524eb7b642289dcb177d04": {
      "model_module": "@jupyter-widgets/controls",
      "model_module_version": "1.5.0",
      "model_name": "HBoxModel",
      "state": {
       "children": [
        "IPY_MODEL_f9efc0ac7db243bf9925507b0f1a02c4",
        "IPY_MODEL_3b2ca56b37df4158843f76bd834dca27"
       ],
       "layout": "IPY_MODEL_9c8fb464ea3348a38c8e1743e230c9e2"
      }
     },
     "fd25754fbc344cd5a7ff4f183f1ea86c": {
      "model_module": "@jupyter-widgets/base",
      "model_module_version": "1.2.0",
      "model_name": "LayoutModel",
      "state": {
       "visibility": "hidden"
      }
     },
     "fd8a40dc848946b7a02c7a01020cfe3b": {
      "model_module": "@jupyter-widgets/base",
      "model_module_version": "1.2.0",
      "model_name": "LayoutModel",
      "state": {}
     },
     "fda57a0b296c4785a69becbe4a368509": {
      "model_module": "@jupyter-widgets/controls",
      "model_module_version": "1.5.0",
      "model_name": "ProgressStyleModel",
      "state": {
       "description_width": ""
      }
     },
     "fe80231306204679ac5c8421721bc3d8": {
      "model_module": "@jupyter-widgets/controls",
      "model_module_version": "1.5.0",
      "model_name": "DescriptionStyleModel",
      "state": {
       "description_width": ""
      }
     },
     "ff0aabe749324991933598efcc69f020": {
      "model_module": "@jupyter-widgets/output",
      "model_module_version": "1.0.0",
      "model_name": "OutputModel",
      "state": {
       "layout": "IPY_MODEL_1827fac22c254568a31caf7f68c5b13f",
       "outputs": [
        {
         "ename": "ValueError",
         "evalue": "Estimator [PassiveAggressiveRegressor(random_state=42), ElasticNet(random_state=42), BayesianRidge()] does not have the required fit() method.",
         "output_type": "error",
         "traceback": [
          "\u001b[1;31m---------------------------------------------------------------------------\u001b[0m",
          "\u001b[1;31mValueError\u001b[0m                                Traceback (most recent call last)",
          "File \u001b[1;32m~\\anaconda3\\envs\\pycaret3.0\\lib\\site-packages\\ipywidgets\\widgets\\interaction.py:257\u001b[0m, in \u001b[0;36minteractive.update\u001b[1;34m(self, *args)\u001b[0m\n\u001b[0;32m    255\u001b[0m     value \u001b[38;5;241m=\u001b[39m widget\u001b[38;5;241m.\u001b[39mget_interact_value()\n\u001b[0;32m    256\u001b[0m     \u001b[38;5;28mself\u001b[39m\u001b[38;5;241m.\u001b[39mkwargs[widget\u001b[38;5;241m.\u001b[39m_kwarg] \u001b[38;5;241m=\u001b[39m value\n\u001b[1;32m--> 257\u001b[0m \u001b[38;5;28mself\u001b[39m\u001b[38;5;241m.\u001b[39mresult \u001b[38;5;241m=\u001b[39m \u001b[38;5;28;43mself\u001b[39;49m\u001b[38;5;241;43m.\u001b[39;49m\u001b[43mf\u001b[49m\u001b[43m(\u001b[49m\u001b[38;5;241;43m*\u001b[39;49m\u001b[38;5;241;43m*\u001b[39;49m\u001b[38;5;28;43mself\u001b[39;49m\u001b[38;5;241;43m.\u001b[39;49m\u001b[43mkwargs\u001b[49m\u001b[43m)\u001b[49m\n\u001b[0;32m    258\u001b[0m show_inline_matplotlib_plots()\n\u001b[0;32m    259\u001b[0m \u001b[38;5;28;01mif\u001b[39;00m \u001b[38;5;28mself\u001b[39m\u001b[38;5;241m.\u001b[39mauto_display \u001b[38;5;129;01mand\u001b[39;00m \u001b[38;5;28mself\u001b[39m\u001b[38;5;241m.\u001b[39mresult \u001b[38;5;129;01mis\u001b[39;00m \u001b[38;5;129;01mnot\u001b[39;00m \u001b[38;5;28;01mNone\u001b[39;00m:\n",
          "File \u001b[1;32m~\\anaconda3\\envs\\pycaret3.0\\lib\\site-packages\\pycaret\\internal\\pycaret_experiment\\tabular_experiment.py:401\u001b[0m, in \u001b[0;36m_TabularExperiment._plot_model\u001b[1;34m(self, estimator, plot, scale, save, fold, fit_kwargs, plot_kwargs, groups, feature_name, label, use_train_data, verbose, system, display, display_format)\u001b[0m\n\u001b[0;32m    398\u001b[0m     fit_kwargs \u001b[38;5;241m=\u001b[39m {}\n\u001b[0;32m    400\u001b[0m \u001b[38;5;28;01mif\u001b[39;00m \u001b[38;5;129;01mnot\u001b[39;00m \u001b[38;5;28mhasattr\u001b[39m(estimator, \u001b[38;5;124m\"\u001b[39m\u001b[38;5;124mfit\u001b[39m\u001b[38;5;124m\"\u001b[39m):\n\u001b[1;32m--> 401\u001b[0m     \u001b[38;5;28;01mraise\u001b[39;00m \u001b[38;5;167;01mValueError\u001b[39;00m(\n\u001b[0;32m    402\u001b[0m         \u001b[38;5;124mf\u001b[39m\u001b[38;5;124m\"\u001b[39m\u001b[38;5;124mEstimator \u001b[39m\u001b[38;5;132;01m{\u001b[39;00mestimator\u001b[38;5;132;01m}\u001b[39;00m\u001b[38;5;124m does not have the required fit() method.\u001b[39m\u001b[38;5;124m\"\u001b[39m\n\u001b[0;32m    403\u001b[0m     )\n\u001b[0;32m    405\u001b[0m \u001b[38;5;28;01mif\u001b[39;00m plot \u001b[38;5;129;01mnot\u001b[39;00m \u001b[38;5;129;01min\u001b[39;00m \u001b[38;5;28mself\u001b[39m\u001b[38;5;241m.\u001b[39m_available_plots:\n\u001b[0;32m    406\u001b[0m     \u001b[38;5;28;01mraise\u001b[39;00m \u001b[38;5;167;01mValueError\u001b[39;00m(\n\u001b[0;32m    407\u001b[0m         \u001b[38;5;124m\"\u001b[39m\u001b[38;5;124mPlot Not Available. Please see docstring for list of available Plots.\u001b[39m\u001b[38;5;124m\"\u001b[39m\n\u001b[0;32m    408\u001b[0m     )\n",
          "\u001b[1;31mValueError\u001b[0m: Estimator [PassiveAggressiveRegressor(random_state=42), ElasticNet(random_state=42), BayesianRidge()] does not have the required fit() method."
         ]
        }
       ]
      }
     }
    },
    "version_major": 2,
    "version_minor": 0
   }
  }
 },
 "nbformat": 4,
 "nbformat_minor": 5
}
